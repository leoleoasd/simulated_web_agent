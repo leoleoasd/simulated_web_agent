{
 "cells": [
  {
   "cell_type": "code",
   "execution_count": null,
   "metadata": {},
   "outputs": [],
   "source": [
    "import logging, json\n",
    "from os.path import abspath, dirname, join\n",
    "from collections import defaultdict\n",
    "from tqdm.auto import tqdm\n",
    "from pyserini.search.lucene import LuceneSearcher\n",
    "\n",
    "import os\n",
    "import re\n",
    "import json\n",
    "import random\n",
    "from collections import defaultdict\n",
    "from ast import literal_eval\n",
    "from decimal import Decimal\n",
    "\n",
    "logger = logging.getLogger(__name__)\n",
    "\n",
    "\n",
    "BASE_DIR = \"/home/leo/code/webshop\"\n",
    "DEBUG_PROD_SIZE = 1000  # set to `None` to disable\n",
    "\n",
    "DEFAULT_ATTR_PATH = join(BASE_DIR, \"data/items_ins_v2_1000.json\")\n",
    "DEFAULT_FILE_PATH = join(BASE_DIR, \"data/items_shuffle_1000.json\")\n",
    "DEFAULT_REVIEW_PATH = join(BASE_DIR, \"data/reviews.json\")\n",
    "\n",
    "FEAT_CONV = join(BASE_DIR, \"data/feat_conv.pt\")\n",
    "FEAT_IDS = join(BASE_DIR, \"data/feat_ids.pt\")\n",
    "\n",
    "HUMAN_ATTR_PATH = join(BASE_DIR, \"data/items_human_ins.json\")\n",
    "HUMAN_ATTR_PATH = join(BASE_DIR, \"data/items_human_ins.json\")\n",
    "\n",
    "SEARCH_RETURN_N=50\n",
    "\n",
    "def get_top_n_product_from_keywords(\n",
    "        keywords,\n",
    "        search_engine,\n",
    "        all_products,\n",
    "        product_item_dict,\n",
    "        attribute_to_asins=None,\n",
    "    ):\n",
    "    if keywords[0] == '<r>':\n",
    "        top_n_products = random.sample(all_products, k=SEARCH_RETURN_N)\n",
    "    elif keywords[0] == '<a>':\n",
    "        attribute = ' '.join(keywords[1:]).strip()\n",
    "        asins = attribute_to_asins[attribute]\n",
    "        top_n_products = [p for p in all_products if p['asin'] in asins]\n",
    "    elif keywords[0] == '<c>':\n",
    "        category = keywords[1].strip()\n",
    "        top_n_products = [p for p in all_products if p['category'] == category]\n",
    "    elif keywords[0] == '<q>':\n",
    "        query = ' '.join(keywords[1:]).strip()\n",
    "        top_n_products = [p for p in all_products if p['query'] == query]\n",
    "    else:\n",
    "        keywords = ' '.join(keywords)\n",
    "        hits = search_engine.search(keywords, k=SEARCH_RETURN_N)\n",
    "        docs = [search_engine.doc(hit.docid) for hit in hits]\n",
    "        top_n_asins = [json.loads(doc.raw())['id'] for doc in docs]\n",
    "        top_n_products = [product_item_dict[asin] for asin in top_n_asins if asin in product_item_dict]\n",
    "    return top_n_products\n",
    "\n",
    "def generate_product_prices(all_products):\n",
    "    product_prices = dict()\n",
    "    for product in all_products:\n",
    "        asin = product[\"asin\"]\n",
    "        pricing = product[\"pricing\"]\n",
    "        if not pricing:\n",
    "            price = 100.0\n",
    "        elif len(pricing) == 1:\n",
    "            price = pricing[0]\n",
    "        else:\n",
    "            price = random.uniform(*pricing[:2])\n",
    "        product_prices[asin] = price\n",
    "    return product_prices\n",
    "\n",
    "\n",
    "def init_search_engine(num_products=None):\n",
    "    if num_products == 100:\n",
    "        indexes = \"indexes_100\"\n",
    "    elif num_products == 1000:\n",
    "        indexes = \"indexes_1k\"\n",
    "    elif num_products == 100000:\n",
    "        indexes = \"indexes_100k\"\n",
    "    elif num_products is None:\n",
    "        indexes = \"indexes\"\n",
    "    else:\n",
    "        raise NotImplementedError(\n",
    "            f\"num_products being {num_products} is not supported yet.\"\n",
    "        )\n",
    "    search_engine = LuceneSearcher(os.path.join(BASE_DIR, f\"search_engine/{indexes}\"))\n",
    "    return search_engine\n",
    "\n",
    "\n",
    "def clean_product_keys(products):\n",
    "    for product in products:\n",
    "        product.pop(\"product_information\", None)\n",
    "        product.pop(\"brand\", None)\n",
    "        product.pop(\"brand_url\", None)\n",
    "        product.pop(\"list_price\", None)\n",
    "        product.pop(\"availability_quantity\", None)\n",
    "        product.pop(\"availability_status\", None)\n",
    "        product.pop(\"total_reviews\", None)\n",
    "        product.pop(\"total_answered_questions\", None)\n",
    "        product.pop(\"seller_id\", None)\n",
    "        product.pop(\"seller_name\", None)\n",
    "        product.pop(\"fulfilled_by_amazon\", None)\n",
    "        product.pop(\"fast_track_message\", None)\n",
    "        product.pop(\"aplus_present\", None)\n",
    "        product.pop(\"small_description_old\", None)\n",
    "    print(\"Keys cleaned.\")\n",
    "    return products\n",
    "\n",
    "\n",
    "def load_products(filepath, num_products=None, human_goals=True):\n",
    "    # TODO: move to preprocessing step -> enforce single source of truth\n",
    "    with open(filepath) as f:\n",
    "        products = json.load(f)\n",
    "    print(\"Products loaded.\")\n",
    "    products = clean_product_keys(products)\n",
    "\n",
    "    # with open(DEFAULT_REVIEW_PATH) as f:\n",
    "    #     reviews = json.load(f)\n",
    "    all_reviews = dict()\n",
    "    all_ratings = dict()\n",
    "    # for r in reviews:\n",
    "    #     all_reviews[r['asin']] = r['reviews']\n",
    "    #     all_ratings[r['asin']] = r['average_rating']\n",
    "\n",
    "    if human_goals:\n",
    "        with open(HUMAN_ATTR_PATH) as f:\n",
    "            human_attributes = json.load(f)\n",
    "    with open(DEFAULT_ATTR_PATH) as f:\n",
    "        attributes = json.load(f)\n",
    "    with open(HUMAN_ATTR_PATH) as f:\n",
    "        human_attributes = json.load(f)\n",
    "    print(\"Attributes loaded.\")\n",
    "\n",
    "    asins = set()\n",
    "    all_products = []\n",
    "    attribute_to_asins = defaultdict(set)\n",
    "    if num_products is not None:\n",
    "        # using item_shuffle.json, we assume products already shuffled\n",
    "        products = products[:num_products]\n",
    "    for i, p in tqdm(enumerate(products), total=len(products)):\n",
    "        asin = p[\"asin\"]\n",
    "        if asin == \"nan\" or len(asin) > 10:\n",
    "            continue\n",
    "\n",
    "        if asin in asins:\n",
    "            continue\n",
    "        else:\n",
    "            asins.add(asin)\n",
    "\n",
    "        products[i][\"category\"] = p[\"category\"]\n",
    "        products[i][\"query\"] = p[\"query\"]\n",
    "        products[i][\"product_category\"] = p[\"product_category\"]\n",
    "\n",
    "        products[i][\"Title\"] = p[\"name\"]\n",
    "        products[i][\"Description\"] = p[\"full_description\"]\n",
    "        products[i][\"Reviews\"] = all_reviews.get(asin, [])\n",
    "        products[i][\"Rating\"] = all_ratings.get(asin, \"N.A.\")\n",
    "        for r in products[i][\"Reviews\"]:\n",
    "            if \"score\" not in r:\n",
    "                r[\"score\"] = r.pop(\"stars\")\n",
    "            if \"review\" not in r:\n",
    "                r[\"body\"] = \"\"\n",
    "            else:\n",
    "                r[\"body\"] = r.pop(\"review\")\n",
    "        products[i][\"BulletPoints\"] = (\n",
    "            p[\"small_description\"]\n",
    "            if isinstance(p[\"small_description\"], list)\n",
    "            else [p[\"small_description\"]]\n",
    "        )\n",
    "\n",
    "        pricing = p.get(\"pricing\")\n",
    "        if pricing is None or not pricing:\n",
    "            pricing = [100.0]\n",
    "            price_tag = \"$100.0\"\n",
    "        else:\n",
    "            pricing = [\n",
    "                float(Decimal(re.sub(r\"[^\\d.]\", \"\", price)))\n",
    "                for price in pricing.split(\"$\")[1:]\n",
    "            ]\n",
    "            if len(pricing) == 1:\n",
    "                price_tag = f\"${pricing[0]}\"\n",
    "            else:\n",
    "                price_tag = f\"${pricing[0]} to ${pricing[1]}\"\n",
    "                pricing = pricing[:2]\n",
    "        products[i][\"pricing\"] = pricing\n",
    "        products[i][\"Price\"] = price_tag\n",
    "\n",
    "        options = dict()\n",
    "        customization_options = p[\"customization_options\"]\n",
    "        option_to_image = dict()\n",
    "        if customization_options:\n",
    "            for option_name, option_contents in customization_options.items():\n",
    "                if option_contents is None:\n",
    "                    continue\n",
    "                option_name = option_name.lower()\n",
    "\n",
    "                option_values = []\n",
    "                for option_content in option_contents:\n",
    "                    option_value = (\n",
    "                        option_content[\"value\"].strip().replace(\"/\", \" | \").lower()\n",
    "                    )\n",
    "                    option_image = option_content.get(\"image\", None)\n",
    "\n",
    "                    option_values.append(option_value)\n",
    "                    option_to_image[option_value] = option_image\n",
    "                options[option_name] = option_values\n",
    "        products[i][\"options\"] = options\n",
    "        products[i][\"option_to_image\"] = option_to_image\n",
    "\n",
    "        # without color, size, price, availability\n",
    "        # if asin in attributes and 'attributes' in attributes[asin]:\n",
    "        #     products[i]['Attributes'] = attributes[asin]['attributes']\n",
    "        # else:\n",
    "        #     products[i]['Attributes'] = ['DUMMY_ATTR']\n",
    "        # products[i]['instruction_text'] = \\\n",
    "        #     attributes[asin].get('instruction', None)\n",
    "        # products[i]['instruction_attributes'] = \\\n",
    "        #     attributes[asin].get('instruction_attributes', None)\n",
    "\n",
    "        # without color, size, price, availability\n",
    "        if asin in attributes and \"attributes\" in attributes[asin]:\n",
    "            products[i][\"Attributes\"] = attributes[asin][\"attributes\"]\n",
    "        else:\n",
    "            products[i][\"Attributes\"] = [\"DUMMY_ATTR\"]\n",
    "\n",
    "        if human_goals:\n",
    "            if asin in human_attributes:\n",
    "                products[i][\"instructions\"] = human_attributes[asin]\n",
    "        else:\n",
    "            products[i][\"instruction_text\"] = attributes[asin].get(\"instruction\", None)\n",
    "\n",
    "            products[i][\"instruction_attributes\"] = attributes[asin].get(\n",
    "                \"instruction_attributes\", None\n",
    "            )\n",
    "\n",
    "        products[i][\"MainImage\"] = p[\"images\"][0]\n",
    "        products[i][\"query\"] = p[\"query\"].lower().strip()\n",
    "\n",
    "        all_products.append(products[i])\n",
    "\n",
    "    for p in all_products:\n",
    "        for a in p[\"Attributes\"]:\n",
    "            attribute_to_asins[a].add(p[\"asin\"])\n",
    "\n",
    "    product_item_dict = {p[\"asin\"]: p for p in all_products}\n",
    "    product_prices = generate_product_prices(all_products)\n",
    "    return all_products, product_item_dict, product_prices, attribute_to_asins\n",
    "\n",
    "\n",
    "class Webshop:\n",
    "    def __init__(self):\n",
    "        self.products = []\n",
    "        self.page_name = \"home\"\n",
    "        self.page_params = {}\n",
    "        self.clickables = {}\n",
    "        self.inputs = {}\n",
    "        self.page = \"\"\n",
    "        self.page_stack = []\n",
    "        self.page_inited = False\n",
    "        self.render()\n",
    "\n",
    "        self.all_products, self.product_item_dict, self.product_prices, _ = (\n",
    "            load_products(\n",
    "                filepath=DEFAULT_FILE_PATH, num_products=None, human_goals=True\n",
    "            )\n",
    "        )\n",
    "        self.search_engine = init_search_engine(num_products=1000)\n",
    "        self.purchase_callback = lambda product, options: print(f\"Purchased {product['Title']} with options {options}\")\n",
    "\n",
    "    def type(self, name, text):\n",
    "        if name in self.inputs:\n",
    "            self.inputs[name] = text\n",
    "            self.render()\n",
    "        else:\n",
    "            logger.error(f\"INVALID ACTION: Input field {name} not found\")\n",
    "\n",
    "    def click(self, name):\n",
    "        if name in self.clickables:\n",
    "            self.clickables[name]()\n",
    "            self.render()\n",
    "        else:\n",
    "            logger.error(f\"INVALID ACTION: Clickable {name} not found\")\n",
    "\n",
    "    def render(self):\n",
    "        if self.page_name == \"home\":\n",
    "            if not self.page_inited:\n",
    "                self.render_homepage(init=True)\n",
    "                self.page_inited = True\n",
    "            self.render_homepage()\n",
    "        elif self.page_name == \"search\":\n",
    "            if not self.page_inited:\n",
    "                self.render_search(init=True)\n",
    "                self.page_inited = True\n",
    "            self.render_search()\n",
    "        elif self.page_name == \"product\":\n",
    "            if not self.page_inited:\n",
    "                self.render_product(init=True)\n",
    "                self.page_inited = True\n",
    "            self.render_product()\n",
    "\n",
    "    def push_stack(self):\n",
    "        self.page_stack.append(\n",
    "            {\n",
    "                \"page_name\": self.page_name,\n",
    "                \"page_params\": self.page_params,\n",
    "            }\n",
    "        )\n",
    "\n",
    "    def pop_stack(self):\n",
    "        if len(self.page_stack) > 0:\n",
    "            self.page_name = self.page_stack[-1][\"page_name\"]\n",
    "            self.page_params = self.page_stack[-1][\"page_params\"]\n",
    "            self.page_stack.pop()\n",
    "        else:\n",
    "            self.page_name = \"home\"\n",
    "            self.page_params = {}\n",
    "        self.page_inited = False\n",
    "        self.render()\n",
    "\n",
    "    def go(self, page_name, page_params):\n",
    "        self.push_stack()\n",
    "        self.page_name = page_name\n",
    "        self.page_params = page_params\n",
    "        self.page_inited = False\n",
    "\n",
    "    def render_homepage(self, init=False):\n",
    "        if init:\n",
    "            self.clickables = {\n",
    "                \"search\": lambda: self.go(\"search\", {\"search_term\": self.inputs[\"search\"]})\n",
    "            }\n",
    "            self.inputs = {\"search\": \"\"}\n",
    "            self.page_params = {}\n",
    "        self.page = f\"\"\"\n",
    "<input type=\"text\" name=\"search\" placeholder=\"Search\" value=\"{self.inputs['search']}\">\n",
    "<button type=\"submit\" name=\"search\">Search</button>\n",
    "\"\"\"\n",
    "\n",
    "    def render_search(self, init=False):\n",
    "        if init:\n",
    "            self.page_params = {\n",
    "                'search_term': self.page_params['search_term'],\n",
    "                'page': 0 if 'page' not in self.page_params else self.page_params['page'],\n",
    "            }\n",
    "            self.inputs = {\n",
    "                'searchbox.search': self.page_params['search_term'],\n",
    "            }\n",
    "        top_n_products = get_top_n_product_from_keywords(\n",
    "            self.page_params['search_term'].split(),\n",
    "            self.search_engine,\n",
    "            self.all_products,\n",
    "            self.product_item_dict,\n",
    "        )\n",
    "        products = top_n_products[self.page_params['page']*10:(self.page_params['page']+1)*10]\n",
    "        n_pages = len(top_n_products) // 10\n",
    "        \n",
    "        products_html = [\n",
    "            f\"\"\"\n",
    "            <div class=\"product\" name=\"{p['asin']}\">\n",
    "                <img src=\"{p['MainImage']}\" alt=\"{p['Title']}\">\n",
    "                <div class=\"product-info\">\n",
    "                    <h3>{p['Title']}</h3>\n",
    "                    <p>{p['Description']}</p>\n",
    "                    <p>{p['Price']}</p>\n",
    "                    <button type=\"submit\" name=\"view\">View</button>\n",
    "                </div>\n",
    "            </div>\n",
    "            \"\"\"\n",
    "            for p in products\n",
    "        ]\n",
    "        pagination_html = [\n",
    "            f\"\"\"\n",
    "            <button type=\"submit\" name=\"{i+1}\">{i+1}</button>\n",
    "            \"\"\"\n",
    "            for i in range(n_pages)\n",
    "        ]\n",
    "        pagination_html = [\n",
    "            f\"\"\"\n",
    "            <button type=\"submit\" name=\"back\">Back</button>\n",
    "            \"\"\" if self.page_params['page'] > 0 else \"\"\n",
    "        ] + pagination_html + [\n",
    "            f\"\"\"\n",
    "            <button type=\"submit\" name=\"next\">Next</button>\n",
    "            \"\"\" if self.page_params['page'] < n_pages-1 else \"\"\n",
    "        ]\n",
    "        \n",
    "        self.page = f\"\"\"\n",
    "<div name=\"searchbox\">\n",
    "<input type=\"text\" name=\"search\" placeholder=\"Search\" value=\"{self.inputs['searchbox.search']}\">\n",
    "<button type=\"submit\" name=\"search\">Search</button>\n",
    "</div>\n",
    "<div name=\"searchresult\">\n",
    "{''.join(products_html)}\n",
    "</div>\n",
    "<div name=\"pagination\">\n",
    "viewing page {self.page_params['page']+1} of {n_pages}\n",
    "{''.join(pagination_html)}\n",
    "</div>\n",
    "\"\"\"\n",
    "        # self.clickables = {\"searchbox.search\": lambda: self.go(\"search\", {\"search_term\": self.inputs[\"search\"]})}\n",
    "        self.clickables = {\n",
    "            \"searchbox.search\": lambda: self.go(\"search\", {\"search_term\": self.inputs[\"search\"]}),\n",
    "            **{\n",
    "                f\"searchresult.{p['asin']}.view\": lambda asin=p['asin']: self.go(\"product\", {\"asin\": asin})\n",
    "                for p in products\n",
    "            },\n",
    "            \"pagination.back\": lambda: self.go(\"search\", {\"search_term\": self.page_params[\"search_term\"], \"page\": self.page_params[\"page\"]-1}),\n",
    "            \"pagination.next\": lambda: self.go(\"search\", {\"search_term\": self.page_params[\"search_term\"], \"page\": self.page_params[\"page\"]+1}),\n",
    "            **{\n",
    "                f\"pagination.{i}\": lambda: self.go(\"search\", {\"search_term\": self.page_params[\"search_term\"], \"page\": i-1})\n",
    "                for i in range(n_pages)\n",
    "            }\n",
    "        }\n",
    "\n",
    "    def render_product(self, init=False):\n",
    "        print(self.page_params)\n",
    "        if init:\n",
    "            product = self.product_item_dict[self.page_params['asin']]\n",
    "            self.page_params = {\n",
    "                'asin': self.page_params['asin'],\n",
    "                'options': {option_name: product['options'][option_name][0] for option_name in product['options']},\n",
    "            }\n",
    "            self.inputs = {}\n",
    "        product = self.product_item_dict[self.page_params['asin']]\n",
    "        options_html = [\n",
    "            f\"\"\"\n",
    "            <div class=\"option\" name=\"{option_name}\">\n",
    "                <h4>{option_name}</h4>\n",
    "                <ul>\n",
    "                    {''.join([f'<button name=\"{option_value}\">{option_value} {\"(selected)\" if self.page_params[\"options\"][option_name] == option_value else \"\"}</button>' for option_value in option_values])}\n",
    "                </ul>\n",
    "            </div>\n",
    "            \"\"\"\n",
    "            for option_name, option_values in product['options'].items()\n",
    "        ]\n",
    "        self.page = f\"\"\"\n",
    "<div name=\"product\">\n",
    "    <img src=\"{product['MainImage']}\" alt=\"{product['Title']}\">\n",
    "    <div>\n",
    "        <h3>{product['Title']}</h3>\n",
    "        <p>{product['Price']}</p>\n",
    "        <p>{product['Description']}</p>\n",
    "        <p>{product['BulletPoints']}</p>\n",
    "        <button type=\"submit\" name=\"purchase\">Add to Cart</button>\n",
    "    </div>\n",
    "</div>\n",
    "<div class=\"options\">\n",
    "{''.join(options_html)}\n",
    "</div>\n",
    "\"\"\"\n",
    "        def select_option(option_name, option_value):\n",
    "            self.page_params['options'][option_name] = option_value\n",
    "        self.clickables = {\n",
    "            \"product.purchase\": lambda: self.purchase_callback(product, self.page_params['options']),\n",
    "            **{\n",
    "                f\"options.{option_name}.{option_value}\": lambda option_name=option_name, option_value=option_value: select_option(option_name, option_value)\n",
    "                for option_name, option_values in product['options'].items()\n",
    "                for option_value in option_values\n",
    "            }\n",
    "        }\n",
    "        "
   ]
  },
  {
   "cell_type": "code",
   "execution_count": null,
   "metadata": {},
   "outputs": [],
   "source": [
    "import os\n",
    "os.environ['OPENAI_API_KEY'] = ''\n",
    "from simulated_web_agent.webshop.env import Webshop\n",
    "w = Webshop()"
   ]
  },
  {
   "cell_type": "code",
   "execution_count": null,
   "metadata": {},
   "outputs": [],
   "source": [
    "print(w.page)"
   ]
  },
  {
   "cell_type": "code",
   "execution_count": null,
   "metadata": {},
   "outputs": [],
   "source": [
    "w.type(\"search\", \"woman faux fur jacket\")"
   ]
  },
  {
   "cell_type": "code",
   "execution_count": null,
   "metadata": {},
   "outputs": [],
   "source": [
    "w.click(\"search\")"
   ]
  },
  {
   "cell_type": "code",
   "execution_count": null,
   "metadata": {},
   "outputs": [],
   "source": [
    "w.clickables"
   ]
  },
  {
   "cell_type": "code",
   "execution_count": null,
   "metadata": {},
   "outputs": [],
   "source": [
    "print(w.page)"
   ]
  },
  {
   "cell_type": "code",
   "execution_count": null,
   "metadata": {},
   "outputs": [],
   "source": [
    "w.click(\"searchresult.B09KP78G37.view\")"
   ]
  },
  {
   "cell_type": "code",
   "execution_count": null,
   "metadata": {},
   "outputs": [],
   "source": [
    "print(w.page)"
   ]
  },
  {
   "cell_type": "code",
   "execution_count": null,
   "metadata": {},
   "outputs": [],
   "source": [
    "w.click(\"options.size.medium\")"
   ]
  },
  {
   "cell_type": "code",
   "execution_count": null,
   "metadata": {},
   "outputs": [],
   "source": [
    "print(w.page)"
   ]
  },
  {
   "cell_type": "code",
   "execution_count": null,
   "metadata": {},
   "outputs": [],
   "source": [
    "w.page_stack"
   ]
  },
  {
   "cell_type": "code",
   "execution_count": null,
   "metadata": {},
   "outputs": [],
   "source": [
    "w.click('product.purchase')"
   ]
  },
  {
   "cell_type": "code",
   "execution_count": null,
   "metadata": {},
   "outputs": [],
   "source": []
  },
  {
   "cell_type": "code",
   "execution_count": null,
   "metadata": {},
   "outputs": [],
   "source": [
    "w.product_item_dict['B09KP78G37']"
   ]
  },
  {
   "cell_type": "code",
   "execution_count": null,
   "metadata": {},
   "outputs": [],
   "source": []
  },
  {
   "cell_type": "markdown",
   "metadata": {},
   "source": [
    "# Agent"
   ]
  },
  {
   "cell_type": "code",
   "execution_count": 1,
   "metadata": {},
   "outputs": [
    {
     "name": "stdout",
     "output_type": "stream",
     "text": [
      "Products loaded.\n",
      "Keys cleaned.\n",
      "Attributes loaded.\n"
     ]
    },
    {
     "data": {
      "application/vnd.jupyter.widget-view+json": {
       "model_id": "660c76ceb31146c0a860c2ee0034b1fb",
       "version_major": 2,
       "version_minor": 0
      },
      "text/plain": [
       "  0%|          | 0/1000 [00:00<?, ?it/s]"
      ]
     },
     "metadata": {},
     "output_type": "display_data"
    }
   ],
   "source": [
    "import os, json\n",
    "os.environ['OPENAI_API_KEY'] = ''\n",
    "from simulated_web_agent.webshop.env import WebshopEnv\n",
    "from simulated_web_agent.agent.gpt import chat, chat_bulk\n",
    "e = WebshopEnv()\n",
    "env = e.reset()\n",
    "import nest_asyncio\n",
    "nest_asyncio.apply()"
   ]
  },
  {
   "cell_type": "code",
   "execution_count": null,
   "metadata": {},
   "outputs": [],
   "source": []
  },
  {
   "cell_type": "code",
   "execution_count": 2,
   "metadata": {},
   "outputs": [],
   "source": [
    "# e.step(r\"\"\"{\"type\":\"type\",\"name\":\"search\",\"text\":\"woman faux jacket\"}\"\"\")"
   ]
  },
  {
   "cell_type": "code",
   "execution_count": 3,
   "metadata": {},
   "outputs": [],
   "source": [
    "# env = e.step(r\"\"\"{\"type\":\"click\",\"name\":\"search\"}\"\"\")[0]"
   ]
  },
  {
   "cell_type": "code",
   "execution_count": 4,
   "metadata": {},
   "outputs": [],
   "source": [
    "# print(env['page'])"
   ]
  },
  {
   "cell_type": "code",
   "execution_count": 5,
   "metadata": {},
   "outputs": [],
   "source": [
    "from simulated_web_agent.agent import Agent\n",
    "from simulated_web_agent.agent.gpt import chat, embed_text"
   ]
  },
  {
   "cell_type": "code",
   "execution_count": 24,
   "metadata": {},
   "outputs": [],
   "source": [
    "agent = Agent(\"\"\"\n",
    "Persona: Clara\n",
    "Background:\n",
    "Clara is a PhD student in Computer Science at a prestigious university. She is deeply engaged in research focusing on artificial intelligence and machine learning, aiming to contribute to advancements in technology that can benefit society.\n",
    "\n",
    "Demographics:\n",
    "\n",
    "Age: 28\n",
    "Gender: Female\n",
    "Education: Pursuing a PhD in Computer Science\n",
    "Professional Life:\n",
    "Clara spends most of her time in academia, attending conferences, working in the lab, and writing papers. Her commitment to her research is her main priority, and she manages her time around her academic responsibilities.\n",
    "\n",
    "Financial Situation:\n",
    "Clara have a rich family, so she cares quality of the goods more than the price.\n",
    "\n",
    "\n",
    "Shopping Habits:\n",
    "Clara dislikes shopping and avoids spending much time browsing through products. She prefers straightforward, efficient shopping experiences and often shops online for convenience. When she does shop, she looks for practicality and affordability over style or trendiness.\n",
    "\n",
    "Personal Style:\n",
    "Clara prefers comfortable, functional clothing, often choosing items that are easy to wear for long hours spent at her desk or in the lab. She wears XXL-sized clothing and likes colors that reflect her personality—mostly grey, which she finds uplifting and energizing.\n",
    "\"\"\", \"buy a jacket\")"
   ]
  },
  {
   "cell_type": "code",
   "execution_count": 25,
   "metadata": {},
   "outputs": [],
   "source": [
    "agent.perceive(json.dumps(env))"
   ]
  },
  {
   "cell_type": "code",
   "execution_count": 17,
   "metadata": {},
   "outputs": [],
   "source": [
    "agent.memory.update()"
   ]
  },
  {
   "cell_type": "code",
   "execution_count": 18,
   "metadata": {},
   "outputs": [
    {
     "data": {
      "text/plain": [
       "\"A button with the name 'search' and the text 'Search'.\""
      ]
     },
     "execution_count": 18,
     "metadata": {},
     "output_type": "execute_result"
    }
   ],
   "source": [
    "agent.memory.memories[-1].content"
   ]
  },
  {
   "cell_type": "code",
   "execution_count": 19,
   "metadata": {},
   "outputs": [],
   "source": [
    "agent.reflect()"
   ]
  },
  {
   "cell_type": "code",
   "execution_count": 20,
   "metadata": {},
   "outputs": [],
   "source": [
    "agent.plan()"
   ]
  },
  {
   "cell_type": "code",
   "execution_count": 21,
   "metadata": {},
   "outputs": [
    {
     "name": "stdout",
     "output_type": "stream",
     "text": [
      "1. (next) Search for 'XXL grey woman jacket'\n",
      "2. Browse search results to know the general price range, quality, and availability of jackets.\n",
      "3. Browse into specific product for more details\n",
      "    1. Browse into product with name 'XXX' and ASIN 'XXX', check the price, color, size, quality, and description\n",
      "    2. Browse into product with name 'AAA' and ASIN 'BBB', check the price, color, size, quality, and description\n"
     ]
    }
   ],
   "source": [
    "print(agent.current_plan.content)"
   ]
  },
  {
   "cell_type": "code",
   "execution_count": 22,
   "metadata": {},
   "outputs": [
    {
     "data": {
      "text/plain": [
       "{'type': 'click',\n",
       " 'name': 'search',\n",
       " 'description': \"Click the search button to perform the search for 'XXL grey woman jacket'.\"}"
      ]
     },
     "execution_count": 22,
     "metadata": {},
     "output_type": "execute_result"
    }
   ],
   "source": [
    "action = agent.act(env)\n",
    "action"
   ]
  },
  {
   "cell_type": "code",
   "execution_count": 23,
   "metadata": {},
   "outputs": [
    {
     "name": "stdout",
     "output_type": "stream",
     "text": [
      "search result ['B07FD13LP1', 'B08DXL22JN', 'B09KP78G37', 'B098XT346Y', 'B07DKGJR74', 'B09R7H66FC', 'B09GLVMLMS', 'B09QPX97VW', 'B01N1T77OM', 'B001B4NFV0']\n",
      "search result ['B07FD13LP1', 'B08DXL22JN', 'B09KP78G37', 'B098XT346Y', 'B07DKGJR74', 'B09R7H66FC', 'B09GLVMLMS', 'B09QPX97VW', 'B01N1T77OM', 'B001B4NFV0']\n"
     ]
    },
    {
     "data": {
      "text/plain": [
       "{'url': 'http://127.0.0.1/search?search_term=XXL+grey+woman+jacket&page=0',\n",
       " 'page': '\\n<div name=\"searchbox\">\\n<input type=\"text\" name=\"searchbox.search\" placeholder=\"Search\" value=\"XXL grey woman jacket\">\\n<button type=\"submit\" name=\"search\">Search</button>\\n</div>\\n<div name=\"searchresult\">\\n\\n            <div class=\"product\" name=\"B07FD13LP1\">\\n                <img src=\"https://m.media-amazon.com/images/I/31gQUsTMfgS.jpg\" alt=\"The Establishment Men\\'s Organic Cotton Fleece Short with Pocket(S to XXL)\">\\n                <div class=\"product-info\">\\n                    <h3>The Establishment Men\\'s Organic Cotton Fleece Short with Pocket(S to XXL)</h3>\\n                    <p></p>\\n                    <p>$24.99</p>\\n                    <button type=\"submit\" name=\"searchresult.B07FD13LP1.view\">View</button>\\n                </div>\\n            </div>\\n            \\n            <div class=\"product\" name=\"B08DXL22JN\">\\n                <img src=\"https://m.media-amazon.com/images/I/41UXlJTjcBL.jpg\" alt=\"Cicy Bell Womens Casual Blazers Open Front Long Sleeve Work Office Jackets Blazer\">\\n                <div class=\"product-info\">\\n                    <h3>Cicy Bell Womens Casual Blazers Open Front Long Sleeve Work Office Jackets Blazer</h3>\\n                    <p></p>\\n                    <p>$48.99</p>\\n                    <button type=\"submit\" name=\"searchresult.B08DXL22JN.view\">View</button>\\n                </div>\\n            </div>\\n            \\n            <div class=\"product\" name=\"B09KP78G37\">\\n                <img src=\"https://m.media-amazon.com/images/I/31Nkx3FT1hL.jpg\" alt=\"Women Faux Fur Lined Jacket Coat Winter Warm Thick Fleece Outwear Trench Zipper Plus Size Long Sleeve Plush Overcoat\">\\n                <div class=\"product-info\">\\n                    <h3>Women Faux Fur Lined Jacket Coat Winter Warm Thick Fleece Outwear Trench Zipper Plus Size Long Sleeve Plush Overcoat</h3>\\n                    <p>💎Women/Men Winter Warm Jacket Coat Parkas💎A Must-Have Womens Fleece Jacket Coat in Your Wardrobe.💎Wardrobe Essentials For You In Cold Day🌈Unique Design: long sleeve with drop shoulder, a bit see through, soft knitted fabric, round hemline, loose fitting casual style🌈made of high quality knit soft fabrics, which are smooth, comfy and stretchable, flexible and breathable, comfortable to wear.🌈Features: Casual Loose Fit Ladies Cozy Plush Jacket Long Sleeve Coat Winter Warm Open Front Outwear Hooded Parkas Soft Enough to Wear in any Occasion🌈Material: Most Polyester or Wool and Spandex; Casual, comfortable, lightweight fabric perfect for relaxed everyday wear. Feels smooth against the skin, looks caoty.🌈coats up Match：It is Perfect Pair With Fuzzy Leggings ,Skinny Jeans,Leggings,caots,Tank Tops,Boots Or Sneakers in Winter\\xa0🌸🌸 Size Guidelines:The Size Chart is in The Last Picture🌈Please Allow 0.5-2Inch Differs Due to Manual Measurement, Thanks!🌈If you have any questions, please feel free to contact our service team, we will solve it for you.women fleece jackets for flannel coats fall zip up hoodie oversized sweatshirts plush jacket coats casual royal fleece vests winter warm womens fuzzy jackets plus size cardigan sherpa coats stand long women\\'s flannels plaid jacket suit cowl neck tops wool jacket women winter casual flannel sweatshirts cocktail coats grace long sleeve swimsuits hooded vests womens fashion coat gothic clothes zip up winter witch jacket chrismas oversized kawaii cute hooded jacket coats</p>\\n                    <p>$47.41 to $59.07</p>\\n                    <button type=\"submit\" name=\"searchresult.B09KP78G37.view\">View</button>\\n                </div>\\n            </div>\\n            \\n            <div class=\"product\" name=\"B098XT346Y\">\\n                <img src=\"https://m.media-amazon.com/images/I/41BFuOLZqNS.jpg\" alt=\"Fjackets Real Lambskin Sherpa Jacket - Mens Leather Jacket\">\\n                <div class=\"product-info\">\\n                    <h3>Fjackets Real Lambskin Sherpa Jacket - Mens Leather Jacket</h3>\\n                    <p></p>\\n                    <p>$187.0 to $219.0</p>\\n                    <button type=\"submit\" name=\"searchresult.B098XT346Y.view\">View</button>\\n                </div>\\n            </div>\\n            \\n            <div class=\"product\" name=\"B07DKGJR74\">\\n                <img src=\"https://m.media-amazon.com/images/I/41D54yBGD-L.jpg\" alt=\"Amazon Brand - Daily Ritual Women\\'s 100% Cotton Oversized Fit V-Neck Pullover Sweater\">\\n                <div class=\"product-info\">\\n                    <h3>Amazon Brand - Daily Ritual Women\\'s 100% Cotton Oversized Fit V-Neck Pullover Sweater</h3>\\n                    <p>An Amazon brand - Made from a thicker 100% cotton knit, this long-sleeve v-neck sweater features a comfortable, relaxed fit  Lark & Ro’s collection of women’s dresses, blouses, dress shirts, cardigans, jackets, outerwear, and more marries soft fabrics with classic designs for easily paired pieces that take care of business. Our stylish selection includes office clothes for work, warm coats, and 100% cashmere sweaters as well as casual tops and formal dresses for parties and wedding guests</p>\\n                    <p>$20.66 to $29.2</p>\\n                    <button type=\"submit\" name=\"searchresult.B07DKGJR74.view\">View</button>\\n                </div>\\n            </div>\\n            \\n            <div class=\"product\" name=\"B09R7H66FC\">\\n                <img src=\"https://m.media-amazon.com/images/I/51SqNN7S1tL.jpg\" alt=\"Men\\'s Shiny Sequins Suit Jacket Blazer One Button Weddings Prom Dinner Party Tuxedo BZ07\">\\n                <div class=\"product-info\">\\n                    <h3>Men\\'s Shiny Sequins Suit Jacket Blazer One Button Weddings Prom Dinner Party Tuxedo BZ07</h3>\\n                    <p>ZOQIN  dedicated to offer ideal products and pleasant shopping experience. Product Feature: Title:Men\\'s Modern fashion lightweight suit jacket blazer Package included: 1* blazer jacket Occassion:This stylish suit jacket is suitable for weddings ,business meetings,fashion shows, parties,prom,daily life,homecoming and back to school,any fashion forward parties,any holiday,work and other Occasions. Note:  (1) Please pay attention to the size details carefully before you buy. If you have problem about the size, pls feel free to contact us. (2) Due to the different colors of the display computer may slightly vary, it may be slight color differences. Thank you for your understanding. (3) Please allow 1-3cm measurement error because all measurements are measured by hand.Customer satisfaction is our top priority. Do not hesitate to contact us if the item does not meet your expectations. (4) Standard shipping usually takes 15-25 days.Express shipping usually takes 4-7 work days.</p>\\n                    <p>$59.99</p>\\n                    <button type=\"submit\" name=\"searchresult.B09R7H66FC.view\">View</button>\\n                </div>\\n            </div>\\n            \\n            <div class=\"product\" name=\"B09GLVMLMS\">\\n                <img src=\"https://m.media-amazon.com/images/I/41aNjScdGtL.jpg\" alt=\"Anniou Electric Heated Jacket Adjustable Temp USB Heated Coat Winter Hooded Jacket Men Women\">\\n                <div class=\"product-info\">\\n                    <h3>Anniou Electric Heated Jacket Adjustable Temp USB Heated Coat Winter Hooded Jacket Men Women</h3>\\n                    <p>Specification: Gender: Unisex Fabrics: 4/8 heated areas: Nylon/Polyester + Down Cotton + Carbon Fiber Heating Sheet dual switch:Nylon/Polyester+Eco Cotton+Carbon Fiber Heating Sheet smart app:Nylon/Polyester+80% Duck Down+Carbon Fiber Heating Sheet Heatd panel: 3-levels Temper Adjustable Multi Heated Areas: front, back and neck Temp Range: 30°C - 50°C ✔ Storage: battery is stored in one inside pocket and the battery pocket is in the left lower corner of heated vest. (no power bank included inside packing) ✔ Washable: Hand wash or machine wash in a laundry bag, do not twist or wring, hang dry only. Battery can NOT be wash, please pull out the battery before washing. ✔ Suitable: body warmer, outdoor sports, snowmobiling, motorcycling, camping, hiking, skiing, winter sports.  How to use： Link to power bank, press button on jacket for 3 seconds to start working. Press botton to switch temp levels. Red Light: High Level (50°C) White Light: Middle Level (40°C) Blue Light: Low Level (30°C) Press button for 3 seconds to shut down.  Packing List: Regular Suit 1 x Heated jacket 1 x User manual  10000mAh Battery Suit 1 x Heated jacket 1 x User manual 1 x 10000mAh Battery 1 x Cable  Battery Specification: Battery Type: Rechargeable USB Power Bank USB Input: 5v / 2.1A USB Output: 5V / 2.4A Capacity: 10000 mAh Charging Period: Approximately 6 hours. Working Period: Up to 8 hours. Battery Cycle Life: 500 - 800 times Battery GrossWeight: 200g Fully charged before the first time usage.</p>\\n                    <p>$64.99 to $114.99</p>\\n                    <button type=\"submit\" name=\"searchresult.B09GLVMLMS.view\">View</button>\\n                </div>\\n            </div>\\n            \\n            <div class=\"product\" name=\"B09QPX97VW\">\\n                <img src=\"https://m.media-amazon.com/images/I/31Ku6S6eLPL.jpg\" alt=\"Sandals For Women Gold Sandals Slippers Sandy From Grease Red Shoes Strap Platforms Golf Shoes Jeans Stretch Short Sleeve Shirts Midi Skirts Women Suede Pumps\">\\n                <div class=\"product-info\">\\n                    <h3>Sandals For Women Gold Sandals Slippers Sandy From Grease Red Shoes Strap Platforms Golf Shoes Jeans Stretch Short Sleeve Shirts Midi Skirts Women Suede Pumps</h3>\\n                    <p>black sneakers for women slip ons women yellow pumps for women summer slippers for women women flats gladiator sandals for women white sneakers women slip ons for women pumps for women pink house slippers for women flats for women sandals for women slip on sneakers women womens sandals wide slingback pumps shoes women work slippers for women flats for wide feet women sandals for women women kswiss sneakers red sneakers for women fiji buckle slide sandals snake print pumps for women women slippers indian flats shoes women papillio sandals women snake print pumps for women women slippers indian flats shoes women papillio sandals women camouflage sneakers women plastic bow sandals pumps for women wooden slippers for women wide fit flats for women black comfort sandals for women floral sneakers for women high heel pumps for women sleep on sneakers for women pink heel sandals for women suede pumps for women memory slippers for women dusty rose flats for women s sandals for women spring pumps for women massage slippers for women flats women women sandals white dance sneakers for women pumps for women black slippers for women womans flats for women spa sandals for women sneakers women style sneakers for women grey slippers for women net flats for women sparkle sneakers for women shoes open pumps shoes women slippers for women payless flats for women women sandals tenis women sneakers womens sparkly sandals gray dress pumps for women slippers for women women thong sandals flats closed sandals women sneakers for women high heel dress up shoes for girls women pumps slippers for women ivory lace flats for women easy street wedge sandals for women green flats shoes women</p>\\n                    <p>$100.0</p>\\n                    <button type=\"submit\" name=\"searchresult.B09QPX97VW.view\">View</button>\\n                </div>\\n            </div>\\n            \\n            <div class=\"product\" name=\"B01N1T77OM\">\\n                <img src=\"https://m.media-amazon.com/images/I/51d0b74YbML.jpg\" alt=\"Rexona Womans Motion Sense Invisible Pure Deodorant Stick 40ml / 1.35 Oz Travel Size (Pack of 6)\">\\n                <div class=\"product-info\">\\n                    <h3>Rexona Womans Motion Sense Invisible Pure Deodorant Stick 40ml / 1.35 Oz Travel Size (Pack of 6)</h3>\\n                    <p>REXONA WOMEN MotionSense INVISIBLE PURE 48h ANTI-PERSPIRANT SOLID STICK</p>\\n                    <p>$33.0</p>\\n                    <button type=\"submit\" name=\"searchresult.B01N1T77OM.view\">View</button>\\n                </div>\\n            </div>\\n            \\n            <div class=\"product\" name=\"B001B4NFV0\">\\n                <img src=\"https://m.media-amazon.com/images/I/41O3g8CmOpL.jpg\" alt=\"Happy by Clinique Eau De Parfum Spray women,3.4 Fl Oz, Pack of 1\">\\n                <div class=\"product-info\">\\n                    <h3>Happy by Clinique Eau De Parfum Spray women,3.4 Fl Oz, Pack of 1</h3>\\n                    <p>Happy to Be is a shimmering sexy different kind of floral scent for women. Beautiful notes of citrus pear hibiscus and syrigna flowers. Fun and flirty for every woman.</p>\\n                    <p>$100.0</p>\\n                    <button type=\"submit\" name=\"searchresult.B001B4NFV0.view\">View</button>\\n                </div>\\n            </div>\\n            \\n</div>\\n<div name=\"pagination\">\\nviewing page 1 of 5\\n\\n            <button type=\"submit\" name=\"pagination.1\">1</button>\\n            \\n            <button type=\"submit\" name=\"pagination.2\">2</button>\\n            \\n            <button type=\"submit\" name=\"pagination.3\">3</button>\\n            \\n            <button type=\"submit\" name=\"pagination.4\">4</button>\\n            \\n            <button type=\"submit\" name=\"pagination.5\">5</button>\\n            \\n            <button type=\"submit\" name=\"pagination.next\">Next</button>\\n            \\n</div>\\n',\n",
       " 'clickables': ['searchbox.search',\n",
       "  'searchresult.B07FD13LP1.view',\n",
       "  'searchresult.B08DXL22JN.view',\n",
       "  'searchresult.B09KP78G37.view',\n",
       "  'searchresult.B098XT346Y.view',\n",
       "  'searchresult.B07DKGJR74.view',\n",
       "  'searchresult.B09R7H66FC.view',\n",
       "  'searchresult.B09GLVMLMS.view',\n",
       "  'searchresult.B09QPX97VW.view',\n",
       "  'searchresult.B01N1T77OM.view',\n",
       "  'searchresult.B001B4NFV0.view',\n",
       "  'pagination.back',\n",
       "  'pagination.next',\n",
       "  'pagination.1',\n",
       "  'pagination.2',\n",
       "  'pagination.3',\n",
       "  'pagination.4',\n",
       "  'pagination.5']}"
      ]
     },
     "execution_count": 23,
     "metadata": {},
     "output_type": "execute_result"
    }
   ],
   "source": [
    "env, _, _, _, _ = e.step(json.dumps(action))\n",
    "env"
   ]
  },
  {
   "cell_type": "code",
   "execution_count": null,
   "metadata": {},
   "outputs": [],
   "source": [
    "# we reflect on the most recent memories\n",
    "# two most recent memories (last observasion, reflect, plan, action)\n",
    "memories = [\n",
    "    i for i in agent.memory.memories if i.timestamp >= agent.memory.timestamp - 1\n",
    "]\n",
    "memories = [\n",
    "    f\"\"\"timestamp: {m.timestamp}; kind: {m.kind}; content: {m.content}\"\"\"\n",
    "    for m in memories\n",
    "]"
   ]
  },
  {
   "cell_type": "code",
   "execution_count": null,
   "metadata": {},
   "outputs": [],
   "source": [
    "prompt = \"\"\"\n",
    "You are tasked with reflecting on a given set of observations from a simulated web page interaction. The observations include various elements on the page, such as search boxes, buttons, product listings, images, and pagination.\n",
    "\n",
    "Your goal is to generate insightful questions based on these observations to facilitate a deeper understanding and analysis. \n",
    "\n",
    "Examples of questions to consider:\n",
    "1. What is the price range of the search results?\n",
    "2. What is the average price of the items listed?\n",
    "3. How many products are displayed on the page?\n",
    "4. Are there any patterns in the product names or categories?\n",
    "5. How is the search functionality implemented based on the observed elements?\n",
    "6. What types of products are most common in the search results?\n",
    "7. Are there any notable differences in the presentation of different products?\n",
    "8. How is pagination handled, and what does it indicate about the total number of results?\n",
    "\n",
    "Your output should be a list of questions formatted as follows:\n",
    "\n",
    "```json\n",
    "{\n",
    "    \"questions\": [\n",
    "        \"<question 1>\",\n",
    "        \"<question 2>\",\n",
    "        ...\n",
    "    ]\n",
    "}\n",
    "```\n",
    "\"\"\""
   ]
  },
  {
   "cell_type": "code",
   "execution_count": null,
   "metadata": {},
   "outputs": [],
   "source": [
    "reflect = chat([{\n",
    "    'role': 'system',\n",
    "    'content': prompt\n",
    "},\n",
    "      {\n",
    "            'role': 'user',\n",
    "            'content': json.dumps(memories)\n",
    "      }],\n",
    "            response_format={\"type\": \"json_object\"},\n",
    "               \n",
    "               )"
   ]
  },
  {
   "cell_type": "code",
   "execution_count": null,
   "metadata": {},
   "outputs": [],
   "source": [
    "print(reflect.choices[0].message.content)"
   ]
  },
  {
   "cell_type": "code",
   "execution_count": null,
   "metadata": {},
   "outputs": [],
   "source": [
    "memories = agent.memory.retrieve( \"What is the range of prices for the jackets listed in the search results?\")\n",
    "memories = [\n",
    "    f\"\"\"index: {i}, timestamp: {m.timestamp}; kind: {m.kind}; content: {m.content}\"\"\"\n",
    "    for i, m in enumerate(memories)\n",
    "]"
   ]
  },
  {
   "cell_type": "code",
   "execution_count": null,
   "metadata": {},
   "outputs": [],
   "source": [
    "prompt = \"\"\"\n",
    "You are tasked with reflecting on a specific question based on a set of observations from a simulated web page interaction. You will be provided with a single question and a list of relevant memories (with index, timestamp, kind and content) pertaining to that question.\n",
    "\n",
    "Your goal is to answer the question using the information available in the memories. If the question cannot be answered based on the given memories, output \"N/A\".\n",
    "\n",
    "The answer should be a complete sentence with all the information in the question, for example, \"The range of prices for the jackets listed in the search results is $50 to $100.\" instead of just \"$50 to $100\".\n",
    "\n",
    "You should associate the answer with the relevant memories by providing their indices in the memories list.\n",
    "You should consider the current timestamp and the timestamps of the memories to determine the most relevant information for answering the question.\n",
    "\n",
    "Format your output as follows:\n",
    "\n",
    "```json\n",
    "{\n",
    "    \"answer\": \"<your answer or 'N/A'>\",\n",
    "    \"target\": [\"<target_index_1>\", \"<target_index_2>\"]\n",
    "}\n",
    "```\n",
    "\"\"\""
   ]
  },
  {
   "cell_type": "code",
   "execution_count": null,
   "metadata": {},
   "outputs": [],
   "source": [
    "answer = chat([{\n",
    "    'role': 'system',\n",
    "    'content': prompt\n",
    "},\n",
    "      {\n",
    "            'role': 'user',\n",
    "            'content': json.dumps({\n",
    "                \"question\": \"What is the range of prices for the jackets listed in the search results?\",\n",
    "                \"memories\": memories\n",
    "            })\n",
    "      }],\n",
    "            response_format={\"type\": \"json_object\"},\n",
    "               \n",
    "               )"
   ]
  },
  {
   "cell_type": "code",
   "execution_count": null,
   "metadata": {},
   "outputs": [],
   "source": [
    "print(answer.choices[0].message.content)"
   ]
  },
  {
   "cell_type": "code",
   "execution_count": null,
   "metadata": {},
   "outputs": [],
   "source": [
    "memories"
   ]
  },
  {
   "cell_type": "code",
   "execution_count": null,
   "metadata": {},
   "outputs": [],
   "source": [
    "reflections = [i for i in agent.memory.memories if i.kind == 'reflection']"
   ]
  },
  {
   "cell_type": "code",
   "execution_count": null,
   "metadata": {},
   "outputs": [],
   "source": [
    "prompt = \"\"\"You are tasked with evaluating the importance of a given fact in helping to achieve a specified intent from the perspective of a provided persona.\n",
    "\n",
    "You will be given:\n",
    "- An fact\n",
    "- A persona\n",
    "- An intent\n",
    "\n",
    "Your goal is to assess how crucial the fact is for fulfilling the intent from the persona's point of view.\n",
    "\n",
    "Output a score from 1 to 10, where 1 indicates the fact is not important at all and 10 indicates the fact is extremely important.\n",
    "\n",
    "Format your output as a JSON:\n",
    "\n",
    "```json\n",
    "{\n",
    "    \"importance_score\": <score from 1-10>\n",
    "}\n",
    "```\"\"\""
   ]
  },
  {
   "cell_type": "code",
   "execution_count": null,
   "metadata": {},
   "outputs": [],
   "source": [
    "reflections"
   ]
  },
  {
   "cell_type": "code",
   "execution_count": null,
   "metadata": {},
   "outputs": [],
   "source": [
    "requests = [\n",
    "    [\n",
    "        {\n",
    "            \"role\": \"system\",\n",
    "            \"content\": prompt,\n",
    "        },\n",
    "        {\n",
    "            \"role\": \"user\",\n",
    "            \"content\": json.dumps({\n",
    "                \"answer\": r.content,\n",
    "                \"persona\": agent.persona,\n",
    "                \"intent\": agent.intent,\n",
    "            }),\n",
    "        }\n",
    "    ]\n",
    "    for r in reflections\n",
    "]\n",
    "import openai, asyncio\n",
    "client = openai.Client()\n",
    "async_client = openai.AsyncClient()\n",
    "embedding_model = \"text-embedding-3-small\"\n",
    "chat_model = \"gpt-4o-mini\"\n",
    "\n",
    "async def chat_bulk(messages, model=chat_model, **kwargs):\n",
    "    async def chat_one(message):\n",
    "        return await async_client.chat.completions.create(\n",
    "            model=model, messages=message, **kwargs\n",
    "        )\n",
    "    return await asyncio.gather(*[chat_one(m) for m in messages])\n",
    "responses = await chat_bulk(requests, response_format={\"type\": \"json_object\"})\n",
    "# print(requests[0])\n",
    "# response = chat(requests[0], response_format={\"type\": \"json_object\"})"
   ]
  },
  {
   "cell_type": "code",
   "execution_count": null,
   "metadata": {},
   "outputs": [],
   "source": [
    "responses"
   ]
  },
  {
   "cell_type": "code",
   "execution_count": null,
   "metadata": {},
   "outputs": [],
   "source": [
    "[r.content for r in reflections]"
   ]
  },
  {
   "cell_type": "code",
   "execution_count": null,
   "metadata": {},
   "outputs": [],
   "source": [
    "r = agent.memory.memories[-20:0]"
   ]
  },
  {
   "cell_type": "code",
   "execution_count": null,
   "metadata": {},
   "outputs": [],
   "source": [
    "for i in range(-7, 0):\n",
    "    print(i)\n",
    "    print(i, agent.memory.memories[i].content)\n",
    "    \n",
    "    print(i, agent.memory.memories[i].importance)"
   ]
  },
  {
   "cell_type": "code",
   "execution_count": null,
   "metadata": {},
   "outputs": [],
   "source": [
    "for i in range(0,-20,-1):\n",
    "    print(i)\n",
    "    print(i, agent.memory.memories[i].content)\n",
    "    \n",
    "    # print(i, agent.memory.memories[i].importance)"
   ]
  },
  {
   "cell_type": "code",
   "execution_count": null,
   "metadata": {},
   "outputs": [],
   "source": [
    "prompt = \"\"\"You are tasked with creating a detailed plan based on the given persona, intent, and relevant memories (including observations, reflections, and previous actions if any).\n",
    "\n",
    "Your goal is to write or update a plan that outlines the steps required to achieve the intent from the persona's perspective. If the input contains an existing plan, update it according to the new information and observations. If there is no existing plan, create a new one from scratch.\n",
    "\n",
    "The previous plan, if any, is from the last step.\n",
    "\n",
    "The plan should be structured in a tree-like format, detailing each step and any sub-steps necessary to accomplish the intent. Always adhere to the preferences and characteristics of the persona (e.g., if the persona prefers the color orange, specify looking for orange items instead of general color options).\n",
    "\n",
    "Think in two steps:\n",
    "1. Write or update the plan. Do not rewrite any plan before the (next) step, but you can rewrite the plan after the (next) step. Revise the plan and make necessary changes based on the new information and observations. For example, if the original plan said \"browse search results\" and in your observation there are search results listed, you should write many sub-plans like \"look into product with ASIN xxxx\".\n",
    "2. Determine which step or sub-step is (next). Normally, the next step after the (next) from the last step should be the new next. You should always move the (next) marker. You should always move the (next) marker. You should always move the (next) marker. You should always move the (next) marker. Ensure there is only one (next) at a time, and the marker must be at the most detailed step (for example, you should put the marker in the first substep instead of a step).\n",
    "\n",
    "\n",
    "You will also be given a current timestamp. All memories with the same timestamp are current. Older but relevant memories will be provided for context.\n",
    "\n",
    "Format your output as follows:\n",
    "\n",
    "```json\n",
    "{\n",
    "    \"plan\": \"<string representation of the plan>\"\n",
    "}\n",
    "```\n",
    "\n",
    "Examples of plans:\n",
    "1. search for \"woman jacket\"\n",
    "2. (next) browse search results to know the general price range of jackets, and determine if that meets my budget.\n",
    "3. browse into specific product for more details\n",
    "    1. browse into product with name \"XXX\" and ASIN \"XXX\", check the price, color, size and description\n",
    "    2. browse into product with name \"AAA\" and ASIN \"BBB\", check the price, color, size and description\n",
    "\n",
    "Always stick to the persona's preferences and characteristics.\"\"\""
   ]
  },
  {
   "cell_type": "code",
   "execution_count": null,
   "metadata": {},
   "outputs": [],
   "source": []
  },
  {
   "cell_type": "code",
   "execution_count": null,
   "metadata": {},
   "outputs": [],
   "source": [
    "print()"
   ]
  },
  {
   "cell_type": "code",
   "execution_count": null,
   "metadata": {},
   "outputs": [],
   "source": []
  },
  {
   "cell_type": "code",
   "execution_count": null,
   "metadata": {},
   "outputs": [],
   "source": []
  }
 ],
 "metadata": {
  "kernelspec": {
   "display_name": "simulated_web_agent",
   "language": "python",
   "name": "python3"
  },
  "language_info": {
   "codemirror_mode": {
    "name": "ipython",
    "version": 3
   },
   "file_extension": ".py",
   "mimetype": "text/x-python",
   "name": "python",
   "nbconvert_exporter": "python",
   "pygments_lexer": "ipython3",
   "version": "3.9.19"
  }
 },
 "nbformat": 4,
 "nbformat_minor": 2
}
