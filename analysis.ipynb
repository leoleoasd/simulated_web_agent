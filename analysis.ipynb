{
 "cells": [
  {
   "cell_type": "code",
   "execution_count": 43,
   "metadata": {},
   "outputs": [],
   "source": [
    "import pandas as pd\n",
    "from glob import glob\n",
    "import json\n",
    "import os\n",
    "import numpy as np"
   ]
  },
  {
   "cell_type": "code",
   "execution_count": 198,
   "metadata": {},
   "outputs": [
    {
     "name": "stdout",
     "output_type": "stream",
     "text": [
      "449.99449.99\n"
     ]
    }
   ],
   "source": [
    "# jsons = glob(\"data/simulation/*/result.json\")\n",
    "data = []\n",
    "for i in range(0, 1000):\n",
    "    if os.path.exists(f\"data/simulation/virtual customer {i}/result.json\"):\n",
    "        with open(f\"data/simulation/virtual customer {i}/result.json\") as f:\n",
    "            s = json.load(f)\n",
    "            s['succeed'] = True\n",
    "            s['group'] = 'T1' if i  % 2 == 0 else 'C'\n",
    "            if 'price' in s:\n",
    "                price = s[\"price\"].replace(\"$\", \"\").replace(\"\\n\", \"\").replace(\",\", \"\")\n",
    "                if price.count(\".\") != 1:\n",
    "                    print(price)\n",
    "                    price = price[: len(price)//2]\n",
    "                s[\"price\"] = float(price)\n",
    "            else:\n",
    "                s['price'] = 0\n",
    "            if os.path.exists(f\"data/simulation/virtual customer {i}/action_trace.txt\"):\n",
    "                s['action'] = [json.loads(x) for x in open(f\"data/simulation/virtual customer {i}/action_trace.txt\").readlines()]\n",
    "                s['flatten_action'] = [item for sublist in s['action'] for item in sublist]\n",
    "                s['len_action'] = sum([len(x) for x in s['action']])\n",
    "                s['num_click'] = sum([x['type'] == 'click' for x in s['flatten_action']])\n",
    "                s['num_search'] = sum([x['type'] == 'type_and_submit' for x in s['flatten_action']])\n",
    "                s[\"num_click_refinements\"] = sum(\n",
    "                    [\n",
    "                        x[\"type\"] == \"click\" and x[\"name\"].startswith(\"refinements\")\n",
    "                        for x in s[\"flatten_action\"]\n",
    "                    ]\n",
    "                )\n",
    "                s[\"num_click_search_results\"] = sum(\n",
    "                    [\n",
    "                        x[\"type\"] == \"click\" and x[\"name\"].startswith(\"search_results\")\n",
    "                        for x in s[\"flatten_action\"]\n",
    "                    ]\n",
    "                )\n",
    "                s[\"action_valid\"] = sum(\n",
    "                    [\n",
    "                        # \"type\": \"click\", \"name\": \"add_to_cart.buy_now\"\n",
    "                        x[\"type\"] == \"click\" and x[\"name\"] == \"add_to_cart.buy_now\"\n",
    "                        for x in s[\"flatten_action\"]\n",
    "                    ]\n",
    "                ) == 1\n",
    "            persona = json.load(open(f\"data/personas/json/virtual customer {i}.json\"))\n",
    "            s['persona'] = persona\n",
    "            s['gender'] = persona['gender']\n",
    "            s['income'] = persona['income']\n",
    "            s['age'] = persona['age']\n",
    "            data.append(s)\n",
    "    else:\n",
    "        data.append(\n",
    "            {\n",
    "                \"succeed\": False,\n",
    "                \"group\": \"T1\" if i % 2 == 0 else \"C\",\n",
    "                \"price\": 0,\n",
    "                \"terminated\": False,\n",
    "            }\n",
    "        )"
   ]
  },
  {
   "cell_type": "code",
   "execution_count": 232,
   "metadata": {},
   "outputs": [],
   "source": [
    "df = pd.DataFrame(data)\n",
    "df.loc[df[\"terminated\"].isnull(), \"terminated\"] = False\n",
    "df['terminated'] = df['terminated'].astype(bool)\n",
    "df['succeed'] = df['succeed'].astype(bool)\n",
    "df['error'] = (~df['terminated']) & (df['price'] == 0)"
   ]
  },
  {
   "cell_type": "code",
   "execution_count": 98,
   "metadata": {},
   "outputs": [
    {
     "name": "stdout",
     "output_type": "stream",
     "text": [
      "78\n"
     ]
    }
   ],
   "source": [
    "print(sum(df[df[\"group\"] == \"T1\"][\"terminated\"]))"
   ]
  },
  {
   "cell_type": "code",
   "execution_count": 64,
   "metadata": {},
   "outputs": [
    {
     "name": "stdout",
     "output_type": "stream",
     "text": [
      "55\n"
     ]
    }
   ],
   "source": [
    "print(sum(df[df[\"group\"] == \"C\"][\"terminated\"]))"
   ]
  },
  {
   "cell_type": "code",
   "execution_count": 65,
   "metadata": {},
   "outputs": [
    {
     "name": "stdout",
     "output_type": "stream",
     "text": [
      "27571.850000000082\n"
     ]
    }
   ],
   "source": [
    "print(sum(df[df[\"group\"] == \"T1\"][\"price\"]))\n"
   ]
  },
  {
   "cell_type": "code",
   "execution_count": 67,
   "metadata": {},
   "outputs": [
    {
     "name": "stdout",
     "output_type": "stream",
     "text": [
      "31986.530000000155\n"
     ]
    }
   ],
   "source": [
    "print(sum(df[df[\"group\"] == \"C\"][\"price\"]))\n"
   ]
  },
  {
   "cell_type": "code",
   "execution_count": 70,
   "metadata": {},
   "outputs": [],
   "source": [
    "df.to_csv(\"data/simulation/result.csv\")"
   ]
  },
  {
   "cell_type": "code",
   "execution_count": 76,
   "metadata": {},
   "outputs": [],
   "source": [
    "from scipy.stats import ttest_ind\n"
   ]
  },
  {
   "cell_type": "code",
   "execution_count": 77,
   "metadata": {},
   "outputs": [
    {
     "data": {
      "text/plain": [
       "TtestResult(statistic=np.float64(-0.5915668796912231), pvalue=np.float64(0.5542746276335935), df=np.float64(998.0))"
      ]
     },
     "execution_count": 77,
     "metadata": {},
     "output_type": "execute_result"
    }
   ],
   "source": [
    "ttest_ind(df[df[\"group\"] == \"T1\"][\"price\"], df[df[\"group\"] == \"C\"][\"price\"])"
   ]
  },
  {
   "cell_type": "code",
   "execution_count": 78,
   "metadata": {},
   "outputs": [
    {
     "name": "stdout",
     "output_type": "stream",
     "text": [
      "63.97306 55.143700000000045\n"
     ]
    }
   ],
   "source": [
    "print(sum(df[df[\"group\"] == \"C\"][\"price\"] / 500), sum(df[df[\"group\"] == \"T1\"][\"price\"] / 500))"
   ]
  },
  {
   "cell_type": "code",
   "execution_count": 79,
   "metadata": {},
   "outputs": [
    {
     "name": "stdout",
     "output_type": "stream",
     "text": [
      "87279.3621740364\n"
     ]
    }
   ],
   "source": [
    "# variance\n",
    "print(np.var(df[df[\"group\"] == \"C\"][\"price\"]))"
   ]
  },
  {
   "cell_type": "code",
   "execution_count": 85,
   "metadata": {},
   "outputs": [
    {
     "data": {
      "text/plain": [
       "TtestResult(statistic=np.float64(2.144648942917885), pvalue=np.float64(0.03222184097243871), df=np.float64(998.0))"
      ]
     },
     "execution_count": 85,
     "metadata": {},
     "output_type": "execute_result"
    }
   ],
   "source": [
    "ttest_ind(\n",
    "    df[df[\"group\"] == \"T1\"][\"terminated\"].astype(int),\n",
    "    df[df[\"group\"] == \"C\"][\"terminated\"].astype(int),\n",
    ")\n"
   ]
  },
  {
   "cell_type": "code",
   "execution_count": 91,
   "metadata": {},
   "outputs": [
    {
     "data": {
      "text/plain": [
       "Power_divergenceResult(statistic=np.float64(8.03560578442095), pvalue=np.float64(0.004586666814499163))"
      ]
     },
     "execution_count": 91,
     "metadata": {},
     "output_type": "execute_result"
    }
   ],
   "source": [
    "# chi square\n",
    "from scipy.stats import chisquare\n",
    "\n",
    "chisquare(\n",
    "    [sum(df[df[\"group\"] == \"C\"][\"terminated\"].astype(int)), 500-sum(df[df[\"group\"] == \"C\"][\"terminated\"].astype(int))],\n",
    "    [sum(df[df[\"group\"] == \"T1\"][\"terminated\"].astype(int)), 500-sum(df[df[\"group\"] == \"T1\"][\"terminated\"].astype(int))],\n",
    ")"
   ]
  },
  {
   "cell_type": "code",
   "execution_count": 89,
   "metadata": {},
   "outputs": [
    {
     "data": {
      "text/plain": [
       "(78, 422)"
      ]
     },
     "execution_count": 89,
     "metadata": {},
     "output_type": "execute_result"
    }
   ],
   "source": []
  },
  {
   "cell_type": "code",
   "execution_count": 92,
   "metadata": {},
   "outputs": [
    {
     "data": {
      "text/plain": [
       "False"
      ]
     },
     "execution_count": 92,
     "metadata": {},
     "output_type": "execute_result"
    }
   ],
   "source": [
    "\"123\".startswith(\"refinements\")"
   ]
  },
  {
   "cell_type": "code",
   "execution_count": 99,
   "metadata": {},
   "outputs": [
    {
     "data": {
      "text/plain": [
       "814"
      ]
     },
     "execution_count": 99,
     "metadata": {},
     "output_type": "execute_result"
    }
   ],
   "source": [
    "df['action_valid'].sum()"
   ]
  },
  {
   "cell_type": "code",
   "execution_count": 109,
   "metadata": {},
   "outputs": [],
   "source": [
    "filtered_df = df[df[\"action_valid\"] == True]"
   ]
  },
  {
   "cell_type": "code",
   "execution_count": 104,
   "metadata": {},
   "outputs": [
    {
     "data": {
      "text/plain": [
       "np.float64(3.41044776119403)"
      ]
     },
     "execution_count": 104,
     "metadata": {},
     "output_type": "execute_result"
    }
   ],
   "source": [
    "filtered_df[filtered_df[\"group\"] == \"T1\"][\"num_click\"].mean()"
   ]
  },
  {
   "cell_type": "code",
   "execution_count": 105,
   "metadata": {},
   "outputs": [
    {
     "data": {
      "text/plain": [
       "np.float64(3.3592233009708736)"
      ]
     },
     "execution_count": 105,
     "metadata": {},
     "output_type": "execute_result"
    }
   ],
   "source": [
    "filtered_df[filtered_df[\"group\"] == \"C\"][\"num_click\"].mean()\n"
   ]
  },
  {
   "cell_type": "code",
   "execution_count": 106,
   "metadata": {},
   "outputs": [
    {
     "data": {
      "text/plain": [
       "np.float64(0.5746268656716418)"
      ]
     },
     "execution_count": 106,
     "metadata": {},
     "output_type": "execute_result"
    }
   ],
   "source": [
    "filtered_df[filtered_df[\"group\"] == \"T1\"][\"num_click_refinements\"].mean()\n"
   ]
  },
  {
   "cell_type": "code",
   "execution_count": 108,
   "metadata": {},
   "outputs": [
    {
     "data": {
      "text/plain": [
       "np.float64(0.5194174757281553)"
      ]
     },
     "execution_count": 108,
     "metadata": {},
     "output_type": "execute_result"
    }
   ],
   "source": [
    "filtered_df[filtered_df[\"group\"] == \"C\"][\"num_click_refinements\"].mean()"
   ]
  },
  {
   "cell_type": "code",
   "execution_count": 110,
   "metadata": {},
   "outputs": [
    {
     "name": "stdout",
     "output_type": "stream",
     "text": [
      "1.1069651741293531\n",
      "1.1529126213592233\n"
     ]
    }
   ],
   "source": [
    "print(filtered_df[filtered_df[\"group\"] == \"T1\"][\"num_search\"].mean())\n",
    "print(filtered_df[filtered_df[\"group\"] == \"C\"][\"num_search\"].mean())"
   ]
  },
  {
   "cell_type": "code",
   "execution_count": 111,
   "metadata": {},
   "outputs": [
    {
     "name": "stdout",
     "output_type": "stream",
     "text": [
      "1.6467661691542288\n",
      "1.6674757281553398\n"
     ]
    }
   ],
   "source": [
    "print(filtered_df[filtered_df[\"group\"] == \"T1\"][\"num_click_search_results\"].mean())\n",
    "print(filtered_df[filtered_df[\"group\"] == \"C\"][\"num_click_search_results\"].mean())\n"
   ]
  },
  {
   "cell_type": "code",
   "execution_count": 112,
   "metadata": {},
   "outputs": [],
   "source": [
    "df.to_csv(\"data/result.csv\")"
   ]
  },
  {
   "cell_type": "code",
   "execution_count": 120,
   "metadata": {},
   "outputs": [
    {
     "data": {
      "text/plain": [
       "Power_divergenceResult(statistic=np.float64(1.2790667928679236), pvalue=np.float64(0.25807262148304516))"
      ]
     },
     "execution_count": 120,
     "metadata": {},
     "output_type": "execute_result"
    }
   ],
   "source": [
    "# chi square\n",
    "from scipy.stats import chisquare\n",
    "\n",
    "chisquare(\n",
    "    [\n",
    "        sum(df[df[\"group\"] == \"C\"][\"price\"].astype(bool)),\n",
    "        500 - sum(df[df[\"group\"] == \"C\"][\"price\"].astype(bool)),\n",
    "    ],\n",
    "    [\n",
    "        sum(df[df[\"group\"] == \"T1\"][\"price\"].astype(bool)),\n",
    "        500 - sum(df[df[\"group\"] == \"T1\"][\"price\"].astype(bool)),\n",
    "    ],\n",
    ")\n"
   ]
  },
  {
   "cell_type": "code",
   "execution_count": 116,
   "metadata": {},
   "outputs": [
    {
     "data": {
      "text/plain": [
       "403"
      ]
     },
     "execution_count": 116,
     "metadata": {},
     "output_type": "execute_result"
    }
   ],
   "source": [
    "sum(df[df[\"group\"] == \"T1\"][\"price\"].astype(bool))"
   ]
  },
  {
   "cell_type": "code",
   "execution_count": 119,
   "metadata": {},
   "outputs": [
    {
     "data": {
      "text/plain": [
       "422"
      ]
     },
     "execution_count": 119,
     "metadata": {},
     "output_type": "execute_result"
    }
   ],
   "source": [
    "500 - sum(df[df[\"group\"] == \"T1\"][\"terminated\"].astype(bool))\n"
   ]
  },
  {
   "cell_type": "code",
   "execution_count": 121,
   "metadata": {},
   "outputs": [
    {
     "data": {
      "text/plain": [
       "413"
      ]
     },
     "execution_count": 121,
     "metadata": {},
     "output_type": "execute_result"
    }
   ],
   "source": [
    "sum(df[df[\"group\"] == \"C\"][\"price\"].astype(bool))\n"
   ]
  },
  {
   "cell_type": "code",
   "execution_count": 122,
   "metadata": {},
   "outputs": [
    {
     "data": {
      "text/plain": [
       "445"
      ]
     },
     "execution_count": 122,
     "metadata": {},
     "output_type": "execute_result"
    }
   ],
   "source": [
    "500 - sum(df[df[\"group\"] == \"C\"][\"terminated\"].astype(bool))\n"
   ]
  },
  {
   "cell_type": "code",
   "execution_count": 124,
   "metadata": {},
   "outputs": [
    {
     "data": {
      "text/plain": [
       "TtestResult(statistic=np.float64(-0.22782898457865544), pvalue=np.float64(0.8198258595074086), df=np.float64(998.0))"
      ]
     },
     "execution_count": 124,
     "metadata": {},
     "output_type": "execute_result"
    }
   ],
   "source": [
    "ttest_ind(\n",
    "    np.log(df[df[\"group\"] == \"T1\"][\"price\"] + 1), np.log(df[df[\"group\"] == \"C\"][\"price\"]+ 1)\n",
    ")\n"
   ]
  },
  {
   "cell_type": "code",
   "execution_count": 125,
   "metadata": {},
   "outputs": [
    {
     "data": {
      "text/plain": [
       "0      3.526066\n",
       "2      3.610648\n",
       "4      4.262539\n",
       "6      3.044046\n",
       "8      0.000000\n",
       "         ...   \n",
       "990    0.000000\n",
       "992    1.603420\n",
       "994    4.730480\n",
       "996    2.861057\n",
       "998    2.102914\n",
       "Name: price, Length: 500, dtype: float64"
      ]
     },
     "execution_count": 125,
     "metadata": {},
     "output_type": "execute_result"
    }
   ],
   "source": [
    "np.log(df[df[\"group\"] == \"T1\"][\"price\"] + 1)\n"
   ]
  },
  {
   "cell_type": "code",
   "execution_count": 126,
   "metadata": {},
   "outputs": [
    {
     "data": {
      "text/plain": [
       "0       32.99\n",
       "2       35.99\n",
       "4       69.99\n",
       "6       19.99\n",
       "8        0.00\n",
       "        ...  \n",
       "990      0.00\n",
       "992      3.97\n",
       "994    112.35\n",
       "996     16.48\n",
       "998      7.19\n",
       "Name: price, Length: 500, dtype: float64"
      ]
     },
     "execution_count": 126,
     "metadata": {},
     "output_type": "execute_result"
    }
   ],
   "source": [
    "df[df[\"group\"] == \"T1\"][\"price\"]\n"
   ]
  },
  {
   "cell_type": "code",
   "execution_count": 128,
   "metadata": {},
   "outputs": [
    {
     "data": {
      "text/plain": [
       "70       3.57\n",
       "249      0.00\n",
       "287     78.98\n",
       "304     12.99\n",
       "352      5.88\n",
       "377     20.99\n",
       "439    159.99\n",
       "656      6.99\n",
       "682      0.00\n",
       "726     21.67\n",
       "750      7.99\n",
       "833    104.95\n",
       "994    112.35\n",
       "Name: price, dtype: float64"
      ]
     },
     "execution_count": 128,
     "metadata": {},
     "output_type": "execute_result"
    }
   ],
   "source": [
    "df[df[\"age\"] == 18][\"price\"]\n"
   ]
  },
  {
   "cell_type": "code",
   "execution_count": 129,
   "metadata": {},
   "outputs": [],
   "source": [
    "# corelation between age and price, chi square\n",
    "# and maybe income / gender, ops in each group, may not significant\n",
    "\n"
   ]
  },
  {
   "cell_type": "code",
   "execution_count": 234,
   "metadata": {},
   "outputs": [],
   "source": [
    "df.to_excel(\"data/result.xlsx\")"
   ]
  },
  {
   "cell_type": "code",
   "execution_count": null,
   "metadata": {},
   "outputs": [],
   "source": []
  },
  {
   "cell_type": "code",
   "execution_count": 154,
   "metadata": {},
   "outputs": [
    {
     "name": "stdout",
     "output_type": "stream",
     "text": [
      "21\n",
      "12\n"
     ]
    }
   ],
   "source": [
    "print(sum(df[df[\"group\"] == \"C\"][\"error\"]))\n",
    "print(sum(df[df[\"group\"] == \"T1\"][\"error\"]))"
   ]
  },
  {
   "cell_type": "code",
   "execution_count": 156,
   "metadata": {},
   "outputs": [
    {
     "name": "stdout",
     "output_type": "stream",
     "text": [
      "413\n",
      "403\n"
     ]
    }
   ],
   "source": [
    "print(sum(df[df[\"group\"] == \"C\"][\"price\"] != 0))\n",
    "print(sum(df[df[\"group\"] == \"T1\"][\"price\"] != 0))\n"
   ]
  },
  {
   "cell_type": "code",
   "execution_count": 157,
   "metadata": {},
   "outputs": [
    {
     "name": "stdout",
     "output_type": "stream",
     "text": [
      "55\n",
      "78\n"
     ]
    }
   ],
   "source": [
    "print(sum(df[df[\"group\"] == \"C\"][\"terminated\"]))\n",
    "print(sum(df[df[\"group\"] == \"T1\"][\"terminated\"]))\n"
   ]
  },
  {
   "cell_type": "code",
   "execution_count": 225,
   "metadata": {},
   "outputs": [
    {
     "name": "stdout",
     "output_type": "stream",
     "text": [
      "0\n",
      "0\n"
     ]
    }
   ],
   "source": [
    "print(sum((~df[\"error\"]) & (~df[\"terminated\"])))\n",
    "print(sum((~df[\"terminated\"]) & (~df[\"error\"])))"
   ]
  },
  {
   "cell_type": "code",
   "execution_count": 226,
   "metadata": {},
   "outputs": [
    {
     "name": "stdout",
     "output_type": "stream",
     "text": [
      "0\n",
      "0\n"
     ]
    }
   ],
   "source": [
    "print(sum((~df[\"error\"]) & (~df[\"terminated\"]) & (df['price'] == 0)))\n",
    "print(sum((~df[\"terminated\"]) & (~df[\"error\"]) & (df[\"price\"] == 0)))\n"
   ]
  },
  {
   "cell_type": "code",
   "execution_count": 228,
   "metadata": {},
   "outputs": [
    {
     "data": {
      "text/plain": [
       "0      False\n",
       "1      False\n",
       "2      False\n",
       "3      False\n",
       "4      False\n",
       "       ...  \n",
       "995    False\n",
       "996    False\n",
       "997    False\n",
       "998    False\n",
       "999    False\n",
       "Length: 1000, dtype: bool"
      ]
     },
     "execution_count": 228,
     "metadata": {},
     "output_type": "execute_result"
    }
   ],
   "source": [
    "(~df[\"error\"]) & (~df[\"terminated\"])"
   ]
  },
  {
   "cell_type": "code",
   "execution_count": 187,
   "metadata": {},
   "outputs": [
    {
     "data": {
      "text/plain": [
       "0      True\n",
       "1      True\n",
       "2      True\n",
       "3      True\n",
       "4      True\n",
       "       ... \n",
       "995    True\n",
       "996    True\n",
       "997    True\n",
       "998    True\n",
       "999    True\n",
       "Length: 1000, dtype: bool"
      ]
     },
     "execution_count": 187,
     "metadata": {},
     "output_type": "execute_result"
    }
   ],
   "source": [
    "(~df[\"terminated\"]) & (~df[\"error\"])"
   ]
  },
  {
   "cell_type": "code",
   "execution_count": 204,
   "metadata": {},
   "outputs": [],
   "source": [
    "df = df[['terminated', 'error']]"
   ]
  },
  {
   "cell_type": "code",
   "execution_count": 233,
   "metadata": {},
   "outputs": [
    {
     "data": {
      "text/plain": [
       "0      False\n",
       "1      False\n",
       "2      False\n",
       "3      False\n",
       "4      False\n",
       "       ...  \n",
       "995    False\n",
       "996    False\n",
       "997    False\n",
       "998    False\n",
       "999    False\n",
       "Name: terminated, Length: 1000, dtype: bool"
      ]
     },
     "execution_count": 233,
     "metadata": {},
     "output_type": "execute_result"
    }
   ],
   "source": [
    "df[\"terminated\"]"
   ]
  },
  {
   "cell_type": "code",
   "execution_count": 217,
   "metadata": {},
   "outputs": [
    {
     "data": {
      "text/plain": [
       "0      False\n",
       "1      False\n",
       "2      False\n",
       "3      False\n",
       "4      False\n",
       "       ...  \n",
       "995    False\n",
       "996    False\n",
       "997    False\n",
       "998    False\n",
       "999    False\n",
       "Name: terminated, Length: 1000, dtype: bool"
      ]
     },
     "execution_count": 217,
     "metadata": {},
     "output_type": "execute_result"
    }
   ],
   "source": [
    "df[\"terminated\"].astype(bool)"
   ]
  },
  {
   "cell_type": "code",
   "execution_count": 231,
   "metadata": {},
   "outputs": [
    {
     "data": {
      "text/plain": [
       "0      True\n",
       "1      True\n",
       "2      True\n",
       "3      True\n",
       "4      True\n",
       "       ... \n",
       "995    True\n",
       "996    True\n",
       "997    True\n",
       "998    True\n",
       "999    True\n",
       "Name: terminated, Length: 1000, dtype: bool"
      ]
     },
     "execution_count": 231,
     "metadata": {},
     "output_type": "execute_result"
    }
   ],
   "source": [
    "df[\"terminated\"]"
   ]
  },
  {
   "cell_type": "code",
   "execution_count": 223,
   "metadata": {},
   "outputs": [
    {
     "data": {
      "text/plain": [
       "0      False\n",
       "1      False\n",
       "2      False\n",
       "3      False\n",
       "4      False\n",
       "       ...  \n",
       "995    False\n",
       "996    False\n",
       "997    False\n",
       "998    False\n",
       "999    False\n",
       "Name: terminated, Length: 1000, dtype: bool"
      ]
     },
     "execution_count": 223,
     "metadata": {},
     "output_type": "execute_result"
    }
   ],
   "source": [
    "~df[\"terminated\"].astype(bool)"
   ]
  },
  {
   "cell_type": "code",
   "execution_count": 238,
   "metadata": {},
   "outputs": [],
   "source": [
    "df.to_parquet(\"result.parquet\")"
   ]
  },
  {
   "cell_type": "code",
   "execution_count": 236,
   "metadata": {},
   "outputs": [
    {
     "name": "stdout",
     "output_type": "stream",
     "text": [
      "Collecting pyarrow\n",
      "  Downloading pyarrow-17.0.0-cp39-cp39-macosx_11_0_arm64.whl.metadata (3.3 kB)\n",
      "Requirement already satisfied: numpy>=1.16.6 in /Users/yuxuanlu/miniforge3/envs/simulated_web_agent/lib/python3.9/site-packages (from pyarrow) (2.0.1)\n",
      "Downloading pyarrow-17.0.0-cp39-cp39-macosx_11_0_arm64.whl (27.2 MB)\n",
      "\u001b[2K   \u001b[38;2;114;156;31m━━━━━━━━━━━━━━━━━━━━━━━━━━━━━━━━━━━━━━━━\u001b[0m \u001b[32m27.2/27.2 MB\u001b[0m \u001b[31m7.7 MB/s\u001b[0m eta \u001b[36m0:00:00\u001b[0m MB/s\u001b[0m eta \u001b[36m0:00:01\u001b[0m:01\u001b[0m\n",
      "\u001b[?25hInstalling collected packages: pyarrow\n",
      "Successfully installed pyarrow-17.0.0\n",
      "Note: you may need to restart the kernel to use updated packages.\n"
     ]
    }
   ],
   "source": []
  },
  {
   "cell_type": "code",
   "execution_count": null,
   "metadata": {},
   "outputs": [],
   "source": []
  }
 ],
 "metadata": {
  "kernelspec": {
   "display_name": "simulated_web_agent",
   "language": "python",
   "name": "python3"
  },
  "language_info": {
   "codemirror_mode": {
    "name": "ipython",
    "version": 3
   },
   "file_extension": ".py",
   "mimetype": "text/x-python",
   "name": "python",
   "nbconvert_exporter": "python",
   "pygments_lexer": "ipython3",
   "version": "3.9.19"
  }
 },
 "nbformat": 4,
 "nbformat_minor": 2
}
