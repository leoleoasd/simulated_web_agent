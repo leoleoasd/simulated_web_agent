{
 "cells": [
  {
   "cell_type": "code",
   "execution_count": 12,
   "metadata": {},
   "outputs": [],
   "source": [
    "import pandas as pd\n",
    "from pathlib import Path\n",
    "import json\n",
    "path = Path(\"output\")\n",
    "all_data = []\n",
    "# processing = 29\n",
    "for processing in range(60):\n",
    "    data = {}\n",
    "    # if result.json exists, read it\n",
    "    if (path / f\"{processing}/result.json\").exists():\n",
    "        with open(path / f\"{processing}/result.json\", \"r\") as f:\n",
    "            result = json.load(f)\n",
    "            data[\"purchased\"] = True\n",
    "            data[\"product_name\"] = result[\"product_name\"]\n",
    "            data[\"price\"] = result[\"price\"]\n",
    "            data[\"options\"] = result[\"options\"]\n",
    "    else:\n",
    "        data[\"purchased\"] = False\n",
    "        data[\"product_name\"] = None\n",
    "        data[\"price\"] = None\n",
    "        data[\"options\"] = None\n",
    "    # number of actions\n",
    "    with open(path / f\"{processing}/action_trace.txt\", \"r\") as f:\n",
    "        actions = f.readlines()\n",
    "        data[\"num_actions\"] = len(actions)\n",
    "    # persona info\n",
    "    with open(f\"personas/{processing}.json\", \"r\") as f:\n",
    "        persona = json.load(f)\n",
    "        # data[\"persona\"] = persona\n",
    "        data[\"gender\"] = persona[\"gender\"]\n",
    "        data[\"income\"] = f\"{persona['income'][0]}-{persona['income'][1]}\"\n",
    "        data[\"persona\"] = persona[\"persona\"]\n",
    "    all_data.append(data)"
   ]
  },
  {
   "cell_type": "code",
   "execution_count": 14,
   "metadata": {},
   "outputs": [],
   "source": [
    "# save all_data to csv\n",
    "df = pd.DataFrame(all_data)\n",
    "df.to_csv(\"analysis_result.csv\", index=False)"
   ]
  },
  {
   "cell_type": "code",
   "execution_count": null,
   "metadata": {},
   "outputs": [],
   "source": []
  }
 ],
 "metadata": {
  "kernelspec": {
   "display_name": "simulated_web_agent",
   "language": "python",
   "name": "python3"
  },
  "language_info": {
   "codemirror_mode": {
    "name": "ipython",
    "version": 3
   },
   "file_extension": ".py",
   "mimetype": "text/x-python",
   "name": "python",
   "nbconvert_exporter": "python",
   "pygments_lexer": "ipython3",
   "version": "3.9.19"
  }
 },
 "nbformat": 4,
 "nbformat_minor": 2
}
