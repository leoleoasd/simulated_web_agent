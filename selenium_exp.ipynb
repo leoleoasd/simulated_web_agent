{
 "cells": [
  {
   "cell_type": "code",
   "execution_count": 2,
   "metadata": {},
   "outputs": [],
   "source": [
    "from dotenv import load_dotenv\n",
    "\n",
    "load_dotenv()  # take environment variables\n",
    "\n",
    "import os\n",
    "from bs4 import BeautifulSoup\n",
    "from selenium.webdriver.common.by import By\n",
    "from selenium.webdriver.common.action_chains import ActionChains\n",
    "from selenium.webdriver.common.keys import Keys\n",
    "import dominate\n",
    "from selenium.webdriver.remote.webelement import WebElement as Element\n",
    "import json\n",
    "import logging\n",
    "import time\n",
    "\n",
    "import gymnasium as gym\n",
    "from simulated_web_agent.executor.env import SeleniumEnv, Browser\n",
    "import simulated_web_agent\n",
    "\n",
    "if \"DISPLAY\" in os.environ:\n",
    "    del os.environ[\"DISPLAY\"]\n"
   ]
  },
  {
   "cell_type": "code",
   "execution_count": null,
   "metadata": {},
   "outputs": [],
   "source": [
    "from pathlib import Path"
   ]
  },
  {
   "cell_type": "code",
   "execution_count": 2,
   "metadata": {},
   "outputs": [
    {
     "name": "stderr",
     "output_type": "stream",
     "text": [
      "The chromedriver version (127.0.6533.88) detected in PATH at /opt/homebrew/bin/chromedriver might not be compatible with the detected chrome version (128.0.6613.84); currently, chromedriver 128.0.6613.84 is recommended for chrome 128.*, so it is advised to delete the driver in PATH and retry\n"
     ]
    }
   ],
   "source": [
    "from selenium import webdriver\n",
    "from selenium.webdriver.chrome.options import Options\n",
    "\n",
    "options = Options()\n",
    "options.add_argument(\"start-maximized\")\n",
    "options.add_argument(\"--remote-debugging-port=9222\")\n",
    "driver = webdriver.Chrome(options=options)"
   ]
  },
  {
   "cell_type": "code",
   "execution_count": 3,
   "metadata": {},
   "outputs": [],
   "source": [
    "driver.get(\"http://ec2-3-131-244-37.us-east-2.compute.amazonaws.com:7770/\")\n",
    "driver.implicitly_wait(0)  # seconds"
   ]
  },
  {
   "cell_type": "code",
   "execution_count": 12,
   "metadata": {},
   "outputs": [
    {
     "name": "stdout",
     "output_type": "stream",
     "text": [
      "None\n"
     ]
    }
   ],
   "source": [
    "print(driver.execute_script(\"1\"))"
   ]
  },
  {
   "cell_type": "code",
   "execution_count": null,
   "metadata": {},
   "outputs": [],
   "source": [
    "import dominate.tags\n",
    "\n",
    "\n",
    "clickables = {}\n",
    "inputs = {}\n",
    "\n",
    "\n",
    "def set_attribute(element: Element, attribute, value):\n",
    "    driver.execute_script(\n",
    "        \"arguments[0].setAttribute(arguments[1], arguments[2]);\",\n",
    "        element,\n",
    "        attribute,\n",
    "        value,\n",
    "    )\n",
    "\n",
    "\n",
    "def register_clickable(element: Element, name: str):\n",
    "    clickables[name] = element\n",
    "    set_attribute(element, \"data-clickable-id\", name)\n",
    "\n",
    "\n",
    "def register_input(element: Element, name: str):\n",
    "    inputs[name] = element\n",
    "    set_attribute(element, \"data-input-id\", name)\n",
    "\n",
    "\n",
    "def get_text(element):\n",
    "    elementText = element.text  # sometime NOT work\n",
    "    if not elementText:\n",
    "        elementText = element.get_attribute(\"innerText\")\n",
    "    if not elementText:\n",
    "        elementText = element.get_attribute(\"textContent\")\n",
    "    return element.get_attribute(\"innerText\")\n",
    "\n",
    "\n",
    "actions = {}\n",
    "\n",
    "\n",
    "def process(element: Element, recipe, parent_name=\"\"):\n",
    "    elementText = \"\"\n",
    "    if \"text_selector\" in recipe:\n",
    "        text_element = element.find_element(By.CSS_SELECTOR, recipe[\"text_selector\"])\n",
    "        elementText = get_text(text_element)\n",
    "    else:\n",
    "        elementText = get_text(element)\n",
    "    if \"add_text\" in recipe and recipe[\"add_text\"]:\n",
    "        if not elementText:\n",
    "            elementText = get_text(element)\n",
    "    if \"text_format\" in recipe and recipe[\"text_format\"]:\n",
    "        elementText = recipe[\"text_format\"].format(elementText)\n",
    "\n",
    "    tag_name = element.tag_name\n",
    "    if \"tag_name\" in recipe:\n",
    "        tag_name = recipe[\"tag_name\"]\n",
    "    if tag_name in dominate.tags.underscored_classes:\n",
    "        node = getattr(dominate.tags, tag_name + \"_\")(\n",
    "            elementText if \"add_text\" in recipe and recipe[\"add_text\"] else \"\"\n",
    "        )\n",
    "    else:\n",
    "        node = getattr(dominate.tags, tag_name)(\n",
    "            elementText if \"add_text\" in recipe and recipe[\"add_text\"] else \"\"\n",
    "        )\n",
    "\n",
    "    if \"name\" in recipe and recipe[\"name\"]:\n",
    "        if recipe[\"name\"] == \"from_text\":\n",
    "            if elementText:\n",
    "                element_name = elementText.lower().replace(\" \", \"_\")\n",
    "                for special_char in \"[]{}()<>.:;|!@#$%^&*+-=,?/\\\\\\\"'\":\n",
    "                    element_name = element_name.replace(special_char, \"\")\n",
    "                node[\"name\"] = (parent_name + \".\" if parent_name else \"\") + element_name\n",
    "                parent_name = node[\"name\"]\n",
    "            else:\n",
    "                raise Exception(\"name from_text must have add_text\")\n",
    "        else:\n",
    "            node[\"name\"] = (parent_name + \".\" if parent_name else \"\") + recipe[\"name\"]\n",
    "        parent_name = node[\"name\"]\n",
    "    if \"clickable\" in recipe and recipe[\"clickable\"]:\n",
    "        if \"name\" not in recipe:\n",
    "            raise Exception(\"clickable element must have a name\")\n",
    "        register_clickable(element, node[\"name\"])\n",
    "    for key in [\"alt\", \"src\", \"href\", \"title\", \"type\", \"value\"]:\n",
    "        value = element.get_dom_attribute(key)\n",
    "        if value:\n",
    "            node[key] = value\n",
    "    for key in [\"class\", \"id\"]:\n",
    "        if key in recipe and recipe[key]:\n",
    "            node[key] = recipe[key]\n",
    "    # if 'radio' in recipe and recipe['radio']:\n",
    "    #     if element.get_attribute('checked'):\n",
    "    #         node.text += ' (selected)'\n",
    "    if tag_name == \"input\":\n",
    "        input_type = element.get_attribute(\"type\")\n",
    "        if input_type == \"radio\":\n",
    "            if element.get_attribute(\"checked\"):\n",
    "                node.text += \" (selected)\"\n",
    "            assert \"clickable\" in recipe and recipe[\"clickable\"]\n",
    "        elif input_type == \"text\":\n",
    "            node[\"value\"] = element.get_attribute(\"value\")\n",
    "            register_input(element, node[\"name\"])\n",
    "    if \"children\" in recipe and recipe[\"children\"]:\n",
    "        with node:\n",
    "            for child in recipe[\"children\"]:\n",
    "                if \"direct_child\" in child and child[\"direct_child\"]:\n",
    "                    selector = \":scope > \" + child[\"selector\"]\n",
    "                else:\n",
    "                    selector = child[\"selector\"]\n",
    "                elements = element.find_elements(By.CSS_SELECTOR, selector)\n",
    "                for child_element in elements:\n",
    "                    process(child_element, child, parent_name)\n",
    "    return node\n"
   ]
  },
  {
   "cell_type": "code",
   "execution_count": null,
   "metadata": {},
   "outputs": [],
   "source": []
  },
  {
   "cell_type": "code",
   "execution_count": null,
   "metadata": {},
   "outputs": [],
   "source": []
  },
  {
   "cell_type": "code",
   "execution_count": null,
   "metadata": {},
   "outputs": [],
   "source": [
    "print(process(driver.find_element(By.CSS_SELECTOR, recipe[\"selector\"]), recipe))"
   ]
  },
  {
   "cell_type": "code",
   "execution_count": null,
   "metadata": {},
   "outputs": [],
   "source": [
    "clickables[\"header.search_box.search_button\"].click()"
   ]
  },
  {
   "cell_type": "code",
   "execution_count": null,
   "metadata": {},
   "outputs": [],
   "source": [
    "print(\n",
    "    get_text(\n",
    "        driver.find_element(By.CSS_SELECTOR, \".header.content\").find_element(\n",
    "            By.CSS_SELECTOR, \"button.action.search\"\n",
    "        )\n",
    "    )\n",
    ")"
   ]
  },
  {
   "cell_type": "code",
   "execution_count": null,
   "metadata": {},
   "outputs": [],
   "source": [
    "driver.current_url"
   ]
  },
  {
   "cell_type": "code",
   "execution_count": null,
   "metadata": {},
   "outputs": [],
   "source": [
    "title = (\n",
    "    driver.find_element(By.CSS_SELECTOR, \"html\")\n",
    "    .find_element(By.CSS_SELECTOR, \"head\")\n",
    "    .find_element(By.CSS_SELECTOR, \"title\")\n",
    ")"
   ]
  },
  {
   "cell_type": "code",
   "execution_count": null,
   "metadata": {},
   "outputs": [],
   "source": [
    "title.get_attribute(\"innerHTML\")"
   ]
  },
  {
   "cell_type": "code",
   "execution_count": null,
   "metadata": {},
   "outputs": [],
   "source": [
    "type(title)"
   ]
  },
  {
   "cell_type": "code",
   "execution_count": null,
   "metadata": {},
   "outputs": [],
   "source": [
    "driver.execute_script(JS_BUILD_CSS_SELECTOR, title)"
   ]
  },
  {
   "cell_type": "code",
   "execution_count": null,
   "metadata": {},
   "outputs": [],
   "source": [
    "btn = driver.find_element(\n",
    "    By.CSS_SELECTOR,\n",
    "    \"#maincontent > div.columns > div > div:nth-child(3) > div > div.block-content > div.products-grid.grid > ol > li:nth-child(3) > div > div > div.product-item-inner > div > div.actions-primary > form > button\",\n",
    ")\n"
   ]
  },
  {
   "cell_type": "code",
   "execution_count": null,
   "metadata": {},
   "outputs": [],
   "source": [
    "btn.setProperty(\"data-clickable-id\", \"123\")"
   ]
  },
  {
   "cell_type": "code",
   "execution_count": null,
   "metadata": {},
   "outputs": [],
   "source": []
  },
  {
   "cell_type": "code",
   "execution_count": null,
   "metadata": {},
   "outputs": [],
   "source": [
    "btn.get_attribute(\"data-clickable-id\")"
   ]
  },
  {
   "cell_type": "code",
   "execution_count": null,
   "metadata": {},
   "outputs": [],
   "source": [
    "btn.get_attribute(\"src\")"
   ]
  },
  {
   "cell_type": "code",
   "execution_count": null,
   "metadata": {},
   "outputs": [],
   "source": [
    "title = dominate.tags.title(\"title\")"
   ]
  },
  {
   "cell_type": "code",
   "execution_count": null,
   "metadata": {},
   "outputs": [],
   "source": [
    "title.render(pretty=False)"
   ]
  },
  {
   "cell_type": "code",
   "execution_count": null,
   "metadata": {},
   "outputs": [],
   "source": [
    "title.text += \" (selected)\""
   ]
  },
  {
   "cell_type": "code",
   "execution_count": null,
   "metadata": {},
   "outputs": [],
   "source": [
    "with title:\n",
    "    dominate.tags.div(\"test\")"
   ]
  },
  {
   "cell_type": "code",
   "execution_count": 1,
   "metadata": {},
   "outputs": [
    {
     "name": "stderr",
     "output_type": "stream",
     "text": [
      "/Users/leo/micromamba/envs/simulated_web_agent/lib/python3.9/site-packages/tqdm/auto.py:21: TqdmWarning: IProgress not found. Please update jupyter and ipywidgets. See https://ipywidgets.readthedocs.io/en/stable/user_install.html\n",
      "  from .autonotebook import tqdm as notebook_tqdm\n"
     ]
    }
   ],
   "source": [
    "from dotenv import load_dotenv\n",
    "\n",
    "load_dotenv()  # take environment variables\n",
    "\n",
    "import os\n",
    "from bs4 import BeautifulSoup\n",
    "from selenium.webdriver.common.by import By\n",
    "import dominate\n",
    "from selenium.webdriver.remote.webelement import WebElement as Element\n",
    "import json\n",
    "import logging\n",
    "import time\n",
    "\n",
    "import gymnasium as gym\n",
    "from simulated_web_agent.executor.env import SeleniumEnv\n",
    "from simulated_web_agent.executor.env import Browser\n",
    "import simulated_web_agent\n",
    "\n",
    "if \"DISPLAY\" in os.environ:\n",
    "    del os.environ[\"DISPLAY\"]\n",
    "\n",
    "logging.basicConfig()\n",
    "# env: SeleniumEnv = gym.make(\n",
    "#     \"SeleniumEnv-v0\",\n",
    "#     start_url=\"http://ec2-3-131-244-37.us-east-2.compute.amazonaws.com:7770/\",\n",
    "#     pretty=False,\n",
    "#     headless=True,\n",
    "# )\n",
    "# observation0, info = env.reset()"
   ]
  },
  {
   "cell_type": "code",
   "execution_count": 2,
   "metadata": {},
   "outputs": [
    {
     "name": "stdout",
     "output_type": "stream",
     "text": [
      "html > body html > body\n",
      "html > body > div[name='header'] html > body > div[name='header']\n",
      "html > body > div[name='header'] > form[name='header.search_box'] html > body > div[name='header'] > form[name='header.search_box']\n",
      "html > body > div[name='header'] > form[name='header.search_box'] > input[name='header.search_box.search_input'] html > body > div[name='header'] > form[name='header.search_box'] > input[name='header.search_box.search_input']\n"
     ]
    },
    {
     "name": "stderr",
     "output_type": "stream",
     "text": [
      "/Users/leo/micromamba/envs/simulated_web_agent/lib/python3.9/site-packages/gymnasium/utils/passive_env_checker.py:159: UserWarning: \u001b[33mWARN: The obs returned by the `step()` method is not within the observation space.\u001b[0m\n",
      "  logger.warn(f\"{pre} is not within the observation space.\")\n"
     ]
    },
    {
     "data": {
      "text/plain": [
       "{'url': 'http://ec2-3-131-244-37.us-east-2.compute.amazonaws.com:7770/',\n",
       " 'page': '<input name=\"header.search_box.search_input\" type=\"text\" value=\"test\">',\n",
       " 'clickables': ['header.search_box.search_button',\n",
       "  'header.minicart.view_cart',\n",
       "  'product_showcases._prebaked_gingerbread_house_kit_value_pack_17_oz_pack_of_2_total_34_oz_.view_product',\n",
       "  'product_showcases._prebaked_gingerbread_house_kit_value_pack_17_oz_pack_of_2_total_34_oz_.add_to_cart',\n",
       "  'product_showcases._v8_energy_healthy_energy_drink_steady_energy_from_black_and_green_tea_pomegranate_blueberry_8_ounce_can_pack_of_24_.view_product',\n",
       "  'product_showcases._v8_energy_healthy_energy_drink_steady_energy_from_black_and_green_tea_pomegranate_blueberry_8_ounce_can_pack_of_24_.add_to_cart',\n",
       "  'product_showcases._belle_of_the_ball_princess_sprinkle_mix_wedding_colorful_sprinkles_cake_cupcake_cookie_sprinkles_ice_cream_candy_sprinkles_yellow_gold_red_royal_red_rose_icing_flowers_decorating_sprinkles_8oz_.view_product',\n",
       "  'product_showcases._belle_of_the_ball_princess_sprinkle_mix_wedding_colorful_sprinkles_cake_cupcake_cookie_sprinkles_ice_cream_candy_sprinkles_yellow_gold_red_royal_red_rose_icing_flowers_decorating_sprinkles_8oz_.add_to_cart',\n",
       "  'product_showcases._so_delicious_dairy_free_cocowhip_light_vegan_nongmo_project_verified_9_oz_tub_.view_product',\n",
       "  'product_showcases._so_delicious_dairy_free_cocowhip_light_vegan_nongmo_project_verified_9_oz_tub_.add_to_cart',\n",
       "  'product_showcases._cheongeun_sweet_potato_starch_powder_500g_2easweet_potato_55_corn_45_.view_product',\n",
       "  'product_showcases._cheongeun_sweet_potato_starch_powder_500g_2easweet_potato_55_corn_45_.add_to_cart',\n",
       "  'product_showcases._q_mixers_premium_ginger_ale_real_ingredients__less_sweet_67_fl_oz_24_bottles_.view_product',\n",
       "  'product_showcases._q_mixers_premium_ginger_ale_real_ingredients__less_sweet_67_fl_oz_24_bottles_.add_to_cart',\n",
       "  'product_showcases._stove_top_turkey_stuffing_mix_12_oz_boxes_pack_of_2_.view_product',\n",
       "  'product_showcases._stove_top_turkey_stuffing_mix_12_oz_boxes_pack_of_2_.add_to_cart',\n",
       "  'product_showcases._briess_dme__pilsen_light__1_lb_bag_.view_product',\n",
       "  'product_showcases._briess_dme__pilsen_light__1_lb_bag_.add_to_cart',\n",
       "  'product_showcases._tony_chacheres_more_spice_creole_seasoning__14_oz_.view_product',\n",
       "  'product_showcases._tony_chacheres_more_spice_creole_seasoning__14_oz_.add_to_cart',\n",
       "  'product_showcases._lobster_cobbler_pot_pie__gourmet_frozen_seafood_appetizers_set_of_8_trays_.view_product',\n",
       "  'product_showcases._lobster_cobbler_pot_pie__gourmet_frozen_seafood_appetizers_set_of_8_trays_.add_to_cart',\n",
       "  'product_showcases._crunchy_rice_rollers__gluten_free__vegan__35_oz_individual_packs_4_packs_of_8_rollers_.view_product',\n",
       "  'product_showcases._crunchy_rice_rollers__gluten_free__vegan__35_oz_individual_packs_4_packs_of_8_rollers_.add_to_cart',\n",
       "  'product_showcases._20_pcs_balls_cake_topper_mini_balloons_cake_topper_pearl_balls_cake_pick_foam_ball_cupcake_topper_baking_decoration_supplies_toothpick_party_wedding_anniversary_birthday_baby_shower_cake_decoration_.view_product',\n",
       "  'product_showcases._20_pcs_balls_cake_topper_mini_balloons_cake_topper_pearl_balls_cake_pick_foam_ball_cupcake_topper_baking_decoration_supplies_toothpick_party_wedding_anniversary_birthday_baby_shower_cake_decoration_.add_to_cart'],\n",
       " 'inputs': ['header.search_box.search_input'],\n",
       " 'error_message': '',\n",
       " 'diff_selector': \"html > body > div[name='header'] > form[name='header.search_box'] > input[name='header.search_box.search_input']\"}"
      ]
     },
     "execution_count": 2,
     "metadata": {},
     "output_type": "execute_result"
    }
   ],
   "source": [
    "observation, _, _, _, _ = env.step(\n",
    "    '{\"type\": \"type\", \"name\": \"header.search_box.search_input\", \"text\": \"test\"}'\n",
    ")\n",
    "observation"
   ]
  },
  {
   "cell_type": "code",
   "execution_count": 4,
   "metadata": {},
   "outputs": [
    {
     "data": {
      "text/plain": [
       "{'url': 'http://ec2-3-131-244-37.us-east-2.compute.amazonaws.com:7770/',\n",
       " 'page': '<input name=\"header.search_box.search_input\" type=\"text\" value=\"test\">',\n",
       " 'clickables': ['header.search_box.search_button',\n",
       "  'header.minicart.view_cart',\n",
       "  'product_showcases._prebaked_gingerbread_house_kit_value_pack_17_oz_pack_of_2_total_34_oz_.view_product',\n",
       "  'product_showcases._prebaked_gingerbread_house_kit_value_pack_17_oz_pack_of_2_total_34_oz_.add_to_cart',\n",
       "  'product_showcases._v8_energy_healthy_energy_drink_steady_energy_from_black_and_green_tea_pomegranate_blueberry_8_ounce_can_pack_of_24_.view_product',\n",
       "  'product_showcases._v8_energy_healthy_energy_drink_steady_energy_from_black_and_green_tea_pomegranate_blueberry_8_ounce_can_pack_of_24_.add_to_cart',\n",
       "  'product_showcases._belle_of_the_ball_princess_sprinkle_mix_wedding_colorful_sprinkles_cake_cupcake_cookie_sprinkles_ice_cream_candy_sprinkles_yellow_gold_red_royal_red_rose_icing_flowers_decorating_sprinkles_8oz_.view_product',\n",
       "  'product_showcases._belle_of_the_ball_princess_sprinkle_mix_wedding_colorful_sprinkles_cake_cupcake_cookie_sprinkles_ice_cream_candy_sprinkles_yellow_gold_red_royal_red_rose_icing_flowers_decorating_sprinkles_8oz_.add_to_cart',\n",
       "  'product_showcases._so_delicious_dairy_free_cocowhip_light_vegan_nongmo_project_verified_9_oz_tub_.view_product',\n",
       "  'product_showcases._so_delicious_dairy_free_cocowhip_light_vegan_nongmo_project_verified_9_oz_tub_.add_to_cart',\n",
       "  'product_showcases._cheongeun_sweet_potato_starch_powder_500g_2easweet_potato_55_corn_45_.view_product',\n",
       "  'product_showcases._cheongeun_sweet_potato_starch_powder_500g_2easweet_potato_55_corn_45_.add_to_cart',\n",
       "  'product_showcases._q_mixers_premium_ginger_ale_real_ingredients__less_sweet_67_fl_oz_24_bottles_.view_product',\n",
       "  'product_showcases._q_mixers_premium_ginger_ale_real_ingredients__less_sweet_67_fl_oz_24_bottles_.add_to_cart',\n",
       "  'product_showcases._stove_top_turkey_stuffing_mix_12_oz_boxes_pack_of_2_.view_product',\n",
       "  'product_showcases._stove_top_turkey_stuffing_mix_12_oz_boxes_pack_of_2_.add_to_cart',\n",
       "  'product_showcases._briess_dme__pilsen_light__1_lb_bag_.view_product',\n",
       "  'product_showcases._briess_dme__pilsen_light__1_lb_bag_.add_to_cart',\n",
       "  'product_showcases._tony_chacheres_more_spice_creole_seasoning__14_oz_.view_product',\n",
       "  'product_showcases._tony_chacheres_more_spice_creole_seasoning__14_oz_.add_to_cart',\n",
       "  'product_showcases._lobster_cobbler_pot_pie__gourmet_frozen_seafood_appetizers_set_of_8_trays_.view_product',\n",
       "  'product_showcases._lobster_cobbler_pot_pie__gourmet_frozen_seafood_appetizers_set_of_8_trays_.add_to_cart',\n",
       "  'product_showcases._crunchy_rice_rollers__gluten_free__vegan__35_oz_individual_packs_4_packs_of_8_rollers_.view_product',\n",
       "  'product_showcases._crunchy_rice_rollers__gluten_free__vegan__35_oz_individual_packs_4_packs_of_8_rollers_.add_to_cart',\n",
       "  'product_showcases._20_pcs_balls_cake_topper_mini_balloons_cake_topper_pearl_balls_cake_pick_foam_ball_cupcake_topper_baking_decoration_supplies_toothpick_party_wedding_anniversary_birthday_baby_shower_cake_decoration_.view_product',\n",
       "  'product_showcases._20_pcs_balls_cake_topper_mini_balloons_cake_topper_pearl_balls_cake_pick_foam_ball_cupcake_topper_baking_decoration_supplies_toothpick_party_wedding_anniversary_birthday_baby_shower_cake_decoration_.add_to_cart'],\n",
       " 'inputs': ['header.search_box.search_input'],\n",
       " 'error_message': ''}"
      ]
     },
     "execution_count": 4,
     "metadata": {},
     "output_type": "execute_result"
    }
   ],
   "source": [
    "observation"
   ]
  },
  {
   "cell_type": "code",
   "execution_count": null,
   "metadata": {},
   "outputs": [
    {
     "data": {
      "text/plain": [
       "{'url': 'http://ec2-3-131-244-37.us-east-2.compute.amazonaws.com:7770/',\n",
       " 'page': '<html><head><title>One Stop Market</title></head><body><div name=\"header\"><form name=\"header.search_box\"><input name=\"header.search_box.search_input\" type=\"text\" value=\"test\"><button name=\"header.search_box.search_button\" title=\"Search\" type=\"submit\"> Search </button></form><div name=\"header.minicart\"><a href=\"http://ec2-3-131-244-37.us-east-2.compute.amazonaws.com:7770/checkout/cart/\" name=\"header.minicart.view_cart\">Go to cart<span> </span></a></div></div><div name=\"product_showcases\">Product Showcases<div class=\"product-item-info\" name=\"product_showcases._prebaked_gingerbread_house_kit_value_pack_17_oz_pack_of_2_total_34_oz_\"><img alt=\"Image\" src=\"http://ec2-3-131-244-37.us-east-2.compute.amazonaws.com:7770/media/catalog/product/cache/89ff578b9cd87e0600daac45c9e1ea98/B/0/B08PCSHBXY.0.jpg\"><div><span>Rating: 20%</span><a href=\"http://ec2-3-131-244-37.us-east-2.compute.amazonaws.com:7770/pre-baked-gingerbread-house-kit-value-pack-17-oz-pack-of-2-total-34-oz.html#reviews\" name=\"product_showcases._prebaked_gingerbread_house_kit_value_pack_17_oz_pack_of_2_total_34_oz_.rating\">1 Review </a><a href=\"http://ec2-3-131-244-37.us-east-2.compute.amazonaws.com:7770/pre-baked-gingerbread-house-kit-value-pack-17-oz-pack-of-2-total-34-oz.html\" name=\"product_showcases._prebaked_gingerbread_house_kit_value_pack_17_oz_pack_of_2_total_34_oz_.view_product\" title=\"Pre-baked Gingerbread House Kit Value Pack, 17 oz., Pack of 2, Total 34 oz.\"> Pre-baked Gingerbread House Kit Value Pack, 17 oz., Pack of 2, Total 34 oz. </a><div> $19.99 </div><button name=\"product_showcases._prebaked_gingerbread_house_kit_value_pack_17_oz_pack_of_2_total_34_oz_.add_to_cart\"> Add to Cart </button></div></div><div class=\"product-item-info\" name=\"product_showcases._v8_energy_healthy_energy_drink_steady_energy_from_black_and_green_tea_pomegranate_blueberry_8_ounce_can_pack_of_24_\"><img alt=\"Image\" src=\"http://ec2-3-131-244-37.us-east-2.compute.amazonaws.com:7770/media/catalog/product/cache/89ff578b9cd87e0600daac45c9e1ea98/B/0/B00CPTR7WS.0.jpg\"><div><span>Rating: 57%</span><a href=\"http://ec2-3-131-244-37.us-east-2.compute.amazonaws.com:7770/v8-energy-healthy-energy-drink-steady-energy-from-black-and-green-tea-pomegranate-blueberry-8-ounce-can-pack-of-24.html#reviews\" name=\"product_showcases._v8_energy_healthy_energy_drink_steady_energy_from_black_and_green_tea_pomegranate_blueberry_8_ounce_can_pack_of_24_.rating\">12 Reviews </a><a href=\"http://ec2-3-131-244-37.us-east-2.compute.amazonaws.com:7770/v8-energy-healthy-energy-drink-steady-energy-from-black-and-green-tea-pomegranate-blueberry-8-ounce-can-pack-of-24.html\" name=\"product_showcases._v8_energy_healthy_energy_drink_steady_energy_from_black_and_green_tea_pomegranate_blueberry_8_ounce_can_pack_of_24_.view_product\" title=\"V8 +Energy, Healthy Energy Drink, Steady Energy from Black and Green Tea, Pomegranate Blueberry, 8 Ounce Can ,Pack of 24\"> V8 +Energy, Healthy Energy Drink, Steady Energy from Black and Green Tea, Pomegranate Blueberry, 8 Ounce Can ,Pack of 24 </a><div> $14.47 </div><button name=\"product_showcases._v8_energy_healthy_energy_drink_steady_energy_from_black_and_green_tea_pomegranate_blueberry_8_ounce_can_pack_of_24_.add_to_cart\"> Add to Cart </button></div></div><div class=\"product-item-info\" name=\"product_showcases._belle_of_the_ball_princess_sprinkle_mix_wedding_colorful_sprinkles_cake_cupcake_cookie_sprinkles_ice_cream_candy_sprinkles_yellow_gold_red_royal_red_rose_icing_flowers_decorating_sprinkles_8oz_\"><img alt=\"Image\" src=\"http://ec2-3-131-244-37.us-east-2.compute.amazonaws.com:7770/media/catalog/product/cache/89ff578b9cd87e0600daac45c9e1ea98/B/0/B08743KW8M.0.jpg\"><div><span>Rating: 63%</span><a href=\"http://ec2-3-131-244-37.us-east-2.compute.amazonaws.com:7770/belle-of-the-ball-princess-sprinkle-mix-wedding-colorful-sprinkles-cake-cupcake-cookie-sprinkles-ice-cream-candy-sprinkles-yellow-gold-red-royal-red-rose-icing-flowers-decorating-sprinkles-8oz.html#reviews\" name=\"product_showcases._belle_of_the_ball_princess_sprinkle_mix_wedding_colorful_sprinkles_cake_cupcake_cookie_sprinkles_ice_cream_candy_sprinkles_yellow_gold_red_royal_red_rose_icing_flowers_decorating_sprinkles_8oz_.rating\">12 Reviews </a><a href=\"http://ec2-3-131-244-37.us-east-2.compute.amazonaws.com:7770/belle-of-the-ball-princess-sprinkle-mix-wedding-colorful-sprinkles-cake-cupcake-cookie-sprinkles-ice-cream-candy-sprinkles-yellow-gold-red-royal-red-rose-icing-flowers-decorating-sprinkles-8oz.html\" name=\"product_showcases._belle_of_the_ball_princess_sprinkle_mix_wedding_colorful_sprinkles_cake_cupcake_cookie_sprinkles_ice_cream_candy_sprinkles_yellow_gold_red_royal_red_rose_icing_flowers_decorating_sprinkles_8oz_.view_product\" title=\"Belle Of The Ball Princess Sprinkle Mix| Wedding Colorful Sprinkles| Cake Cupcake Cookie Sprinkles| Ice cream Candy Sprinkles| Yellow Gold Red Royal Red Rose Icing Flowers Decorating Sprinkles, 8OZ\"> Belle Of The Ball Princess Sprinkle Mix| Wedding Colorful Sprinkles| Cake Cupcake Cookie Sprinkles| Ice cream Candy Sprinkles| Yellow Gold Red Royal Red Rose Icing Flowers Decorating Sprinkles, 8OZ </a><div> $23.50 </div><button name=\"product_showcases._belle_of_the_ball_princess_sprinkle_mix_wedding_colorful_sprinkles_cake_cupcake_cookie_sprinkles_ice_cream_candy_sprinkles_yellow_gold_red_royal_red_rose_icing_flowers_decorating_sprinkles_8oz_.add_to_cart\"> Add to Cart </button></div></div><div class=\"product-item-info\" name=\"product_showcases._so_delicious_dairy_free_cocowhip_light_vegan_nongmo_project_verified_9_oz_tub_\"><img alt=\"Image\" src=\"http://ec2-3-131-244-37.us-east-2.compute.amazonaws.com:7770/media/catalog/product/cache/89ff578b9cd87e0600daac45c9e1ea98/B/0/B01N1QRJNG.0.jpg\"><div><span>Rating: 78%</span><a href=\"http://ec2-3-131-244-37.us-east-2.compute.amazonaws.com:7770/so-delicious-dairy-free-cocowhip-light-vegan-non-gmo-project-verified-9-oz-tub.html#reviews\" name=\"product_showcases._so_delicious_dairy_free_cocowhip_light_vegan_nongmo_project_verified_9_oz_tub_.rating\">12 Reviews </a><a href=\"http://ec2-3-131-244-37.us-east-2.compute.amazonaws.com:7770/so-delicious-dairy-free-cocowhip-light-vegan-non-gmo-project-verified-9-oz-tub.html\" name=\"product_showcases._so_delicious_dairy_free_cocowhip_light_vegan_nongmo_project_verified_9_oz_tub_.view_product\" title=\"So Delicious Dairy Free CocoWhip Light, Vegan, Non-GMO Project Verified, 9 oz. Tub\"> So Delicious Dairy Free CocoWhip Light, Vegan, Non-GMO Project Verified, 9 oz. Tub </a><div> $15.62 </div><button name=\"product_showcases._so_delicious_dairy_free_cocowhip_light_vegan_nongmo_project_verified_9_oz_tub_.add_to_cart\"> Add to Cart </button></div></div><div class=\"product-item-info\" name=\"product_showcases._cheongeun_sweet_potato_starch_powder_500g_2easweet_potato_55_corn_45_\"><img alt=\"Image\" src=\"http://ec2-3-131-244-37.us-east-2.compute.amazonaws.com:7770/media/catalog/product/cache/89ff578b9cd87e0600daac45c9e1ea98/B/0/B07Y4MC6M5.0.jpg\"><div><a href=\"http://ec2-3-131-244-37.us-east-2.compute.amazonaws.com:7770/cheongeun-sweet-potato-starch-powder-500g-2ea-sweet-potato-55-corn-45.html\" name=\"product_showcases._cheongeun_sweet_potato_starch_powder_500g_2easweet_potato_55_corn_45_.view_product\" title=\"Cheongeun Sweet Potato Starch Powder 500g, 2ea(Sweet Potato 55%, Corn 45%)\"> Cheongeun Sweet Potato Starch Powder 500g, 2ea(Sweet Potato 55%, Corn 45%) </a><div> $34.00 </div><button name=\"product_showcases._cheongeun_sweet_potato_starch_powder_500g_2easweet_potato_55_corn_45_.add_to_cart\"> Add to Cart </button></div></div><div class=\"product-item-info\" name=\"product_showcases._q_mixers_premium_ginger_ale_real_ingredients__less_sweet_67_fl_oz_24_bottles_\"><img alt=\"Image\" src=\"http://ec2-3-131-244-37.us-east-2.compute.amazonaws.com:7770/media/catalog/product/cache/89ff578b9cd87e0600daac45c9e1ea98/B/0/B071KC37VD.0.jpg\"><div><span>Rating: 88%</span><a href=\"http://ec2-3-131-244-37.us-east-2.compute.amazonaws.com:7770/q-mixers-premium-ginger-ale-real-ingredients-less-sweet-6-7-fl-oz-24-bottles.html#reviews\" name=\"product_showcases._q_mixers_premium_ginger_ale_real_ingredients__less_sweet_67_fl_oz_24_bottles_.rating\">12 Reviews </a><a href=\"http://ec2-3-131-244-37.us-east-2.compute.amazonaws.com:7770/q-mixers-premium-ginger-ale-real-ingredients-less-sweet-6-7-fl-oz-24-bottles.html\" name=\"product_showcases._q_mixers_premium_ginger_ale_real_ingredients__less_sweet_67_fl_oz_24_bottles_.view_product\" title=\"Q Mixers Premium Ginger Ale: Real Ingredients &amp; Less Sweet, 6.7 Fl Oz (24 Bottles)\"> Q Mixers Premium Ginger Ale: Real Ingredients &amp; Less Sweet, 6.7 Fl Oz (24 Bottles) </a><div> $68.50 </div><button name=\"product_showcases._q_mixers_premium_ginger_ale_real_ingredients__less_sweet_67_fl_oz_24_bottles_.add_to_cart\"> Add to Cart </button></div></div><div class=\"product-item-info\" name=\"product_showcases._stove_top_turkey_stuffing_mix_12_oz_boxes_pack_of_2_\"><img alt=\"Image\" src=\"http://ec2-3-131-244-37.us-east-2.compute.amazonaws.com:7770/media/catalog/product/cache/89ff578b9cd87e0600daac45c9e1ea98/B/0/B004U5F23G.0.jpg\"><div><span>Rating: 85%</span><a href=\"http://ec2-3-131-244-37.us-east-2.compute.amazonaws.com:7770/stove-top-turkey-stuffing-mix-12-oz-boxes-pack-of-2.html#reviews\" name=\"product_showcases._stove_top_turkey_stuffing_mix_12_oz_boxes_pack_of_2_.rating\">12 Reviews </a><a href=\"http://ec2-3-131-244-37.us-east-2.compute.amazonaws.com:7770/stove-top-turkey-stuffing-mix-12-oz-boxes-pack-of-2.html\" name=\"product_showcases._stove_top_turkey_stuffing_mix_12_oz_boxes_pack_of_2_.view_product\" title=\"Stove Top Turkey Stuffing Mix (12 oz Boxes, Pack of 2)\"> Stove Top Turkey Stuffing Mix (12 oz Boxes, Pack of 2) </a><div> $8.49 </div><button name=\"product_showcases._stove_top_turkey_stuffing_mix_12_oz_boxes_pack_of_2_.add_to_cart\"> Add to Cart </button></div></div><div class=\"product-item-info\" name=\"product_showcases._briess_dme__pilsen_light__1_lb_bag_\"><img alt=\"Image\" src=\"http://ec2-3-131-244-37.us-east-2.compute.amazonaws.com:7770/media/catalog/product/cache/89ff578b9cd87e0600daac45c9e1ea98/B/0/B074DBMG66.0.jpg\"><div><a href=\"http://ec2-3-131-244-37.us-east-2.compute.amazonaws.com:7770/briess-dme-pilsen-light-1-lb-bag.html\" name=\"product_showcases._briess_dme__pilsen_light__1_lb_bag_.view_product\" title=\"Briess DME - Pilsen Light - 1 lb Bag\"> Briess DME - Pilsen Light - 1 lb Bag </a><div> $12.99 </div><button name=\"product_showcases._briess_dme__pilsen_light__1_lb_bag_.add_to_cart\"> Add to Cart </button></div></div><div class=\"product-item-info\" name=\"product_showcases._tony_chacheres_more_spice_creole_seasoning__14_oz_\"><img alt=\"Image\" src=\"http://ec2-3-131-244-37.us-east-2.compute.amazonaws.com:7770/media/catalog/product/cache/89ff578b9cd87e0600daac45c9e1ea98/B/0/B001Q1J3QY.0.jpg\"><div><span>Rating: 75%</span><a href=\"http://ec2-3-131-244-37.us-east-2.compute.amazonaws.com:7770/tony-chachere-s-more-spice-creole-seasoning-14-oz.html#reviews\" name=\"product_showcases._tony_chacheres_more_spice_creole_seasoning__14_oz_.rating\">12 Reviews </a><a href=\"http://ec2-3-131-244-37.us-east-2.compute.amazonaws.com:7770/tony-chachere-s-more-spice-creole-seasoning-14-oz.html\" name=\"product_showcases._tony_chacheres_more_spice_creole_seasoning__14_oz_.view_product\" title=\"Tony Chachere\\'s More Spice Creole Seasoning - 14 oz\"> Tony Chachere\\'s More Spice Creole Seasoning - 14 oz </a><div> $7.92 </div><button name=\"product_showcases._tony_chacheres_more_spice_creole_seasoning__14_oz_.add_to_cart\"> Add to Cart </button></div></div><div class=\"product-item-info\" name=\"product_showcases._lobster_cobbler_pot_pie__gourmet_frozen_seafood_appetizers_set_of_8_trays_\"><img alt=\"Image\" src=\"http://ec2-3-131-244-37.us-east-2.compute.amazonaws.com:7770/media/catalog/product/cache/89ff578b9cd87e0600daac45c9e1ea98/B/0/B0793RMRGT.0.jpg\"><div><a href=\"http://ec2-3-131-244-37.us-east-2.compute.amazonaws.com:7770/lobster-cobbler-pot-pie-gourmet-frozen-seafood-appetizers-set-of-8-trays.html\" name=\"product_showcases._lobster_cobbler_pot_pie__gourmet_frozen_seafood_appetizers_set_of_8_trays_.view_product\" title=\"Lobster Cobbler Pot Pie - Gourmet Frozen Seafood Appetizers (Set of 8 Trays)\"> Lobster Cobbler Pot Pie - Gourmet Frozen Seafood Appetizers (Set of 8 Trays) </a><div> $411.76 </div><button name=\"product_showcases._lobster_cobbler_pot_pie__gourmet_frozen_seafood_appetizers_set_of_8_trays_.add_to_cart\"> Add to Cart </button></div></div><div class=\"product-item-info\" name=\"product_showcases._crunchy_rice_rollers__gluten_free__vegan__35_oz_individual_packs_4_packs_of_8_rollers_\"><img alt=\"Image\" src=\"http://ec2-3-131-244-37.us-east-2.compute.amazonaws.com:7770/media/catalog/product/cache/89ff578b9cd87e0600daac45c9e1ea98/B/0/B00J7HXXGA.0.jpg\"><div><span>Rating: 83%</span><a href=\"http://ec2-3-131-244-37.us-east-2.compute.amazonaws.com:7770/crunchy-rice-rollers-gluten-free-vegan-3-5-oz-individual-packs-4-packs-of-8-rollers.html#reviews\" name=\"product_showcases._crunchy_rice_rollers__gluten_free__vegan__35_oz_individual_packs_4_packs_of_8_rollers_.rating\">12 Reviews </a><a href=\"http://ec2-3-131-244-37.us-east-2.compute.amazonaws.com:7770/crunchy-rice-rollers-gluten-free-vegan-3-5-oz-individual-packs-4-packs-of-8-rollers.html\" name=\"product_showcases._crunchy_rice_rollers__gluten_free__vegan__35_oz_individual_packs_4_packs_of_8_rollers_.view_product\" title=\"Crunchy Rice Rollers - Gluten Free - Vegan - 3.5 oz Individual Packs (4 Packs of 8 Rollers)\"> Crunchy Rice Rollers - Gluten Free - Vegan - 3.5 oz Individual Packs (4 Packs of 8 Rollers) </a><div> $11.50 </div><button name=\"product_showcases._crunchy_rice_rollers__gluten_free__vegan__35_oz_individual_packs_4_packs_of_8_rollers_.add_to_cart\"> Add to Cart </button></div></div><div class=\"product-item-info\" name=\"product_showcases._20_pcs_balls_cake_topper_mini_balloons_cake_topper_pearl_balls_cake_pick_foam_ball_cupcake_topper_baking_decoration_supplies_toothpick_party_wedding_anniversary_birthday_baby_shower_cake_decoration_\"><img alt=\"Image\" src=\"http://ec2-3-131-244-37.us-east-2.compute.amazonaws.com:7770/media/catalog/product/cache/89ff578b9cd87e0600daac45c9e1ea98/B/0/B09GFC1D5R.0.jpg\"><div><span>Rating: 62%</span><a href=\"http://ec2-3-131-244-37.us-east-2.compute.amazonaws.com:7770/20-pcs-balls-cake-topper-mini-balloons-cake-topper-pearl-balls-cake-pick-foam-ball-cupcake-topper-baking-decoration-supplies-toothpick-party-wedding-anniversary-birthday-baby-shower-cake-decoration.html#reviews\" name=\"product_showcases._20_pcs_balls_cake_topper_mini_balloons_cake_topper_pearl_balls_cake_pick_foam_ball_cupcake_topper_baking_decoration_supplies_toothpick_party_wedding_anniversary_birthday_baby_shower_cake_decoration_.rating\">11 Reviews </a><a href=\"http://ec2-3-131-244-37.us-east-2.compute.amazonaws.com:7770/20-pcs-balls-cake-topper-mini-balloons-cake-topper-pearl-balls-cake-pick-foam-ball-cupcake-topper-baking-decoration-supplies-toothpick-party-wedding-anniversary-birthday-baby-shower-cake-decoration.html\" name=\"product_showcases._20_pcs_balls_cake_topper_mini_balloons_cake_topper_pearl_balls_cake_pick_foam_ball_cupcake_topper_baking_decoration_supplies_toothpick_party_wedding_anniversary_birthday_baby_shower_cake_decoration_.view_product\" title=\"20 PCS Balls Cake Topper Mini Balloons Cake Topper Pearl Balls Cake Pick Foam Ball Cupcake Topper Baking Decoration Supplies Toothpick Party Wedding Anniversary Birthday Baby Shower Cake Decoration\"> 20 PCS Balls Cake Topper Mini Balloons Cake Topper Pearl Balls Cake Pick Foam Ball Cupcake Topper Baking Decoration Supplies Toothpick Party Wedding Anniversary Birthday Baby Shower Cake Decoration </a><div> $9.49 </div><button name=\"product_showcases._20_pcs_balls_cake_topper_mini_balloons_cake_topper_pearl_balls_cake_pick_foam_ball_cupcake_topper_baking_decoration_supplies_toothpick_party_wedding_anniversary_birthday_baby_shower_cake_decoration_.add_to_cart\"> Add to Cart </button></div></div></div></body></html>',\n",
       " 'clickables': ['header.search_box.search_button',\n",
       "  'header.minicart.view_cart',\n",
       "  'product_showcases._prebaked_gingerbread_house_kit_value_pack_17_oz_pack_of_2_total_34_oz_.view_product',\n",
       "  'product_showcases._prebaked_gingerbread_house_kit_value_pack_17_oz_pack_of_2_total_34_oz_.add_to_cart',\n",
       "  'product_showcases._v8_energy_healthy_energy_drink_steady_energy_from_black_and_green_tea_pomegranate_blueberry_8_ounce_can_pack_of_24_.view_product',\n",
       "  'product_showcases._v8_energy_healthy_energy_drink_steady_energy_from_black_and_green_tea_pomegranate_blueberry_8_ounce_can_pack_of_24_.add_to_cart',\n",
       "  'product_showcases._belle_of_the_ball_princess_sprinkle_mix_wedding_colorful_sprinkles_cake_cupcake_cookie_sprinkles_ice_cream_candy_sprinkles_yellow_gold_red_royal_red_rose_icing_flowers_decorating_sprinkles_8oz_.view_product',\n",
       "  'product_showcases._belle_of_the_ball_princess_sprinkle_mix_wedding_colorful_sprinkles_cake_cupcake_cookie_sprinkles_ice_cream_candy_sprinkles_yellow_gold_red_royal_red_rose_icing_flowers_decorating_sprinkles_8oz_.add_to_cart',\n",
       "  'product_showcases._so_delicious_dairy_free_cocowhip_light_vegan_nongmo_project_verified_9_oz_tub_.view_product',\n",
       "  'product_showcases._so_delicious_dairy_free_cocowhip_light_vegan_nongmo_project_verified_9_oz_tub_.add_to_cart',\n",
       "  'product_showcases._cheongeun_sweet_potato_starch_powder_500g_2easweet_potato_55_corn_45_.view_product',\n",
       "  'product_showcases._cheongeun_sweet_potato_starch_powder_500g_2easweet_potato_55_corn_45_.add_to_cart',\n",
       "  'product_showcases._q_mixers_premium_ginger_ale_real_ingredients__less_sweet_67_fl_oz_24_bottles_.view_product',\n",
       "  'product_showcases._q_mixers_premium_ginger_ale_real_ingredients__less_sweet_67_fl_oz_24_bottles_.add_to_cart',\n",
       "  'product_showcases._stove_top_turkey_stuffing_mix_12_oz_boxes_pack_of_2_.view_product',\n",
       "  'product_showcases._stove_top_turkey_stuffing_mix_12_oz_boxes_pack_of_2_.add_to_cart',\n",
       "  'product_showcases._briess_dme__pilsen_light__1_lb_bag_.view_product',\n",
       "  'product_showcases._briess_dme__pilsen_light__1_lb_bag_.add_to_cart',\n",
       "  'product_showcases._tony_chacheres_more_spice_creole_seasoning__14_oz_.view_product',\n",
       "  'product_showcases._tony_chacheres_more_spice_creole_seasoning__14_oz_.add_to_cart',\n",
       "  'product_showcases._lobster_cobbler_pot_pie__gourmet_frozen_seafood_appetizers_set_of_8_trays_.view_product',\n",
       "  'product_showcases._lobster_cobbler_pot_pie__gourmet_frozen_seafood_appetizers_set_of_8_trays_.add_to_cart',\n",
       "  'product_showcases._crunchy_rice_rollers__gluten_free__vegan__35_oz_individual_packs_4_packs_of_8_rollers_.view_product',\n",
       "  'product_showcases._crunchy_rice_rollers__gluten_free__vegan__35_oz_individual_packs_4_packs_of_8_rollers_.add_to_cart',\n",
       "  'product_showcases._20_pcs_balls_cake_topper_mini_balloons_cake_topper_pearl_balls_cake_pick_foam_ball_cupcake_topper_baking_decoration_supplies_toothpick_party_wedding_anniversary_birthday_baby_shower_cake_decoration_.view_product',\n",
       "  'product_showcases._20_pcs_balls_cake_topper_mini_balloons_cake_topper_pearl_balls_cake_pick_foam_ball_cupcake_topper_baking_decoration_supplies_toothpick_party_wedding_anniversary_birthday_baby_shower_cake_decoration_.add_to_cart'],\n",
       " 'inputs': ['header.search_box.search_input'],\n",
       " 'error_message': ''}"
      ]
     },
     "execution_count": 4,
     "metadata": {},
     "output_type": "execute_result"
    }
   ],
   "source": [
    "observation"
   ]
  },
  {
   "cell_type": "code",
   "execution_count": null,
   "metadata": {},
   "outputs": [],
   "source": [
    "env.browser.type_and_submit(\"header.search_box.search_input\", \"rain coat\")"
   ]
  },
  {
   "cell_type": "code",
   "execution_count": null,
   "metadata": {},
   "outputs": [],
   "source": [
    "env.step(\n",
    "    '{\"type\": \"type_and_submit\", \"name\": \"header.search_box.search_input\", \"text\": \"waterproof coat\"}'\n",
    ")"
   ]
  },
  {
   "cell_type": "code",
   "execution_count": 3,
   "metadata": {},
   "outputs": [],
   "source": [
    "html = dominate.tags.html()\n",
    "with html:\n",
    "    card = dominate.tags.div(\"card\", cls=\"product-list\")\n",
    "    title = dominate.tags.title(\"title\")\n",
    "    with card:\n",
    "        for i in range(10):\n",
    "            with dominate.tags.div(\"card\", cls=\"product-item-info\"):\n",
    "                title = dominate.tags.title(\"title\")\n",
    "                title.text = \"test\"\n",
    "                img = dominate.tags.img()\n",
    "                img.attributes[\"src\"] = f\"https://via.placeholder.com/150x150?text={i}\"\n",
    "                price = dominate.tags.div(\"price\")\n",
    "                price.text = \"$100\"\n",
    "                rating = dominate.tags.div(\"rating\")\n",
    "                rating.text = \"4.5\"\n",
    "                rating.attributes[\"class\"] = \"fa fa-star\"\n",
    "html2 = dominate.tags.html()\n",
    "with html2:\n",
    "    card2 = dominate.tags.div(\"card\", cls=\"product-list\")\n",
    "    title = dominate.tags.title(\"title2\")\n",
    "    with card2:\n",
    "        for i in range(10):\n",
    "            with dominate.tags.div(\"card\", cls=\"product-item-info\"):\n",
    "                title = dominate.tags.title(\"title\")\n",
    "                title.text = \"test1\"\n",
    "                img = dominate.tags.img()\n",
    "                img.attributes[\"src\"] = f\"https://via.placeholder.com/150x150?text={i}\"\n",
    "                price = dominate.tags.div(\"price\")\n",
    "                price.text = \"$100\"\n",
    "                rating = dominate.tags.div(\"rating\")\n",
    "                rating.text = \"4.5\"\n",
    "                rating.attributes[\"class\"] = \"fa fa-star\""
   ]
  },
  {
   "cell_type": "code",
   "execution_count": null,
   "metadata": {},
   "outputs": [],
   "source": [
    "print(node_to_selector(tree_diff(html, html2)[0]))\n",
    "print(node_to_selector(tree_diff(html, html2)[1]))"
   ]
  },
  {
   "cell_type": "code",
   "execution_count": 4,
   "metadata": {},
   "outputs": [
    {
     "data": {
      "text/plain": [
       "<dominate.tags.title at 12b08ec10: 0 attributes, 1 child>"
      ]
     },
     "execution_count": 4,
     "metadata": {},
     "output_type": "execute_result"
    }
   ],
   "source": [
    "html.children[1]"
   ]
  },
  {
   "cell_type": "code",
   "execution_count": 6,
   "metadata": {},
   "outputs": [],
   "source": [
    "ul = dominate.tags.ul()\n",
    "with ul:\n",
    "    for i in range(10):\n",
    "        li = dominate.tags.li(f\"test{i}\")"
   ]
  },
  {
   "cell_type": "code",
   "execution_count": 11,
   "metadata": {},
   "outputs": [
    {
     "data": {
      "text/plain": [
       "'ul > li'"
      ]
     },
     "execution_count": 11,
     "metadata": {},
     "output_type": "execute_result"
    }
   ],
   "source": [
    "node_to_selector(ul.children[0])"
   ]
  },
  {
   "cell_type": "code",
   "execution_count": 10,
   "metadata": {},
   "outputs": [],
   "source": [
    "def node_to_selector(node: dominate.tags.html_tag):\n",
    "    selector = getattr(node, \"tag_name\", type(node).__name__)\n",
    "    if selector[-1] == \"_\":\n",
    "        selector = selector[:-1]\n",
    "    if \"id\" in node.attributes:\n",
    "        selector += f\"#{node['id']}\"\n",
    "    if \"class\" in node.attributes:\n",
    "        for _cls in node[\"class\"].split(\" \"):\n",
    "            selector += f\".{_cls}\"\n",
    "    if \"name\" in node.attributes:\n",
    "        selector += f\"[name='{node['name']}']\"\n",
    "    if node.parent is None:\n",
    "        return selector\n",
    "    return node_to_selector(node.parent) + \" > \" + selector"
   ]
  },
  {
   "cell_type": "code",
   "execution_count": 14,
   "metadata": {},
   "outputs": [
    {
     "data": {
      "text/plain": [
       "{'attributes': {},\n",
       " 'children': ['test0'],\n",
       " 'parent': <dominate.tags.ul at 12b45f970: 0 attributes, 10 children>,\n",
       " 'is_inline': False,\n",
       " 'is_pretty': True,\n",
       " '_ctx': frame(tag=<dominate.tags.ul at 12b45f970: 0 attributes, 10 children>, items=[<dominate.tags.li at 12b45f2e0: 0 attributes, 1 child>, <dominate.tags.li at 12b45f400: 0 attributes, 1 child>, <dominate.tags.li at 12b45f730: 0 attributes, 1 child>, <dominate.tags.li at 12b475670: 0 attributes, 1 child>, <dominate.tags.li at 12b475400: 0 attributes, 1 child>, <dominate.tags.li at 12b475d60: 0 attributes, 1 child>, <dominate.tags.li at 12b475970: 0 attributes, 1 child>, <dominate.tags.li at 12b475100: 0 attributes, 1 child>, <dominate.tags.li at 12b2b9ee0: 0 attributes, 1 child>, <dominate.tags.li at 12b37ff10: 0 attributes, 1 child>], used=set())}"
      ]
     },
     "execution_count": 14,
     "metadata": {},
     "output_type": "execute_result"
    }
   ],
   "source": [
    "ul.children[0].__dict__"
   ]
  },
  {
   "cell_type": "code",
   "execution_count": null,
   "metadata": {},
   "outputs": [],
   "source": [
    "node_to_selector(card.children[1])"
   ]
  },
  {
   "cell_type": "code",
   "execution_count": null,
   "metadata": {},
   "outputs": [],
   "source": []
  },
  {
   "cell_type": "code",
   "execution_count": 3,
   "metadata": {},
   "outputs": [],
   "source": [
    "driver.get(\"http://flights.google.com/\")\n",
    "driver.implicitly_wait(0)  # seconds\n"
   ]
  },
  {
   "cell_type": "code",
   "execution_count": 25,
   "metadata": {},
   "outputs": [],
   "source": [
    "driver.find_element(\n",
    "    By.CSS_SELECTOR,\n",
    "    \"#i23 > div.e5F5td.BGeFcf > div > div > div.cQnuXe.k0gFV > div > div > input\",\n",
    ").click()"
   ]
  },
  {
   "cell_type": "code",
   "execution_count": 1,
   "metadata": {},
   "outputs": [
    {
     "ename": "NameError",
     "evalue": "name 'ActionChains' is not defined",
     "output_type": "error",
     "traceback": [
      "\u001b[0;31m---------------------------------------------------------------------------\u001b[0m",
      "\u001b[0;31mNameError\u001b[0m                                 Traceback (most recent call last)",
      "Cell \u001b[0;32mIn[1], line 1\u001b[0m\n\u001b[0;32m----> 1\u001b[0m \u001b[43mActionChains\u001b[49m(driver)\u001b[38;5;241m.\u001b[39msend_keys(\u001b[38;5;124m\"\u001b[39m\u001b[38;5;124mboston\u001b[39m\u001b[38;5;124m\"\u001b[39m)\u001b[38;5;241m.\u001b[39msend_keys(Keys\u001b[38;5;241m.\u001b[39mENTER)\u001b[38;5;241m.\u001b[39mperform()\n",
      "\u001b[0;31mNameError\u001b[0m: name 'ActionChains' is not defined"
     ]
    }
   ],
   "source": [
    "ActionChains(driver).send_keys(\"boston\").send_keys(Keys.ENTER).perform()"
   ]
  },
  {
   "cell_type": "code",
   "execution_count": 1,
   "metadata": {},
   "outputs": [
    {
     "name": "stderr",
     "output_type": "stream",
     "text": [
      "/Users/leo/micromamba/envs/simulated_web_agent/lib/python3.9/site-packages/tqdm/auto.py:21: TqdmWarning: IProgress not found. Please update jupyter and ipywidgets. See https://ipywidgets.readthedocs.io/en/stable/user_install.html\n",
      "  from .autonotebook import tqdm as notebook_tqdm\n"
     ]
    }
   ],
   "source": [
    "from dotenv import load_dotenv\n",
    "\n",
    "load_dotenv()  # take environment variables\n",
    "\n",
    "import os\n",
    "from bs4 import BeautifulSoup\n",
    "from selenium.webdriver.common.by import By\n",
    "from selenium.webdriver.common.action_chains import ActionChains\n",
    "from selenium.webdriver.common.keys import Keys\n",
    "import dominate\n",
    "from selenium.webdriver.remote.webelement import WebElement as Element\n",
    "import json\n",
    "import logging\n",
    "import time\n",
    "\n",
    "import gymnasium as gym\n",
    "from simulated_web_agent.executor.env import SeleniumEnv, Browser\n",
    "import simulated_web_agent\n",
    "\n",
    "if \"DISPLAY\" in os.environ:\n",
    "    del os.environ[\"DISPLAY\"]\n"
   ]
  },
  {
   "cell_type": "code",
   "execution_count": 3,
   "metadata": {},
   "outputs": [],
   "source": [
    "# ow10 > div.cQnuXe.k0gFV > div > div > input\n",
    "browser = Browser(\"http://flights.google.com/\", headless=False, recipes=recipes)"
   ]
  },
  {
   "cell_type": "code",
   "execution_count": 2,
   "metadata": {},
   "outputs": [],
   "source": [
    "recipes = [\n",
    "    {\n",
    "        \"match\": \"#yDmH0d > c-wiz.zQTmif.SSPGKf > div > div:nth-child(2) > c-wiz > div.cKvRXe > c-wiz > div.f8Ucw > div > div.Eo39gc\",\n",
    "        \"match_text\": \"Flights\",\n",
    "        \"selector\": \"html\",\n",
    "        \"children\": [\n",
    "            {\"selector\": \"head\", \"children\": [{\"selector\": \"title\", \"add_text\": True}]},\n",
    "            {\n",
    "                \"selector\": \"body\",\n",
    "                \"children\": [\n",
    "                    {\n",
    "                        \"selector\": \"div.SS6Dqf.POQx1c\",\n",
    "                        \"children\": [\n",
    "                            {\"selector\": \"h1\", \"add_text\": True},\n",
    "                            {\n",
    "                                \"selector\": \"div.TQYpgc.gInvKb > div > div\",\n",
    "                                \"name\": \"trip_type\",\n",
    "                                \"children\": [\n",
    "                                    {\n",
    "                                        \"selector\": \"div:nth-child(1)\",\n",
    "                                        \"add_text\": True,\n",
    "                                        \"text_format\": \"Current trip type: {}\",\n",
    "                                    },\n",
    "                                    {\n",
    "                                        \"selector\": \"ul\",\n",
    "                                        \"children\": [\n",
    "                                            {\n",
    "                                                \"selector\": \"li:not(:last-child)\",\n",
    "                                                \"add_text\": True,\n",
    "                                                \"clickable\": True,\n",
    "                                                \"name\": \"from_text\",\n",
    "                                                \"before_hook\": \"document.querySelector('div.VfPpkd-O1htCb.VfPpkd-O1htCb-OWXEXe-MFS4be.VfPpkd-O1htCb-OWXEXe-SfQLQb-M1Soyc-Bz112c.VfPpkd-O1htCb-OWXEXe-di8rgd-V67aGc.hqBSCb.RnXJS.PnyZyf.JDygMb.PtTbbc > div').click()\",\n",
    "                                            }\n",
    "                                        ],\n",
    "                                    },\n",
    "                                ],\n",
    "                            },\n",
    "                            # todo: add fare type\n",
    "                            {\n",
    "                                \"selector\": \"div.JQrP8b.PLrkBc > div > div > div\",\n",
    "                                \"name\": \"fare_type\",\n",
    "                                \"children\": [\n",
    "                                    {\n",
    "                                        \"selector\": \"div:nth-child(1)\",\n",
    "                                        \"add_text\": True,\n",
    "                                        \"text_format\": \"Current fare type: {}\",\n",
    "                                    }\n",
    "                                ],\n",
    "                            },\n",
    "                            {\n",
    "                                \"selector\": \"#i23\",\n",
    "                                \"name\": \"city_picker\",\n",
    "                                \"children\": [\n",
    "                                    {\n",
    "                                        \"selector\": \"input[aria-label='Where from?'][aria-expanded='false']\",\n",
    "                                        \"name\": \"from_city\",\n",
    "                                    },\n",
    "                                    {\n",
    "                                        \"selector\": \"input[placeholder='Where to?'][aria-expanded='false']\",\n",
    "                                        \"name\": \"to_city\",\n",
    "                                    },\n",
    "                                ],\n",
    "                            },\n",
    "                            {\n",
    "                                \"selector\": \"div.bgJkKe.K0Tsu div.cQnuXe.k0gFV\",\n",
    "                                \"name\": \"date_picker\",\n",
    "                                \"children\": [\n",
    "                                    {\n",
    "                                        \"selector\": \"input[aria-label='Departure']\",\n",
    "                                        \"name\": \"departure_date\",\n",
    "                                        \"after_hook\": \"document.body.click()\",\n",
    "                                    },\n",
    "                                    {\n",
    "                                        \"selector\": \"input[aria-label='Return']\",\n",
    "                                        \"name\": \"return_date\",\n",
    "                                        \"after_hook\": \"document.body.click()\",\n",
    "                                    },\n",
    "                                ],\n",
    "                            },\n",
    "                            {\n",
    "                                \"selector\": \"button.VfPpkd-LgbsSe.VfPpkd-LgbsSe-OWXEXe-k8QpJ.VfPpkd-LgbsSe-OWXEXe-Bz112c-M1Soyc.nCP5yc.AjY5Oe.LQeN7.TUT4y.zlyfOd\",\n",
    "                                \"name\": \"search_button\",\n",
    "                                \"clickable\": True,\n",
    "                                \"add_text\": True,\n",
    "                                \"override_attr\": {\n",
    "                                    \"disabled\": \"return arguments[0].innerText !== 'Search'\"\n",
    "                                },\n",
    "                            },\n",
    "                        ],\n",
    "                    }\n",
    "                ],\n",
    "            },\n",
    "        ],\n",
    "    },\n",
    "    {\n",
    "        \"match\": \"#yDmH0d > c-wiz.zQTmif.SSPGKf > div > div:nth-child(2) > c-wiz > div.cKvRXe > c-wiz > div.PSZ8D.EA71Tc > div.FXkZv > div:nth-child(5) > h3\",\n",
    "        \"match_text\": \"Best departing options\",\n",
    "        \"selector\": \"html\",\n",
    "        \"children\": [\n",
    "            {\"selector\": \"head\", \"children\": [{\"selector\": \"title\", \"add_text\": True}]},\n",
    "            {\n",
    "                \"selector\": \"body\",\n",
    "                \"children\": [\n",
    "                    {\n",
    "                        \"selector\": \"div[jsname='IWWDBc']\",\n",
    "                        \"children\": [\n",
    "                            {\"selector\": \"h3\", \"add_text\": True, \"direct_child\": True},\n",
    "                            {\n",
    "                                \"selector\": \"ul.Rk10dc\",\n",
    "                                \"name\": \"best_departure_options\",\n",
    "                                \"children\": [\n",
    "                                    {\n",
    "                                        \"selector\": \"li:not([data-ved])\",\n",
    "                                        \"add_text\": True,\n",
    "                                        \"clickable\": True,\n",
    "                                        \"name\": \"from_nth_child\",\n",
    "                                    }\n",
    "                                ],\n",
    "                            },\n",
    "                        ],\n",
    "                    },\n",
    "                    {\n",
    "                        \"selector\": \"div[jsname='YdtKid']\",\n",
    "                        \"children\": [\n",
    "                            {\"selector\": \"h3\", \"add_text\": True, \"direct_child\": True},\n",
    "                            {\n",
    "                                \"selector\": \"ul.Rk10dc\",\n",
    "                                \"name\": \"other_departure_options\",\n",
    "                                \"children\": [\n",
    "                                    {\n",
    "                                        \"selector\": \"li:not([data-ved])\",\n",
    "                                        \"add_text\": True,\n",
    "                                        \"clickable\": True,\n",
    "                                        \"name\": \"from_nth_child\",\n",
    "                                    }\n",
    "                                ],\n",
    "                            },\n",
    "                        ],\n",
    "                    },\n",
    "                ],\n",
    "            },\n",
    "        ],\n",
    "    },\n",
    "    {\n",
    "        \"match\": \"#yDmH0d > c-wiz.zQTmif.SSPGKf > div > div:nth-child(2) > c-wiz > div.cKvRXe > c-wiz > div.PSZ8D.EA71Tc > div.FXkZv > div:nth-child(4) > h3\",\n",
    "        \"match_text\": \"Returning flights\",\n",
    "        \"selector\": \"html\",\n",
    "        \"children\": [\n",
    "            {\"selector\": \"head\", \"children\": [{\"selector\": \"title\", \"add_text\": True}]},\n",
    "            {\n",
    "                \"selector\": \"body\",\n",
    "                \"children\": [\n",
    "                    {\"selector\": \"h3\", \"add_text\": True, \"direct_child\": True},\n",
    "                    {\n",
    "                        \"selector\": \"ul.Rk10dc\",\n",
    "                        \"name\": \"returning_options\",\n",
    "                        \"children\": [\n",
    "                            {\n",
    "                                \"selector\": \"li:not([data-ved])\",\n",
    "                                \"add_text\": True,\n",
    "                                \"clickable\": True,\n",
    "                                \"name\": \"from_nth_child\",\n",
    "                            }\n",
    "                        ],\n",
    "                    },\n",
    "                ],\n",
    "            },\n",
    "        ],\n",
    "    },\n",
    "]"
   ]
  },
  {
   "cell_type": "code",
   "execution_count": 4,
   "metadata": {},
   "outputs": [
    {
     "name": "stdout",
     "output_type": "stream",
     "text": [
      "<html>\n",
      "  <head>\n",
      "    <title>Google Flights - Find Cheap Flight Options &amp; Track Prices</title>\n",
      "  </head>\n",
      "  <body>\n",
      "    <div aria-label=\"Flight\" role=\"search\">\n",
      "      <h1>Flight search</h1>\n",
      "      <div name=\"trip_type\">\n",
      "        <div role=\"combobox\">Current trip type: Round trip</div>\n",
      "        <ul aria-label=\"Select your ticket type.\" role=\"listbox\">\n",
      "          <li aria-selected=\"true\" name=\"trip_type.round_trip\" role=\"option\">Round trip</li>\n",
      "          <li aria-selected=\"false\" name=\"trip_type.one_way\" role=\"option\">One way</li>\n",
      "        </ul>\n",
      "      </div>\n",
      "      <div name=\"fare_type\">\n",
      "        <div role=\"combobox\">Current fare type: Economy</div>\n",
      "      </div>\n",
      "      <div name=\"city_picker\">\n",
      "        <input aria-label=\"Where from?\" name=\"city_picker.from_city\" role=\"combobox\" type=\"text\" value=\"Boston\">\n",
      "        <input aria-label=\"Where to? \" name=\"city_picker.to_city\" role=\"combobox\" type=\"text\" value=\"\">\n",
      "      </div>\n",
      "      <div name=\"date_picker\">\n",
      "        <input aria-label=\"Departure\" name=\"date_picker.departure_date\" type=\"text\" value=\"\">\n",
      "        <input aria-label=\"Return\" name=\"date_picker.return_date\" type=\"text\" value=\"\">\n",
      "      </div>\n",
      "      <button aria-label=\"Explore destinations\" disabled=\"True\" name=\"search_button\">Explore</button>\n",
      "    </div>\n",
      "  </body>\n",
      "</html>\n"
     ]
    }
   ],
   "source": [
    "browser.recipes = recipes\n",
    "print(browser.observe()[\"page\"].render(pretty=True))"
   ]
  },
  {
   "cell_type": "code",
   "execution_count": 5,
   "metadata": {},
   "outputs": [],
   "source": [
    "browser.type_and_submit(\"date_picker.departure_date\", \"sep 24 2024\")\n",
    "browser.observe()\n",
    "browser.type_and_submit(\"date_picker.return_date\", \"oct 24 2024\")\n",
    "browser.observe()\n",
    "browser.type_and_submit(\"city_picker.from_city\", \"boston\")\n",
    "browser.type_and_submit(\"city_picker.to_city\", \"new york\")"
   ]
  },
  {
   "cell_type": "code",
   "execution_count": 12,
   "metadata": {},
   "outputs": [],
   "source": [
    "browser.click(\"search_button\")"
   ]
  },
  {
   "cell_type": "code",
   "execution_count": 8,
   "metadata": {},
   "outputs": [],
   "source": [
    "browser.type_and_submit(\"city_picker.to_city\", \"new york\")\n"
   ]
  },
  {
   "cell_type": "code",
   "execution_count": 16,
   "metadata": {},
   "outputs": [],
   "source": [
    "browser.driver.execute_script(\n",
    "    \"\"\"\n",
    "console.log(arguments[0].getBoundingClientRect());\n",
    "rect = arguments[0].getBoundingClientRect();\n",
    "div = document.createElement('div');\n",
    "div.style.position = 'fixed';\n",
    "div.style.top = rect.top + 'px';\n",
    "div.style.left = rect.left + 'px';\n",
    "div.style.width = rect.width + 'px';\n",
    "div.style.height = rect.height + 'px';\n",
    "div.style.border = '3px solid #79ccd7';\n",
    "div.style.outline_offset = '3px';\n",
    "div.style.zIndex = '10000';\n",
    "document.body.appendChild(div);\n",
    "document.highlightedElement = div;\n",
    "\n",
    "\"\"\",\n",
    "    browser.clickables[\"trip_type.round_trip\"],\n",
    ")\n"
   ]
  },
  {
   "cell_type": "code",
   "execution_count": 28,
   "metadata": {},
   "outputs": [],
   "source": [
    "browser.driver.execute_script(\n",
    "    \"console.log(arguments)\", browser.inputs[\"city_picker.to_city\"]\n",
    ")"
   ]
  },
  {
   "cell_type": "code",
   "execution_count": 28,
   "metadata": {},
   "outputs": [],
   "source": [
    "browser.click(\"returning_options.0\")"
   ]
  },
  {
   "cell_type": "code",
   "execution_count": 7,
   "metadata": {},
   "outputs": [
    {
     "name": "stderr",
     "output_type": "stream",
     "text": [
      "/Users/leo/micromamba/envs/simulated_web_agent/lib/python3.9/site-packages/gymnasium/utils/passive_env_checker.py:181: DeprecationWarning: \u001b[33mWARN: Current gymnasium version requires that `Env.reset` can be passed `options` to allow the environment initialisation to be passed additional information.\u001b[0m\n",
      "  logger.deprecation(\n"
     ]
    }
   ],
   "source": [
    "env = gym.make(\n",
    "    \"SeleniumEnv-v0\",\n",
    "    start_url = \"https://www.google.com/flights\",\n",
    "    headless=False,\n",
    "    pretty=True,\n",
    "    recipes=recipes,\n",
    ")\n",
    "env.reset()\n",
    "env.step(\n",
    "    json.dumps(\n",
    "        [\n",
    "            # {\n",
    "            #     \"type\": \"type\",\n",
    "            #     \"name\": \"city_picker.to_city\",\n",
    "            #     \"text\": \"New York\",\n",
    "            #     \"description\": \"Typing 'New York' as the arrival city in the destination input field.\",\n",
    "            # },\n",
    "            {\n",
    "                \"type\": \"type\",\n",
    "                \"name\": \"date_picker.departure_date\",\n",
    "                \"text\": \"10/10/2024\",\n",
    "                \"description\": \"Typing '10/10/2024' as the departure date in the departure date input field.\",\n",
    "            },\n",
    "            {\n",
    "                \"type\": \"type\",\n",
    "                \"name\": \"date_picker.return_date\",\n",
    "                \"text\": \"10/15/2024\",\n",
    "                \"description\": \"Typing '10/15/2024' as the return date in the return date input field.\",\n",
    "            },\n",
    "        ]\n",
    "    )\n",
    ")"
   ]
  },
  {
   "cell_type": "code",
   "execution_count": null,
   "metadata": {},
   "outputs": [],
   "source": []
  }
 ],
 "metadata": {
  "kernelspec": {
   "display_name": "simulated_web_agent",
   "language": "python",
   "name": "python3"
  },
  "language_info": {
   "codemirror_mode": {
    "name": "ipython",
    "version": 3
   },
   "file_extension": ".py",
   "mimetype": "text/x-python",
   "name": "python",
   "nbconvert_exporter": "python",
   "pygments_lexer": "ipython3",
   "version": "3.9.19"
  }
 },
 "nbformat": 4,
 "nbformat_minor": 2
}
