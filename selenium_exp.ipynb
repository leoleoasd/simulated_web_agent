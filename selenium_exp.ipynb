{
 "cells": [
  {
   "cell_type": "code",
   "execution_count": 52,
   "metadata": {},
   "outputs": [
    {
     "ename": "KeyError",
     "evalue": "'DISPLAY'",
     "output_type": "error",
     "traceback": [
      "\u001b[0;31m---------------------------------------------------------------------------\u001b[0m",
      "\u001b[0;31mKeyError\u001b[0m                                  Traceback (most recent call last)",
      "Cell \u001b[0;32mIn[52], line 6\u001b[0m\n\u001b[1;32m      4\u001b[0m \u001b[38;5;28;01mimport\u001b[39;00m \u001b[38;5;21;01mdominate\u001b[39;00m\n\u001b[1;32m      5\u001b[0m \u001b[38;5;28;01mfrom\u001b[39;00m \u001b[38;5;21;01mselenium\u001b[39;00m\u001b[38;5;21;01m.\u001b[39;00m\u001b[38;5;21;01mwebdriver\u001b[39;00m\u001b[38;5;21;01m.\u001b[39;00m\u001b[38;5;21;01mremote\u001b[39;00m\u001b[38;5;21;01m.\u001b[39;00m\u001b[38;5;21;01mwebelement\u001b[39;00m \u001b[38;5;28;01mimport\u001b[39;00m WebElement \u001b[38;5;28;01mas\u001b[39;00m Element\n\u001b[0;32m----> 6\u001b[0m \u001b[38;5;28;01mdel\u001b[39;00m os\u001b[38;5;241m.\u001b[39menviron[\u001b[38;5;124m'\u001b[39m\u001b[38;5;124mDISPLAY\u001b[39m\u001b[38;5;124m'\u001b[39m]\n",
      "File \u001b[0;32m~/anaconda3/envs/simulated_web_agent/lib/python3.9/os.py:695\u001b[0m, in \u001b[0;36m_Environ.__delitem__\u001b[0;34m(self, key)\u001b[0m\n\u001b[1;32m    692\u001b[0m     \u001b[38;5;28;01mdel\u001b[39;00m \u001b[38;5;28mself\u001b[39m\u001b[38;5;241m.\u001b[39m_data[encodedkey]\n\u001b[1;32m    693\u001b[0m \u001b[38;5;28;01mexcept\u001b[39;00m \u001b[38;5;167;01mKeyError\u001b[39;00m:\n\u001b[1;32m    694\u001b[0m     \u001b[38;5;66;03m# raise KeyError with the original key value\u001b[39;00m\n\u001b[0;32m--> 695\u001b[0m     \u001b[38;5;28;01mraise\u001b[39;00m \u001b[38;5;167;01mKeyError\u001b[39;00m(key) \u001b[38;5;28;01mfrom\u001b[39;00m \u001b[38;5;28;01mNone\u001b[39;00m\n",
      "\u001b[0;31mKeyError\u001b[0m: 'DISPLAY'"
     ]
    }
   ],
   "source": [
    "import os\n",
    "from bs4 import BeautifulSoup\n",
    "from selenium.webdriver.common.by import By\n",
    "import dominate\n",
    "from selenium.webdriver.remote.webelement import WebElement as Element\n",
    "del os.environ['DISPLAY']\n"
   ]
  },
  {
   "cell_type": "code",
   "execution_count": 2,
   "metadata": {},
   "outputs": [],
   "source": [
    "from pathlib import Path"
   ]
  },
  {
   "cell_type": "code",
   "execution_count": 3,
   "metadata": {},
   "outputs": [],
   "source": [
    "from selenium import webdriver\n",
    "from selenium.webdriver.chrome.options import Options\n",
    "options = Options()\n",
    "options.add_argument(\"start-maximized\")\n",
    "options.add_argument(\"--headless\")\n",
    "options.add_argument(\"--remote-debugging-port=9222\")\n",
    "driver = webdriver.Chrome(options=options)"
   ]
  },
  {
   "cell_type": "code",
   "execution_count": 61,
   "metadata": {},
   "outputs": [],
   "source": [
    "driver.get(\"http://ec2-3-131-244-37.us-east-2.compute.amazonaws.com:7770/\")\n",
    "driver.implicitly_wait(10) # seconds"
   ]
  },
  {
   "cell_type": "code",
   "execution_count": 59,
   "metadata": {},
   "outputs": [],
   "source": [
    "JS_BUILD_CSS_SELECTOR = (\"for(var e=arguments[0],n=[],i=function(e,n){if(!e||!n)return 0;f\"\n",
    "    \"or(var i=0,a=e.length;a>i;i++)if(-1==n.indexOf(e[i]))return 0;re\"\n",
    "    \"turn 1};e&&1==e.nodeType&&'HTML'!=e.nodeName;e=e.parentNode){if(\"\n",
    "    \"e.id){n.unshift('#'+e.id);break}for(var a=1,r=1,o=e.localName,l=\"\n",
    "    \"e.className&&e.className.trim().split(/[\\\\s,]+/g),t=e.previousSi\"\n",
    "    \"bling;t;t=t.previousSibling)10!=t.nodeType&&t.nodeName==e.nodeNa\"\n",
    "    \"me&&(i(l,t.className)&&(l=null),r=0,++a);for(var t=e.nextSibling\"\n",
    "    \";t;t=t.nextSibling)t.nodeName==e.nodeName&&(i(l,t.className)&&(l\"\n",
    "    \"=null),r=0);n.unshift(r?o:o+(l?'.'+l.join('.'):':nth-child('+a+'\"\n",
    "    \")'))}return n.join(' > ');\")\n",
    "\n"
   ]
  },
  {
   "cell_type": "code",
   "execution_count": 156,
   "metadata": {},
   "outputs": [],
   "source": [
    "import dominate.tags\n",
    "\n",
    "\n",
    "clickables = {}\n",
    "\n",
    "def set_attribute(element: Element, attribute, value):\n",
    "    driver.execute_script(\"arguments[0].setAttribute(arguments[1], arguments[2]);\", element, attribute, value)\n",
    "\n",
    "def register_clickable(element: Element, name: str):\n",
    "    clickables[name] = element\n",
    "    set_attribute(element, 'data-clickable-id', name)\n",
    "\n",
    "def common(node: dominate.tags.html_tag, element: Element, recipe, name = ''):\n",
    "    if 'name' in recipe and recipe['name']:\n",
    "        node['name'] = (name + \".\" if name else '') + recipe['name']\n",
    "    if 'clickable' in recipe and recipe['clickable']:\n",
    "        if 'name' not in recipe:\n",
    "            raise Exception('Clickable element must have name')\n",
    "        register_clickable(element, (name + \".\" if name else '') + recipe['name'])\n",
    "    for key in ['alt', 'src', 'href', 'title', 'type', 'value']:\n",
    "        value = element.get_dom_attribute(key)\n",
    "        if value:\n",
    "            node[key] = value\n",
    "        \n",
    "    return node\n",
    "\n",
    "actions = {}\n",
    "\n",
    "def get_text(element: Element, recipe, name = ''):\n",
    "    elementText = element.text # sometime NOT work\n",
    "    if not elementText:\n",
    "        elementText = element.get_attribute(\"innerText\")\n",
    "    if not elementText:\n",
    "        elementText = element.get_attribute(\"textContent\")\n",
    "    node = getattr(dominate.tags, element.tag_name)(elementText)\n",
    "    node = common(node, element, recipe, name)\n",
    "    if 'name' in recipe and recipe['name']:\n",
    "        name = (name + \".\" if name else '') + recipe['name']\n",
    "    if 'radio' in recipe and recipe['radio']:\n",
    "        if element.get_attribute('checked'):\n",
    "            node.text += ' (selected)'\n",
    "    return node\n",
    "\n",
    "def strip_add_children(element: Element, recipe, name = ''):\n",
    "    tag = element.tag_name\n",
    "    node = getattr(dominate.tags, tag)()\n",
    "    node = common(node, element, recipe, name)\n",
    "    if 'name' in recipe and recipe['name']:\n",
    "        name = (name + \".\" if name else '') + recipe['name']\n",
    "    with node:\n",
    "        for child in recipe['children']:\n",
    "            elements = element.find_elements(By.CSS_SELECTOR, child['selector'])\n",
    "            for child_element in elements:\n",
    "                actions[child['action']](child_element, child, name)\n",
    "    return node\n",
    "\n",
    "\n",
    "actions = {\n",
    "    'get_text': get_text,\n",
    "    'strip_add_children': strip_add_children\n",
    "}"
   ]
  },
  {
   "cell_type": "code",
   "execution_count": null,
   "metadata": {},
   "outputs": [],
   "source": []
  },
  {
   "cell_type": "code",
   "execution_count": 157,
   "metadata": {},
   "outputs": [],
   "source": [
    "recipe = {\n",
    "    'selector': 'html',\n",
    "    'action': 'strip_add_children',\n",
    "    'clickable': False,\n",
    "    'children': [\n",
    "        {\n",
    "            'selector': 'head',\n",
    "            'name': '',\n",
    "            'action': 'strip_add_children',\n",
    "            'children': [\n",
    "                {\n",
    "                    'selector': 'title',\n",
    "                    'action': 'get_text',\n",
    "                }\n",
    "            ]\n",
    "        },\n",
    "        {\n",
    "            'selector': 'nav',\n",
    "            'name': 'nav',\n",
    "            'action': 'strip_add_children',\n",
    "            'children': [\n",
    "                {\n",
    "                    'selector': 'ul',\n",
    "                    'action': 'strip_add_children',\n",
    "                    'children': [\n",
    "                        {\n",
    "                            'selector': 'li',\n",
    "                            'action': 'get_text',\n",
    "                            'clickable': True,\n",
    "                        }\n",
    "                    ]\n",
    "                }\n",
    "            ]\n",
    "        }\n",
    "    ]\n",
    "}"
   ]
  },
  {
   "cell_type": "code",
   "execution_count": 158,
   "metadata": {},
   "outputs": [
    {
     "name": "stdout",
     "output_type": "stream",
     "text": [
      "<html>\n",
      "  <head>\n",
      "    <title>One Stop Market</title>\n",
      "  </head>\n",
      "  <nav name=\"nav\"></nav>\n",
      "</html>\n"
     ]
    }
   ],
   "source": [
    "print(strip_add_children(driver.find_element(By.CSS_SELECTOR, recipe['selector']), recipe))"
   ]
  },
  {
   "cell_type": "code",
   "execution_count": 153,
   "metadata": {},
   "outputs": [
    {
     "data": {
      "text/plain": [
       "<selenium.webdriver.remote.webelement.WebElement (session=\"fb40a98df1e22d9246fdf35d537a2abf\", element=\"f.61335BC334089FFDCEA69597859FA8DD.d.C47B2B45524AC20193F32EA937697B61.e.157\")>"
      ]
     },
     "execution_count": 153,
     "metadata": {},
     "output_type": "execute_result"
    }
   ],
   "source": [
    "driver.find_element(By.CSS_SELECTOR, 'html').find_element(By.CSS_SELECTOR, 'nav')"
   ]
  },
  {
   "cell_type": "code",
   "execution_count": 136,
   "metadata": {},
   "outputs": [],
   "source": [
    "title = driver.find_element(By.CSS_SELECTOR, 'html').find_element(By.CSS_SELECTOR, 'head').find_element(By.CSS_SELECTOR, 'title')"
   ]
  },
  {
   "cell_type": "code",
   "execution_count": 63,
   "metadata": {},
   "outputs": [
    {
     "data": {
      "text/plain": [
       "'One Stop Market'"
      ]
     },
     "execution_count": 63,
     "metadata": {},
     "output_type": "execute_result"
    }
   ],
   "source": [
    "title.get_attribute('innerHTML')"
   ]
  },
  {
   "cell_type": "code",
   "execution_count": 64,
   "metadata": {},
   "outputs": [
    {
     "data": {
      "text/plain": [
       "selenium.webdriver.remote.webelement.WebElement"
      ]
     },
     "execution_count": 64,
     "metadata": {},
     "output_type": "execute_result"
    }
   ],
   "source": [
    "type(title)"
   ]
  },
  {
   "cell_type": "code",
   "execution_count": 65,
   "metadata": {},
   "outputs": [
    {
     "data": {
      "text/plain": [
       "'head > title'"
      ]
     },
     "execution_count": 65,
     "metadata": {},
     "output_type": "execute_result"
    }
   ],
   "source": [
    "driver.execute_script(JS_BUILD_CSS_SELECTOR, title)"
   ]
  },
  {
   "cell_type": "code",
   "execution_count": 77,
   "metadata": {},
   "outputs": [],
   "source": [
    "btn = driver.find_element(By.CSS_SELECTOR, '#maincontent > div.columns > div > div:nth-child(3) > div > div.block-content > div.products-grid.grid > ol > li:nth-child(3) > div > div > div.product-item-inner > div > div.actions-primary > form > button')\n"
   ]
  },
  {
   "cell_type": "code",
   "execution_count": 79,
   "metadata": {},
   "outputs": [
    {
     "ename": "AttributeError",
     "evalue": "'WebElement' object has no attribute 'setProperty'",
     "output_type": "error",
     "traceback": [
      "\u001b[0;31m---------------------------------------------------------------------------\u001b[0m",
      "\u001b[0;31mAttributeError\u001b[0m                            Traceback (most recent call last)",
      "Cell \u001b[0;32mIn[79], line 1\u001b[0m\n\u001b[0;32m----> 1\u001b[0m \u001b[43mbtn\u001b[49m\u001b[38;5;241;43m.\u001b[39;49m\u001b[43msetProperty\u001b[49m(\u001b[38;5;124m'\u001b[39m\u001b[38;5;124mdata-clickable-id\u001b[39m\u001b[38;5;124m'\u001b[39m, \u001b[38;5;124m'\u001b[39m\u001b[38;5;124m123\u001b[39m\u001b[38;5;124m'\u001b[39m)\n",
      "\u001b[0;31mAttributeError\u001b[0m: 'WebElement' object has no attribute 'setProperty'"
     ]
    }
   ],
   "source": [
    "btn.setProperty('data-clickable-id', '123')"
   ]
  },
  {
   "cell_type": "code",
   "execution_count": 80,
   "metadata": {},
   "outputs": [],
   "source": []
  },
  {
   "cell_type": "code",
   "execution_count": 83,
   "metadata": {},
   "outputs": [
    {
     "data": {
      "text/plain": [
       "'123'"
      ]
     },
     "execution_count": 83,
     "metadata": {},
     "output_type": "execute_result"
    }
   ],
   "source": [
    "btn.get_attribute('data-clickable-id')"
   ]
  },
  {
   "cell_type": "code",
   "execution_count": 92,
   "metadata": {},
   "outputs": [],
   "source": [
    "btn.get_attribute('src')"
   ]
  },
  {
   "cell_type": "code",
   "execution_count": 98,
   "metadata": {},
   "outputs": [],
   "source": [
    "title = dominate.tags.title('title')"
   ]
  },
  {
   "cell_type": "code",
   "execution_count": 114,
   "metadata": {},
   "outputs": [
    {
     "name": "stdout",
     "output_type": "stream",
     "text": [
      "<title checked=\"True\">title (selected)\n",
      "  <div>test</div>\n",
      "</title>\n"
     ]
    }
   ],
   "source": [
    "print(title)"
   ]
  },
  {
   "cell_type": "code",
   "execution_count": 111,
   "metadata": {},
   "outputs": [],
   "source": [
    "title.text += ' (selected)'"
   ]
  },
  {
   "cell_type": "code",
   "execution_count": 113,
   "metadata": {},
   "outputs": [],
   "source": [
    "with title:\n",
    "    dominate.tags.div('test')"
   ]
  },
  {
   "cell_type": "code",
   "execution_count": null,
   "metadata": {},
   "outputs": [],
   "source": []
  }
 ],
 "metadata": {
  "kernelspec": {
   "display_name": "simulated_web_agent",
   "language": "python",
   "name": "python3"
  },
  "language_info": {
   "codemirror_mode": {
    "name": "ipython",
    "version": 3
   },
   "file_extension": ".py",
   "mimetype": "text/x-python",
   "name": "python",
   "nbconvert_exporter": "python",
   "pygments_lexer": "ipython3",
   "version": "3.9.19"
  }
 },
 "nbformat": 4,
 "nbformat_minor": 2
}
