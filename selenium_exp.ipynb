{
 "cells": [
  {
   "cell_type": "code",
   "execution_count": 52,
   "metadata": {},
   "outputs": [
    {
     "ename": "KeyError",
     "evalue": "'DISPLAY'",
     "output_type": "error",
     "traceback": [
      "\u001b[0;31m---------------------------------------------------------------------------\u001b[0m",
      "\u001b[0;31mKeyError\u001b[0m                                  Traceback (most recent call last)",
      "Cell \u001b[0;32mIn[52], line 6\u001b[0m\n\u001b[1;32m      4\u001b[0m \u001b[38;5;28;01mimport\u001b[39;00m \u001b[38;5;21;01mdominate\u001b[39;00m\n\u001b[1;32m      5\u001b[0m \u001b[38;5;28;01mfrom\u001b[39;00m \u001b[38;5;21;01mselenium\u001b[39;00m\u001b[38;5;21;01m.\u001b[39;00m\u001b[38;5;21;01mwebdriver\u001b[39;00m\u001b[38;5;21;01m.\u001b[39;00m\u001b[38;5;21;01mremote\u001b[39;00m\u001b[38;5;21;01m.\u001b[39;00m\u001b[38;5;21;01mwebelement\u001b[39;00m \u001b[38;5;28;01mimport\u001b[39;00m WebElement \u001b[38;5;28;01mas\u001b[39;00m Element\n\u001b[0;32m----> 6\u001b[0m \u001b[38;5;28;01mdel\u001b[39;00m os\u001b[38;5;241m.\u001b[39menviron[\u001b[38;5;124m'\u001b[39m\u001b[38;5;124mDISPLAY\u001b[39m\u001b[38;5;124m'\u001b[39m]\n",
      "File \u001b[0;32m~/anaconda3/envs/simulated_web_agent/lib/python3.9/os.py:695\u001b[0m, in \u001b[0;36m_Environ.__delitem__\u001b[0;34m(self, key)\u001b[0m\n\u001b[1;32m    692\u001b[0m     \u001b[38;5;28;01mdel\u001b[39;00m \u001b[38;5;28mself\u001b[39m\u001b[38;5;241m.\u001b[39m_data[encodedkey]\n\u001b[1;32m    693\u001b[0m \u001b[38;5;28;01mexcept\u001b[39;00m \u001b[38;5;167;01mKeyError\u001b[39;00m:\n\u001b[1;32m    694\u001b[0m     \u001b[38;5;66;03m# raise KeyError with the original key value\u001b[39;00m\n\u001b[0;32m--> 695\u001b[0m     \u001b[38;5;28;01mraise\u001b[39;00m \u001b[38;5;167;01mKeyError\u001b[39;00m(key) \u001b[38;5;28;01mfrom\u001b[39;00m \u001b[38;5;28;01mNone\u001b[39;00m\n",
      "\u001b[0;31mKeyError\u001b[0m: 'DISPLAY'"
     ]
    }
   ],
   "source": [
    "import os\n",
    "from bs4 import BeautifulSoup\n",
    "from selenium.webdriver.common.by import By\n",
    "import dominate\n",
    "from selenium.webdriver.remote.webelement import WebElement as Element\n",
    "del os.environ['DISPLAY']\n"
   ]
  },
  {
   "cell_type": "code",
   "execution_count": 2,
   "metadata": {},
   "outputs": [],
   "source": [
    "from pathlib import Path"
   ]
  },
  {
   "cell_type": "code",
   "execution_count": 3,
   "metadata": {},
   "outputs": [],
   "source": [
    "from selenium import webdriver\n",
    "from selenium.webdriver.chrome.options import Options\n",
    "options = Options()\n",
    "options.add_argument(\"start-maximized\")\n",
    "options.add_argument(\"--headless\")\n",
    "options.add_argument(\"--remote-debugging-port=9222\")\n",
    "driver = webdriver.Chrome(options=options)"
   ]
  },
  {
   "cell_type": "code",
   "execution_count": 171,
   "metadata": {},
   "outputs": [],
   "source": [
    "driver.get(\"http://ec2-3-131-244-37.us-east-2.compute.amazonaws.com:7770/\")\n",
    "driver.implicitly_wait(0) # seconds"
   ]
  },
  {
   "cell_type": "code",
   "execution_count": 59,
   "metadata": {},
   "outputs": [],
   "source": [
    "JS_BUILD_CSS_SELECTOR = (\"for(var e=arguments[0],n=[],i=function(e,n){if(!e||!n)return 0;f\"\n",
    "    \"or(var i=0,a=e.length;a>i;i++)if(-1==n.indexOf(e[i]))return 0;re\"\n",
    "    \"turn 1};e&&1==e.nodeType&&'HTML'!=e.nodeName;e=e.parentNode){if(\"\n",
    "    \"e.id){n.unshift('#'+e.id);break}for(var a=1,r=1,o=e.localName,l=\"\n",
    "    \"e.className&&e.className.trim().split(/[\\\\s,]+/g),t=e.previousSi\"\n",
    "    \"bling;t;t=t.previousSibling)10!=t.nodeType&&t.nodeName==e.nodeNa\"\n",
    "    \"me&&(i(l,t.className)&&(l=null),r=0,++a);for(var t=e.nextSibling\"\n",
    "    \";t;t=t.nextSibling)t.nodeName==e.nodeName&&(i(l,t.className)&&(l\"\n",
    "    \"=null),r=0);n.unshift(r?o:o+(l?'.'+l.join('.'):':nth-child('+a+'\"\n",
    "    \")'))}return n.join(' > ');\")\n",
    "\n"
   ]
  },
  {
   "cell_type": "code",
   "execution_count": 270,
   "metadata": {},
   "outputs": [],
   "source": [
    "import dominate.tags\n",
    "\n",
    "\n",
    "clickables = {}\n",
    "\n",
    "def set_attribute(element: Element, attribute, value):\n",
    "    driver.execute_script(\"arguments[0].setAttribute(arguments[1], arguments[2]);\", element, attribute, value)\n",
    "\n",
    "def register_clickable(element: Element, name: str):\n",
    "    clickables[name] = element\n",
    "    set_attribute(element, 'data-clickable-id', name)\n",
    "\n",
    "def get_text(element):\n",
    "    elementText = element.text # sometime NOT work\n",
    "    if not elementText:\n",
    "        elementText = element.get_attribute(\"innerText\")\n",
    "    if not elementText:\n",
    "        elementText = element.get_attribute(\"textContent\")\n",
    "    return element.get_attribute(\"innerText\")\n",
    "\n",
    "\n",
    "actions = {}\n",
    "\n",
    "def process(element: Element, recipe, parent_name = ''):\n",
    "    elementText = ''\n",
    "    if 'text_selector' in recipe:\n",
    "        text_element = element.find_element(By.CSS_SELECTOR, recipe['text_selector'])\n",
    "        elementText = get_text(text_element)\n",
    "    else:\n",
    "        elementText = get_text(element)\n",
    "    if 'add_text' in recipe and recipe['add_text']:\n",
    "        if not elementText:\n",
    "            elementText = get_text(element)\n",
    "    if 'text_format' in recipe and recipe['text_format']:\n",
    "        elementText = recipe['text_format'].format(elementText)\n",
    "    \n",
    "    tag_name = element.tag_name\n",
    "    if 'tag_name' in recipe:\n",
    "        tag_name = recipe['tag_name']\n",
    "    node = getattr(dominate.tags, tag_name)(elementText if 'add_text' in recipe and recipe['add_text'] else '')\n",
    "    \n",
    "    if 'name' in recipe and recipe['name']:\n",
    "        if recipe['name'] == 'from_text':\n",
    "            if elementText:\n",
    "                element_name = elementText.lower().replace(' ', '_')\n",
    "                for special_char in \"[]{}()<>.:;|!@#$%^&*+-=,?/\\\\\\\"'\":\n",
    "                    element_name = element_name.replace(special_char, '')\n",
    "                node['name'] = (parent_name + \".\" if parent_name else '') + element_name\n",
    "                parent_name = node['name']\n",
    "            else:\n",
    "                raise Exception('name from_text must have add_text')\n",
    "        else:\n",
    "            node['name'] = (parent_name + \".\" if parent_name else '') + recipe['name']\n",
    "        parent_name = node['name']\n",
    "    if 'clickable' in recipe and recipe['clickable']:\n",
    "        if 'name' not in recipe:\n",
    "            raise Exception('clickable element must have a name')\n",
    "        register_clickable(element, node['name'])\n",
    "    for key in ['alt', 'src', 'href', 'title', 'type', 'value']:\n",
    "        value = element.get_dom_attribute(key)\n",
    "        if value:\n",
    "            node[key] = value\n",
    "    for key in ['class', 'id']:\n",
    "        if key in recipe and recipe[key]:\n",
    "            node[key] = recipe[key]\n",
    "    if 'radio' in recipe and recipe['radio']:\n",
    "        if element.get_attribute('checked'):\n",
    "            node.text += ' (selected)'\n",
    "    if 'children' in recipe and recipe['children']:\n",
    "        with node:\n",
    "            for child in recipe['children']:\n",
    "                if 'direct_child' in child and child['direct_child']:\n",
    "                    selector = ':scope > ' + child['selector']\n",
    "                else:\n",
    "                    selector = child['selector']\n",
    "                elements = element.find_elements(By.CSS_SELECTOR, selector)\n",
    "                for child_element in elements:\n",
    "                    process(child_element, child, parent_name)\n",
    "    return node\n"
   ]
  },
  {
   "cell_type": "code",
   "execution_count": null,
   "metadata": {},
   "outputs": [],
   "source": []
  },
  {
   "cell_type": "code",
   "execution_count": 273,
   "metadata": {},
   "outputs": [],
   "source": [
    "recipe = {\n",
    "    'selector': 'html',\n",
    "    'clickable': False,\n",
    "    'children': [\n",
    "        {\n",
    "            'selector': 'head',\n",
    "            'name': '',\n",
    "            'children': [\n",
    "                {\n",
    "                    'selector': 'title',\n",
    "                    'add_text': True,\n",
    "                }\n",
    "            ]\n",
    "        },\n",
    "        {\n",
    "            'selector': 'body',\n",
    "            'children': [\n",
    "                # {\n",
    "                #     'selector': 'nav',\n",
    "                #     'name': 'nav',\n",
    "                #     'children': [\n",
    "                #         {\n",
    "                #             'selector': 'ul',\n",
    "                #             'action': 'strip_add_children',\n",
    "                #             'direct_child': True,\n",
    "                #             'children': [\n",
    "                #                 {\n",
    "                #                     'selector': 'li',\n",
    "                #                     'direct_child': True,\n",
    "                #                     'add_text': True,\n",
    "                #                     'text_selector': 'a',\n",
    "                #                     'clickable': True,\n",
    "                #                     'children': [\n",
    "                #                         {\n",
    "                #                             'selector': 'ul',\n",
    "                #                             'direct_child': True,\n",
    "                #                             'children': [\n",
    "                #                                 {\n",
    "                #                                     'selector': 'li',\n",
    "                #                                     'add_text': True,\n",
    "                #                                     'direct_child': True,\n",
    "                #                                     'text_selector': 'a',\n",
    "                #                                     'clickable': True,\n",
    "                #                                     'children': [\n",
    "                #                                         {\n",
    "                #                                             'selector': 'ul',\n",
    "                #                                             'direct_child': True,\n",
    "                #                                             'children': [\n",
    "                #                                                 {\n",
    "                #                                                     'selector': 'li',\n",
    "                #                                                     'add_text': True,\n",
    "                #                                                     'direct_child': True,\n",
    "                #                                                     'text_selector': 'a',\n",
    "                #                                                     'clickable': True,\n",
    "                #                                                 }\n",
    "                #                                             ]\n",
    "                #                                         }\n",
    "                #                                     ]\n",
    "                #                                 }\n",
    "                #                             ]\n",
    "                #                         }\n",
    "                #                     ]\n",
    "                #                 }\n",
    "                #             ]\n",
    "                #         }\n",
    "                #     ]\n",
    "                # },\n",
    "                {\n",
    "                    'selector': '#maincontent > div.columns > div > div:nth-child(3)',\n",
    "                    'add_text': True,\n",
    "                    'text_selector': 'div > div.block-title > strong',\n",
    "                    'children': [\n",
    "                        {\n",
    "                            'selector': 'div.product-item-info',\n",
    "                            'class': 'product-item-info',\n",
    "                            'name': 'from_text',\n",
    "                            'text_selector': 'div.product-item-details strong.product-item-name',\n",
    "                            'children': [\n",
    "                                {\n",
    "                                    'selector': 'img',\n",
    "                                },\n",
    "                                {\n",
    "                                    'selector': 'div.product-item-details',\n",
    "                                    'children': [\n",
    "                                        {\n",
    "                                            'selector': 'div.rating-summary > div > span > span',\n",
    "                                            'add_text': True,\n",
    "                                            'name': 'rating',\n",
    "                                            'clickable': True,\n",
    "                                            'text_format': 'Rating: {}',\n",
    "                                            'name': 'view_reviews'\n",
    "                                        },\n",
    "                                        {\n",
    "                                            'selector': '.product-item-name',\n",
    "                                            'add_text': True,\n",
    "                                            'clickable': True,\n",
    "                                            'name': 'view_product'\n",
    "                                        },\n",
    "                                        {\n",
    "                                            'selector': '.price-box',\n",
    "                                            'add_text': True,\n",
    "                                        },\n",
    "                                        {\n",
    "                                            'selector': '.actions-primary',\n",
    "                                            'add_text': True,\n",
    "                                            'clickable': True,\n",
    "                                            'name':  'add_to_card',\n",
    "                                            'tag_name': 'button'\n",
    "                                        }\n",
    "                                    ]\n",
    "                                }\n",
    "                            ]\n",
    "                        }\n",
    "                    ]\n",
    "                }\n",
    "            ]\n",
    "        }\n",
    "    ]\n",
    "}"
   ]
  },
  {
   "cell_type": "code",
   "execution_count": 274,
   "metadata": {},
   "outputs": [
    {
     "name": "stdout",
     "output_type": "stream",
     "text": [
      "<html>\n",
      "  <head>\n",
      "    <title>One Stop Market</title>\n",
      "  </head>\n",
      "  <body>\n",
      "    <div>Product Showcases\n",
      "      <div class=\"product-item-info\" name=\"prebaked_gingerbread_house_kit_value_pack_17_oz_pack_of_2_total_34_oz\">\n",
      "        <img alt=\"Image\" src=\"http://ec2-3-131-244-37.us-east-2.compute.amazonaws.com:7770/media/catalog/product/cache/89ff578b9cd87e0600daac45c9e1ea98/B/0/B08PCSHBXY.0.jpg\">\n",
      "        <div>\n",
      "          <span name=\"prebaked_gingerbread_house_kit_value_pack_17_oz_pack_of_2_total_34_oz.view_reviews\">Rating: 20%</span>\n",
      "          <strong name=\"prebaked_gingerbread_house_kit_value_pack_17_oz_pack_of_2_total_34_oz.view_product\">Pre-baked Gingerbread House Kit Value Pack, 17 oz., Pack of 2, Total 34 oz.</strong>\n",
      "          <div>$19.99</div>\n",
      "          <button name=\"prebaked_gingerbread_house_kit_value_pack_17_oz_pack_of_2_total_34_oz.add_to_card\">Add to Cart</button>\n",
      "        </div>\n",
      "      </div>\n",
      "      <div class=\"product-item-info\" name=\"v8_energy_healthy_energy_drink_steady_energy_from_black_and_green_tea_pomegranate_blueberry_8_ounce_can_pack_of_24\">\n",
      "        <img alt=\"Image\" src=\"http://ec2-3-131-244-37.us-east-2.compute.amazonaws.com:7770/media/catalog/product/cache/89ff578b9cd87e0600daac45c9e1ea98/B/0/B00CPTR7WS.0.jpg\">\n",
      "        <div>\n",
      "          <span name=\"v8_energy_healthy_energy_drink_steady_energy_from_black_and_green_tea_pomegranate_blueberry_8_ounce_can_pack_of_24.view_reviews\">Rating: 57%</span>\n",
      "          <strong name=\"v8_energy_healthy_energy_drink_steady_energy_from_black_and_green_tea_pomegranate_blueberry_8_ounce_can_pack_of_24.view_product\">V8 +Energy, Healthy Energy Drink, Steady Energy from Black and Green Tea, Pomegranate Blueberry, 8 Ounce Can ,Pack of 24</strong>\n",
      "          <div>$14.47</div>\n",
      "          <button name=\"v8_energy_healthy_energy_drink_steady_energy_from_black_and_green_tea_pomegranate_blueberry_8_ounce_can_pack_of_24.add_to_card\">Add to Cart</button>\n",
      "        </div>\n",
      "      </div>\n",
      "      <div class=\"product-item-info\" name=\"belle_of_the_ball_princess_sprinkle_mix_wedding_colorful_sprinkles_cake_cupcake_cookie_sprinkles_ice_cream_candy_sprinkles_yellow_gold_red_royal_red_rose_icing_flowers_decorating_sprinkles_8oz\">\n",
      "        <img alt=\"Image\" src=\"http://ec2-3-131-244-37.us-east-2.compute.amazonaws.com:7770/media/catalog/product/cache/89ff578b9cd87e0600daac45c9e1ea98/B/0/B08743KW8M.0.jpg\">\n",
      "        <div>\n",
      "          <span name=\"belle_of_the_ball_princess_sprinkle_mix_wedding_colorful_sprinkles_cake_cupcake_cookie_sprinkles_ice_cream_candy_sprinkles_yellow_gold_red_royal_red_rose_icing_flowers_decorating_sprinkles_8oz.view_reviews\">Rating: 63%</span>\n",
      "          <strong name=\"belle_of_the_ball_princess_sprinkle_mix_wedding_colorful_sprinkles_cake_cupcake_cookie_sprinkles_ice_cream_candy_sprinkles_yellow_gold_red_royal_red_rose_icing_flowers_decorating_sprinkles_8oz.view_product\">Belle Of The Ball Princess Sprinkle Mix| Wedding Colorful Sprinkles| Cake Cupcake Cookie Sprinkles| Ice cream Candy Sprinkles| Yellow Gold Red Royal Red Rose Icing Flowers Decorating Sprinkles, 8OZ</strong>\n",
      "          <div>$23.50</div>\n",
      "          <button name=\"belle_of_the_ball_princess_sprinkle_mix_wedding_colorful_sprinkles_cake_cupcake_cookie_sprinkles_ice_cream_candy_sprinkles_yellow_gold_red_royal_red_rose_icing_flowers_decorating_sprinkles_8oz.add_to_card\">Add to Cart</button>\n",
      "        </div>\n",
      "      </div>\n",
      "      <div class=\"product-item-info\" name=\"so_delicious_dairy_free_cocowhip_light_vegan_nongmo_project_verified_9_oz_tub\">\n",
      "        <img alt=\"Image\" src=\"http://ec2-3-131-244-37.us-east-2.compute.amazonaws.com:7770/media/catalog/product/cache/89ff578b9cd87e0600daac45c9e1ea98/B/0/B01N1QRJNG.0.jpg\">\n",
      "        <div>\n",
      "          <span name=\"so_delicious_dairy_free_cocowhip_light_vegan_nongmo_project_verified_9_oz_tub.view_reviews\">Rating: 78%</span>\n",
      "          <strong name=\"so_delicious_dairy_free_cocowhip_light_vegan_nongmo_project_verified_9_oz_tub.view_product\">So Delicious Dairy Free CocoWhip Light, Vegan, Non-GMO Project Verified, 9 oz. Tub</strong>\n",
      "          <div>$15.62</div>\n",
      "          <button name=\"so_delicious_dairy_free_cocowhip_light_vegan_nongmo_project_verified_9_oz_tub.add_to_card\">Add to Cart</button>\n",
      "        </div>\n",
      "      </div>\n",
      "      <div class=\"product-item-info\" name=\"cheongeun_sweet_potato_starch_powder_500g_2easweet_potato_55_corn_45\">\n",
      "        <img alt=\"Image\" src=\"http://ec2-3-131-244-37.us-east-2.compute.amazonaws.com:7770/media/catalog/product/cache/89ff578b9cd87e0600daac45c9e1ea98/B/0/B07Y4MC6M5.0.jpg\">\n",
      "        <div>\n",
      "          <strong name=\"cheongeun_sweet_potato_starch_powder_500g_2easweet_potato_55_corn_45.view_product\">Cheongeun Sweet Potato Starch Powder 500g, 2ea(Sweet Potato 55%, Corn 45%)</strong>\n",
      "          <div>$34.00</div>\n",
      "          <button name=\"cheongeun_sweet_potato_starch_powder_500g_2easweet_potato_55_corn_45.add_to_card\">Add to Cart</button>\n",
      "        </div>\n",
      "      </div>\n",
      "      <div class=\"product-item-info\" name=\"q_mixers_premium_ginger_ale_real_ingredients__less_sweet_67_fl_oz_24_bottles\">\n",
      "        <img alt=\"Image\" src=\"http://ec2-3-131-244-37.us-east-2.compute.amazonaws.com:7770/media/catalog/product/cache/89ff578b9cd87e0600daac45c9e1ea98/B/0/B071KC37VD.0.jpg\">\n",
      "        <div>\n",
      "          <span name=\"q_mixers_premium_ginger_ale_real_ingredients__less_sweet_67_fl_oz_24_bottles.view_reviews\">Rating: 88%</span>\n",
      "          <strong name=\"q_mixers_premium_ginger_ale_real_ingredients__less_sweet_67_fl_oz_24_bottles.view_product\">Q Mixers Premium Ginger Ale: Real Ingredients &amp; Less Sweet, 6.7 Fl Oz (24 Bottles)</strong>\n",
      "          <div>$68.50</div>\n",
      "          <button name=\"q_mixers_premium_ginger_ale_real_ingredients__less_sweet_67_fl_oz_24_bottles.add_to_card\">Add to Cart</button>\n",
      "        </div>\n",
      "      </div>\n",
      "      <div class=\"product-item-info\" name=\"stove_top_turkey_stuffing_mix_12_oz_boxes_pack_of_2\">\n",
      "        <img alt=\"Image\" src=\"http://ec2-3-131-244-37.us-east-2.compute.amazonaws.com:7770/media/catalog/product/cache/89ff578b9cd87e0600daac45c9e1ea98/B/0/B004U5F23G.0.jpg\">\n",
      "        <div>\n",
      "          <span name=\"stove_top_turkey_stuffing_mix_12_oz_boxes_pack_of_2.view_reviews\">Rating: 85%</span>\n",
      "          <strong name=\"stove_top_turkey_stuffing_mix_12_oz_boxes_pack_of_2.view_product\">Stove Top Turkey Stuffing Mix (12 oz Boxes, Pack of 2)</strong>\n",
      "          <div>$8.49</div>\n",
      "          <button name=\"stove_top_turkey_stuffing_mix_12_oz_boxes_pack_of_2.add_to_card\">Add to Cart</button>\n",
      "        </div>\n",
      "      </div>\n",
      "      <div class=\"product-item-info\" name=\"briess_dme__pilsen_light__1_lb_bag\">\n",
      "        <img alt=\"Image\" src=\"http://ec2-3-131-244-37.us-east-2.compute.amazonaws.com:7770/media/catalog/product/cache/89ff578b9cd87e0600daac45c9e1ea98/B/0/B074DBMG66.0.jpg\">\n",
      "        <div>\n",
      "          <strong name=\"briess_dme__pilsen_light__1_lb_bag.view_product\">Briess DME - Pilsen Light - 1 lb Bag</strong>\n",
      "          <div>$12.99</div>\n",
      "          <button name=\"briess_dme__pilsen_light__1_lb_bag.add_to_card\">Add to Cart</button>\n",
      "        </div>\n",
      "      </div>\n",
      "      <div class=\"product-item-info\" name=\"tony_chacheres_more_spice_creole_seasoning__14_oz\">\n",
      "        <img alt=\"Image\" src=\"http://ec2-3-131-244-37.us-east-2.compute.amazonaws.com:7770/media/catalog/product/cache/89ff578b9cd87e0600daac45c9e1ea98/B/0/B001Q1J3QY.0.jpg\">\n",
      "        <div>\n",
      "          <span name=\"tony_chacheres_more_spice_creole_seasoning__14_oz.view_reviews\">Rating: 75%</span>\n",
      "          <strong name=\"tony_chacheres_more_spice_creole_seasoning__14_oz.view_product\">Tony Chachere's More Spice Creole Seasoning - 14 oz</strong>\n",
      "          <div>$7.92</div>\n",
      "          <button name=\"tony_chacheres_more_spice_creole_seasoning__14_oz.add_to_card\">Add to Cart</button>\n",
      "        </div>\n",
      "      </div>\n",
      "      <div class=\"product-item-info\" name=\"lobster_cobbler_pot_pie__gourmet_frozen_seafood_appetizers_set_of_8_trays\">\n",
      "        <img alt=\"Image\" src=\"http://ec2-3-131-244-37.us-east-2.compute.amazonaws.com:7770/media/catalog/product/cache/89ff578b9cd87e0600daac45c9e1ea98/B/0/B0793RMRGT.0.jpg\">\n",
      "        <div>\n",
      "          <strong name=\"lobster_cobbler_pot_pie__gourmet_frozen_seafood_appetizers_set_of_8_trays.view_product\">Lobster Cobbler Pot Pie - Gourmet Frozen Seafood Appetizers (Set of 8 Trays)</strong>\n",
      "          <div>$411.76</div>\n",
      "          <button name=\"lobster_cobbler_pot_pie__gourmet_frozen_seafood_appetizers_set_of_8_trays.add_to_card\">Add to Cart</button>\n",
      "        </div>\n",
      "      </div>\n",
      "      <div class=\"product-item-info\" name=\"crunchy_rice_rollers__gluten_free__vegan__35_oz_individual_packs_4_packs_of_8_rollers\">\n",
      "        <img alt=\"Image\" src=\"http://ec2-3-131-244-37.us-east-2.compute.amazonaws.com:7770/media/catalog/product/cache/89ff578b9cd87e0600daac45c9e1ea98/B/0/B00J7HXXGA.0.jpg\">\n",
      "        <div>\n",
      "          <span name=\"crunchy_rice_rollers__gluten_free__vegan__35_oz_individual_packs_4_packs_of_8_rollers.view_reviews\">Rating: 83%</span>\n",
      "          <strong name=\"crunchy_rice_rollers__gluten_free__vegan__35_oz_individual_packs_4_packs_of_8_rollers.view_product\">Crunchy Rice Rollers - Gluten Free - Vegan - 3.5 oz Individual Packs (4 Packs of 8 Rollers)</strong>\n",
      "          <div>$11.50</div>\n",
      "          <button name=\"crunchy_rice_rollers__gluten_free__vegan__35_oz_individual_packs_4_packs_of_8_rollers.add_to_card\">Add to Cart</button>\n",
      "        </div>\n",
      "      </div>\n",
      "      <div class=\"product-item-info\" name=\"20_pcs_balls_cake_topper_mini_balloons_cake_topper_pearl_balls_cake_pick_foam_ball_cupcake_topper_baking_decoration_supplies_toothpick_party_wedding_anniversary_birthday_baby_shower_cake_decoration\">\n",
      "        <img alt=\"Image\" src=\"http://ec2-3-131-244-37.us-east-2.compute.amazonaws.com:7770/media/catalog/product/cache/89ff578b9cd87e0600daac45c9e1ea98/B/0/B09GFC1D5R.0.jpg\">\n",
      "        <div>\n",
      "          <span name=\"20_pcs_balls_cake_topper_mini_balloons_cake_topper_pearl_balls_cake_pick_foam_ball_cupcake_topper_baking_decoration_supplies_toothpick_party_wedding_anniversary_birthday_baby_shower_cake_decoration.view_reviews\">Rating: 62%</span>\n",
      "          <strong name=\"20_pcs_balls_cake_topper_mini_balloons_cake_topper_pearl_balls_cake_pick_foam_ball_cupcake_topper_baking_decoration_supplies_toothpick_party_wedding_anniversary_birthday_baby_shower_cake_decoration.view_product\">20 PCS Balls Cake Topper Mini Balloons Cake Topper Pearl Balls Cake Pick Foam Ball Cupcake Topper Baking Decoration Supplies Toothpick Party Wedding Anniversary Birthday Baby Shower Cake Decoration</strong>\n",
      "          <div>$9.49</div>\n",
      "          <button name=\"20_pcs_balls_cake_topper_mini_balloons_cake_topper_pearl_balls_cake_pick_foam_ball_cupcake_topper_baking_decoration_supplies_toothpick_party_wedding_anniversary_birthday_baby_shower_cake_decoration.add_to_card\">Add to Cart</button>\n",
      "        </div>\n",
      "      </div>\n",
      "    </div>\n",
      "  </body>\n",
      "</html>\n"
     ]
    }
   ],
   "source": [
    "print(process(driver.find_element(By.CSS_SELECTOR, recipe['selector']), recipe))"
   ]
  },
  {
   "cell_type": "code",
   "execution_count": null,
   "metadata": {},
   "outputs": [
    {
     "name": "stdout",
     "output_type": "stream",
     "text": [
      "301\n"
     ]
    }
   ],
   "source": [
    "print(len(driver.find_element(By.CSS_SELECTOR, 'html').find_element(By.CSS_SELECTOR, 'nav').find_element(By.CSS_SELECTOR, 'ul').find_elements(By.CSS_SELECTOR, 'li')))"
   ]
  },
  {
   "cell_type": "code",
   "execution_count": 198,
   "metadata": {},
   "outputs": [
    {
     "name": "stdout",
     "output_type": "stream",
     "text": [
      "{'beauty_&_personal_care': <selenium.webdriver.remote.webelement.WebElement (session=\"fb40a98df1e22d9246fdf35d537a2abf\", element=\"f.61335BC334089FFDCEA69597859FA8DD.d.704552B28F5BCF7ADC1B205D741C19FD.e.622\")>, 'sports_&_outdoors': <selenium.webdriver.remote.webelement.WebElement (session=\"fb40a98df1e22d9246fdf35d537a2abf\", element=\"f.61335BC334089FFDCEA69597859FA8DD.d.704552B28F5BCF7ADC1B205D741C19FD.e.687\")>, 'clothing,_shoes_&_jewelry': <selenium.webdriver.remote.webelement.WebElement (session=\"fb40a98df1e22d9246fdf35d537a2abf\", element=\"f.61335BC334089FFDCEA69597859FA8DD.d.704552B28F5BCF7ADC1B205D741C19FD.e.697\")>, 'home_&_kitchen': <selenium.webdriver.remote.webelement.WebElement (session=\"fb40a98df1e22d9246fdf35d537a2abf\", element=\"f.61335BC334089FFDCEA69597859FA8DD.d.704552B28F5BCF7ADC1B205D741C19FD.e.711\")>, 'office_products': <selenium.webdriver.remote.webelement.WebElement (session=\"fb40a98df1e22d9246fdf35d537a2abf\", element=\"f.61335BC334089FFDCEA69597859FA8DD.d.704552B28F5BCF7ADC1B205D741C19FD.e.748\")>, 'tools_&_home_improvement': <selenium.webdriver.remote.webelement.WebElement (session=\"fb40a98df1e22d9246fdf35d537a2abf\", element=\"f.61335BC334089FFDCEA69597859FA8DD.d.704552B28F5BCF7ADC1B205D741C19FD.e.756\")>, 'health_&_household': <selenium.webdriver.remote.webelement.WebElement (session=\"fb40a98df1e22d9246fdf35d537a2abf\", element=\"f.61335BC334089FFDCEA69597859FA8DD.d.704552B28F5BCF7ADC1B205D741C19FD.e.761\")>, 'patio,_lawn_&_garden': <selenium.webdriver.remote.webelement.WebElement (session=\"fb40a98df1e22d9246fdf35d537a2abf\", element=\"f.61335BC334089FFDCEA69597859FA8DD.d.704552B28F5BCF7ADC1B205D741C19FD.e.767\")>, 'electronics': <selenium.webdriver.remote.webelement.WebElement (session=\"fb40a98df1e22d9246fdf35d537a2abf\", element=\"f.61335BC334089FFDCEA69597859FA8DD.d.704552B28F5BCF7ADC1B205D741C19FD.e.772\")>, 'cell_phones_&_accessories': <selenium.webdriver.remote.webelement.WebElement (session=\"fb40a98df1e22d9246fdf35d537a2abf\", element=\"f.61335BC334089FFDCEA69597859FA8DD.d.704552B28F5BCF7ADC1B205D741C19FD.e.833\")>, 'video_games': <selenium.webdriver.remote.webelement.WebElement (session=\"fb40a98df1e22d9246fdf35d537a2abf\", element=\"f.61335BC334089FFDCEA69597859FA8DD.d.704552B28F5BCF7ADC1B205D741C19FD.e.848\")>, 'grocery_&_gourmet_food': <selenium.webdriver.remote.webelement.WebElement (session=\"fb40a98df1e22d9246fdf35d537a2abf\", element=\"f.61335BC334089FFDCEA69597859FA8DD.d.704552B28F5BCF7ADC1B205D741C19FD.e.861\")>, \"oral_caretoothbrushes_&_accessoriesdental_floss_&_picksorthodontic_supplieschildren's_dental_careoral_pain_relieftoothpasteteeth_whiteningbreath_freshenersdenture_caretongue_cleanersmouthwash\": <selenium.webdriver.remote.webelement.WebElement (session=\"fb40a98df1e22d9246fdf35d537a2abf\", element=\"f.61335BC334089FFDCEA69597859FA8DD.d.704552B28F5BCF7ADC1B205D741C19FD.e.623\")>, 'skin_caresunscreens_&_tanning_productsfacelip_carematernityeyessets_&_kitsbody': <selenium.webdriver.remote.webelement.WebElement (session=\"fb40a98df1e22d9246fdf35d537a2abf\", element=\"f.61335BC334089FFDCEA69597859FA8DD.d.704552B28F5BCF7ADC1B205D741C19FD.e.635\")>, 'makeupbodyeyeslipsmakeup_palettesfacemakeup_setsmakeup_remover': <selenium.webdriver.remote.webelement.WebElement (session=\"fb40a98df1e22d9246fdf35d537a2abf\", element=\"f.61335BC334089FFDCEA69597859FA8DD.d.704552B28F5BCF7ADC1B205D741C19FD.e.643\")>, 'foot,_hand_&_nail_caretools_&_accessoriesnail_art_&_polishfoot_&_hand_care': <selenium.webdriver.remote.webelement.WebElement (session=\"fb40a98df1e22d9246fdf35d537a2abf\", element=\"f.61335BC334089FFDCEA69597859FA8DD.d.704552B28F5BCF7ADC1B205D741C19FD.e.651\")>, 'hair_carehair_loss_productshair_maskshair_cutting_toolshair_coloring_productshair_treatment_oilshair_extensions,_wigs_&_accessoriesshampoo_&_conditionerstyling_productsstyling_tools_&_applianceshair_accessories': <selenium.webdriver.remote.webelement.WebElement (session=\"fb40a98df1e22d9246fdf35d537a2abf\", element=\"f.61335BC334089FFDCEA69597859FA8DD.d.704552B28F5BCF7ADC1B205D741C19FD.e.655\")>, 'tools_&_accessoriesbags_&_casesmakeup_brushes_&_toolsrefillable_containersmirrorsskin_care_toolscotton_balls_&_swabs': <selenium.webdriver.remote.webelement.WebElement (session=\"fb40a98df1e22d9246fdf35d537a2abf\", element=\"f.61335BC334089FFDCEA69597859FA8DD.d.704552B28F5BCF7ADC1B205D741C19FD.e.666\")>, \"fragrancewomen'smen's\": <selenium.webdriver.remote.webelement.WebElement (session=\"fb40a98df1e22d9246fdf35d537a2abf\", element=\"f.61335BC334089FFDCEA69597859FA8DD.d.704552B28F5BCF7ADC1B205D741C19FD.e.673\")>, 'personal_carebath_&_bathing_accessoriesdeodorants_&_antiperspirantspiercing_&_tattoo_supplies': <selenium.webdriver.remote.webelement.WebElement (session=\"fb40a98df1e22d9246fdf35d537a2abf\", element=\"f.61335BC334089FFDCEA69597859FA8DD.d.704552B28F5BCF7ADC1B205D741C19FD.e.676\")>, \"shave_&_hair_removalmen'swomen's\": <selenium.webdriver.remote.webelement.WebElement (session=\"fb40a98df1e22d9246fdf35d537a2abf\", element=\"f.61335BC334089FFDCEA69597859FA8DD.d.704552B28F5BCF7ADC1B205D741C19FD.e.680\")>, 'salon_&_spa_equipmentspa_storage_systemsspa_beds_&_tablesprofessional_massage_equipment': <selenium.webdriver.remote.webelement.WebElement (session=\"fb40a98df1e22d9246fdf35d537a2abf\", element=\"f.61335BC334089FFDCEA69597859FA8DD.d.704552B28F5BCF7ADC1B205D741C19FD.e.683\")>, 'toothbrushes_&_accessories': <selenium.webdriver.remote.webelement.WebElement (session=\"fb40a98df1e22d9246fdf35d537a2abf\", element=\"f.61335BC334089FFDCEA69597859FA8DD.d.704552B28F5BCF7ADC1B205D741C19FD.e.624\")>, 'dental_floss_&_picks': <selenium.webdriver.remote.webelement.WebElement (session=\"fb40a98df1e22d9246fdf35d537a2abf\", element=\"f.61335BC334089FFDCEA69597859FA8DD.d.704552B28F5BCF7ADC1B205D741C19FD.e.625\")>, 'orthodontic_supplies': <selenium.webdriver.remote.webelement.WebElement (session=\"fb40a98df1e22d9246fdf35d537a2abf\", element=\"f.61335BC334089FFDCEA69597859FA8DD.d.704552B28F5BCF7ADC1B205D741C19FD.e.626\")>, \"children's_dental_care\": <selenium.webdriver.remote.webelement.WebElement (session=\"fb40a98df1e22d9246fdf35d537a2abf\", element=\"f.61335BC334089FFDCEA69597859FA8DD.d.704552B28F5BCF7ADC1B205D741C19FD.e.627\")>, 'oral_pain_relief': <selenium.webdriver.remote.webelement.WebElement (session=\"fb40a98df1e22d9246fdf35d537a2abf\", element=\"f.61335BC334089FFDCEA69597859FA8DD.d.704552B28F5BCF7ADC1B205D741C19FD.e.628\")>, 'toothpaste': <selenium.webdriver.remote.webelement.WebElement (session=\"fb40a98df1e22d9246fdf35d537a2abf\", element=\"f.61335BC334089FFDCEA69597859FA8DD.d.704552B28F5BCF7ADC1B205D741C19FD.e.629\")>, 'teeth_whitening': <selenium.webdriver.remote.webelement.WebElement (session=\"fb40a98df1e22d9246fdf35d537a2abf\", element=\"f.61335BC334089FFDCEA69597859FA8DD.d.704552B28F5BCF7ADC1B205D741C19FD.e.630\")>, 'breath_fresheners': <selenium.webdriver.remote.webelement.WebElement (session=\"fb40a98df1e22d9246fdf35d537a2abf\", element=\"f.61335BC334089FFDCEA69597859FA8DD.d.704552B28F5BCF7ADC1B205D741C19FD.e.631\")>, 'denture_care': <selenium.webdriver.remote.webelement.WebElement (session=\"fb40a98df1e22d9246fdf35d537a2abf\", element=\"f.61335BC334089FFDCEA69597859FA8DD.d.704552B28F5BCF7ADC1B205D741C19FD.e.632\")>, 'tongue_cleaners': <selenium.webdriver.remote.webelement.WebElement (session=\"fb40a98df1e22d9246fdf35d537a2abf\", element=\"f.61335BC334089FFDCEA69597859FA8DD.d.704552B28F5BCF7ADC1B205D741C19FD.e.633\")>, 'mouthwash': <selenium.webdriver.remote.webelement.WebElement (session=\"fb40a98df1e22d9246fdf35d537a2abf\", element=\"f.61335BC334089FFDCEA69597859FA8DD.d.704552B28F5BCF7ADC1B205D741C19FD.e.634\")>, 'sunscreens_&_tanning_products': <selenium.webdriver.remote.webelement.WebElement (session=\"fb40a98df1e22d9246fdf35d537a2abf\", element=\"f.61335BC334089FFDCEA69597859FA8DD.d.704552B28F5BCF7ADC1B205D741C19FD.e.636\")>, 'face': <selenium.webdriver.remote.webelement.WebElement (session=\"fb40a98df1e22d9246fdf35d537a2abf\", element=\"f.61335BC334089FFDCEA69597859FA8DD.d.704552B28F5BCF7ADC1B205D741C19FD.e.648\")>, 'lip_care': <selenium.webdriver.remote.webelement.WebElement (session=\"fb40a98df1e22d9246fdf35d537a2abf\", element=\"f.61335BC334089FFDCEA69597859FA8DD.d.704552B28F5BCF7ADC1B205D741C19FD.e.638\")>, 'maternity': <selenium.webdriver.remote.webelement.WebElement (session=\"fb40a98df1e22d9246fdf35d537a2abf\", element=\"f.61335BC334089FFDCEA69597859FA8DD.d.704552B28F5BCF7ADC1B205D741C19FD.e.639\")>, 'eyes': <selenium.webdriver.remote.webelement.WebElement (session=\"fb40a98df1e22d9246fdf35d537a2abf\", element=\"f.61335BC334089FFDCEA69597859FA8DD.d.704552B28F5BCF7ADC1B205D741C19FD.e.645\")>, 'sets_&_kits': <selenium.webdriver.remote.webelement.WebElement (session=\"fb40a98df1e22d9246fdf35d537a2abf\", element=\"f.61335BC334089FFDCEA69597859FA8DD.d.704552B28F5BCF7ADC1B205D741C19FD.e.641\")>, 'body': <selenium.webdriver.remote.webelement.WebElement (session=\"fb40a98df1e22d9246fdf35d537a2abf\", element=\"f.61335BC334089FFDCEA69597859FA8DD.d.704552B28F5BCF7ADC1B205D741C19FD.e.644\")>, 'lips': <selenium.webdriver.remote.webelement.WebElement (session=\"fb40a98df1e22d9246fdf35d537a2abf\", element=\"f.61335BC334089FFDCEA69597859FA8DD.d.704552B28F5BCF7ADC1B205D741C19FD.e.646\")>, 'makeup_palettes': <selenium.webdriver.remote.webelement.WebElement (session=\"fb40a98df1e22d9246fdf35d537a2abf\", element=\"f.61335BC334089FFDCEA69597859FA8DD.d.704552B28F5BCF7ADC1B205D741C19FD.e.647\")>, 'makeup_sets': <selenium.webdriver.remote.webelement.WebElement (session=\"fb40a98df1e22d9246fdf35d537a2abf\", element=\"f.61335BC334089FFDCEA69597859FA8DD.d.704552B28F5BCF7ADC1B205D741C19FD.e.649\")>, 'makeup_remover': <selenium.webdriver.remote.webelement.WebElement (session=\"fb40a98df1e22d9246fdf35d537a2abf\", element=\"f.61335BC334089FFDCEA69597859FA8DD.d.704552B28F5BCF7ADC1B205D741C19FD.e.650\")>, 'tools_&_accessories': <selenium.webdriver.remote.webelement.WebElement (session=\"fb40a98df1e22d9246fdf35d537a2abf\", element=\"f.61335BC334089FFDCEA69597859FA8DD.d.704552B28F5BCF7ADC1B205D741C19FD.e.652\")>, 'nail_art_&_polish': <selenium.webdriver.remote.webelement.WebElement (session=\"fb40a98df1e22d9246fdf35d537a2abf\", element=\"f.61335BC334089FFDCEA69597859FA8DD.d.704552B28F5BCF7ADC1B205D741C19FD.e.653\")>, 'foot_&_hand_care': <selenium.webdriver.remote.webelement.WebElement (session=\"fb40a98df1e22d9246fdf35d537a2abf\", element=\"f.61335BC334089FFDCEA69597859FA8DD.d.704552B28F5BCF7ADC1B205D741C19FD.e.654\")>, 'hair_loss_products': <selenium.webdriver.remote.webelement.WebElement (session=\"fb40a98df1e22d9246fdf35d537a2abf\", element=\"f.61335BC334089FFDCEA69597859FA8DD.d.704552B28F5BCF7ADC1B205D741C19FD.e.656\")>, 'hair_masks': <selenium.webdriver.remote.webelement.WebElement (session=\"fb40a98df1e22d9246fdf35d537a2abf\", element=\"f.61335BC334089FFDCEA69597859FA8DD.d.704552B28F5BCF7ADC1B205D741C19FD.e.657\")>, 'hair_cutting_tools': <selenium.webdriver.remote.webelement.WebElement (session=\"fb40a98df1e22d9246fdf35d537a2abf\", element=\"f.61335BC334089FFDCEA69597859FA8DD.d.704552B28F5BCF7ADC1B205D741C19FD.e.658\")>, 'hair_coloring_products': <selenium.webdriver.remote.webelement.WebElement (session=\"fb40a98df1e22d9246fdf35d537a2abf\", element=\"f.61335BC334089FFDCEA69597859FA8DD.d.704552B28F5BCF7ADC1B205D741C19FD.e.659\")>, 'hair_treatment_oils': <selenium.webdriver.remote.webelement.WebElement (session=\"fb40a98df1e22d9246fdf35d537a2abf\", element=\"f.61335BC334089FFDCEA69597859FA8DD.d.704552B28F5BCF7ADC1B205D741C19FD.e.660\")>, 'hair_extensions,_wigs_&_accessories': <selenium.webdriver.remote.webelement.WebElement (session=\"fb40a98df1e22d9246fdf35d537a2abf\", element=\"f.61335BC334089FFDCEA69597859FA8DD.d.704552B28F5BCF7ADC1B205D741C19FD.e.661\")>, 'shampoo_&_conditioner': <selenium.webdriver.remote.webelement.WebElement (session=\"fb40a98df1e22d9246fdf35d537a2abf\", element=\"f.61335BC334089FFDCEA69597859FA8DD.d.704552B28F5BCF7ADC1B205D741C19FD.e.662\")>, 'styling_products': <selenium.webdriver.remote.webelement.WebElement (session=\"fb40a98df1e22d9246fdf35d537a2abf\", element=\"f.61335BC334089FFDCEA69597859FA8DD.d.704552B28F5BCF7ADC1B205D741C19FD.e.663\")>, 'styling_tools_&_appliances': <selenium.webdriver.remote.webelement.WebElement (session=\"fb40a98df1e22d9246fdf35d537a2abf\", element=\"f.61335BC334089FFDCEA69597859FA8DD.d.704552B28F5BCF7ADC1B205D741C19FD.e.664\")>, 'hair_accessories': <selenium.webdriver.remote.webelement.WebElement (session=\"fb40a98df1e22d9246fdf35d537a2abf\", element=\"f.61335BC334089FFDCEA69597859FA8DD.d.704552B28F5BCF7ADC1B205D741C19FD.e.665\")>, 'bags_&_cases': <selenium.webdriver.remote.webelement.WebElement (session=\"fb40a98df1e22d9246fdf35d537a2abf\", element=\"f.61335BC334089FFDCEA69597859FA8DD.d.704552B28F5BCF7ADC1B205D741C19FD.e.794\")>, 'makeup_brushes_&_tools': <selenium.webdriver.remote.webelement.WebElement (session=\"fb40a98df1e22d9246fdf35d537a2abf\", element=\"f.61335BC334089FFDCEA69597859FA8DD.d.704552B28F5BCF7ADC1B205D741C19FD.e.668\")>, 'refillable_containers': <selenium.webdriver.remote.webelement.WebElement (session=\"fb40a98df1e22d9246fdf35d537a2abf\", element=\"f.61335BC334089FFDCEA69597859FA8DD.d.704552B28F5BCF7ADC1B205D741C19FD.e.669\")>, 'mirrors': <selenium.webdriver.remote.webelement.WebElement (session=\"fb40a98df1e22d9246fdf35d537a2abf\", element=\"f.61335BC334089FFDCEA69597859FA8DD.d.704552B28F5BCF7ADC1B205D741C19FD.e.736\")>, 'skin_care_tools': <selenium.webdriver.remote.webelement.WebElement (session=\"fb40a98df1e22d9246fdf35d537a2abf\", element=\"f.61335BC334089FFDCEA69597859FA8DD.d.704552B28F5BCF7ADC1B205D741C19FD.e.671\")>, 'cotton_balls_&_swabs': <selenium.webdriver.remote.webelement.WebElement (session=\"fb40a98df1e22d9246fdf35d537a2abf\", element=\"f.61335BC334089FFDCEA69597859FA8DD.d.704552B28F5BCF7ADC1B205D741C19FD.e.672\")>, \"women's\": <selenium.webdriver.remote.webelement.WebElement (session=\"fb40a98df1e22d9246fdf35d537a2abf\", element=\"f.61335BC334089FFDCEA69597859FA8DD.d.704552B28F5BCF7ADC1B205D741C19FD.e.682\")>, \"men's\": <selenium.webdriver.remote.webelement.WebElement (session=\"fb40a98df1e22d9246fdf35d537a2abf\", element=\"f.61335BC334089FFDCEA69597859FA8DD.d.704552B28F5BCF7ADC1B205D741C19FD.e.681\")>, 'bath_&_bathing_accessories': <selenium.webdriver.remote.webelement.WebElement (session=\"fb40a98df1e22d9246fdf35d537a2abf\", element=\"f.61335BC334089FFDCEA69597859FA8DD.d.704552B28F5BCF7ADC1B205D741C19FD.e.677\")>, 'deodorants_&_antiperspirants': <selenium.webdriver.remote.webelement.WebElement (session=\"fb40a98df1e22d9246fdf35d537a2abf\", element=\"f.61335BC334089FFDCEA69597859FA8DD.d.704552B28F5BCF7ADC1B205D741C19FD.e.678\")>, 'piercing_&_tattoo_supplies': <selenium.webdriver.remote.webelement.WebElement (session=\"fb40a98df1e22d9246fdf35d537a2abf\", element=\"f.61335BC334089FFDCEA69597859FA8DD.d.704552B28F5BCF7ADC1B205D741C19FD.e.679\")>, 'spa_storage_systems': <selenium.webdriver.remote.webelement.WebElement (session=\"fb40a98df1e22d9246fdf35d537a2abf\", element=\"f.61335BC334089FFDCEA69597859FA8DD.d.704552B28F5BCF7ADC1B205D741C19FD.e.684\")>, 'spa_beds_&_tables': <selenium.webdriver.remote.webelement.WebElement (session=\"fb40a98df1e22d9246fdf35d537a2abf\", element=\"f.61335BC334089FFDCEA69597859FA8DD.d.704552B28F5BCF7ADC1B205D741C19FD.e.685\")>, 'professional_massage_equipment': <selenium.webdriver.remote.webelement.WebElement (session=\"fb40a98df1e22d9246fdf35d537a2abf\", element=\"f.61335BC334089FFDCEA69597859FA8DD.d.704552B28F5BCF7ADC1B205D741C19FD.e.686\")>, 'hunting_&_fishingshooting': <selenium.webdriver.remote.webelement.WebElement (session=\"fb40a98df1e22d9246fdf35d537a2abf\", element=\"f.61335BC334089FFDCEA69597859FA8DD.d.704552B28F5BCF7ADC1B205D741C19FD.e.688\")>, 'exercise_&_fitness': <selenium.webdriver.remote.webelement.WebElement (session=\"fb40a98df1e22d9246fdf35d537a2abf\", element=\"f.61335BC334089FFDCEA69597859FA8DD.d.704552B28F5BCF7ADC1B205D741C19FD.e.690\")>, 'fan_shopclothingfootwear': <selenium.webdriver.remote.webelement.WebElement (session=\"fb40a98df1e22d9246fdf35d537a2abf\", element=\"f.61335BC334089FFDCEA69597859FA8DD.d.704552B28F5BCF7ADC1B205D741C19FD.e.691\")>, 'sports_&_outdoor_recreation_accessoriesball_storage': <selenium.webdriver.remote.webelement.WebElement (session=\"fb40a98df1e22d9246fdf35d537a2abf\", element=\"f.61335BC334089FFDCEA69597859FA8DD.d.704552B28F5BCF7ADC1B205D741C19FD.e.694\")>, 'sports': <selenium.webdriver.remote.webelement.WebElement (session=\"fb40a98df1e22d9246fdf35d537a2abf\", element=\"f.61335BC334089FFDCEA69597859FA8DD.d.704552B28F5BCF7ADC1B205D741C19FD.e.696\")>, 'shooting': <selenium.webdriver.remote.webelement.WebElement (session=\"fb40a98df1e22d9246fdf35d537a2abf\", element=\"f.61335BC334089FFDCEA69597859FA8DD.d.704552B28F5BCF7ADC1B205D741C19FD.e.689\")>, 'clothing': <selenium.webdriver.remote.webelement.WebElement (session=\"fb40a98df1e22d9246fdf35d537a2abf\", element=\"f.61335BC334089FFDCEA69597859FA8DD.d.704552B28F5BCF7ADC1B205D741C19FD.e.708\")>, 'footwear': <selenium.webdriver.remote.webelement.WebElement (session=\"fb40a98df1e22d9246fdf35d537a2abf\", element=\"f.61335BC334089FFDCEA69597859FA8DD.d.704552B28F5BCF7ADC1B205D741C19FD.e.693\")>, 'ball_storage': <selenium.webdriver.remote.webelement.WebElement (session=\"fb40a98df1e22d9246fdf35d537a2abf\", element=\"f.61335BC334089FFDCEA69597859FA8DD.d.704552B28F5BCF7ADC1B205D741C19FD.e.695\")>, 'menclothingshoesuniforms,_work_&_safety': <selenium.webdriver.remote.webelement.WebElement (session=\"fb40a98df1e22d9246fdf35d537a2abf\", element=\"f.61335BC334089FFDCEA69597859FA8DD.d.704552B28F5BCF7ADC1B205D741C19FD.e.698\")>, 'womenclothingshoesaccessoriesuniforms,_work_&_safety': <selenium.webdriver.remote.webelement.WebElement (session=\"fb40a98df1e22d9246fdf35d537a2abf\", element=\"f.61335BC334089FFDCEA69597859FA8DD.d.704552B28F5BCF7ADC1B205D741C19FD.e.702\")>, 'novelty_&_moreclothing': <selenium.webdriver.remote.webelement.WebElement (session=\"fb40a98df1e22d9246fdf35d537a2abf\", element=\"f.61335BC334089FFDCEA69597859FA8DD.d.704552B28F5BCF7ADC1B205D741C19FD.e.707\")>, 'sport_specific_clothingcompetitive_swimwear': <selenium.webdriver.remote.webelement.WebElement (session=\"fb40a98df1e22d9246fdf35d537a2abf\", element=\"f.61335BC334089FFDCEA69597859FA8DD.d.704552B28F5BCF7ADC1B205D741C19FD.e.709\")>, 'shoes': <selenium.webdriver.remote.webelement.WebElement (session=\"fb40a98df1e22d9246fdf35d537a2abf\", element=\"f.61335BC334089FFDCEA69597859FA8DD.d.704552B28F5BCF7ADC1B205D741C19FD.e.704\")>, 'uniforms,_work_&_safety': <selenium.webdriver.remote.webelement.WebElement (session=\"fb40a98df1e22d9246fdf35d537a2abf\", element=\"f.61335BC334089FFDCEA69597859FA8DD.d.704552B28F5BCF7ADC1B205D741C19FD.e.706\")>, 'accessories': <selenium.webdriver.remote.webelement.WebElement (session=\"fb40a98df1e22d9246fdf35d537a2abf\", element=\"f.61335BC334089FFDCEA69597859FA8DD.d.704552B28F5BCF7ADC1B205D741C19FD.e.797\")>, 'competitive_swimwear': <selenium.webdriver.remote.webelement.WebElement (session=\"fb40a98df1e22d9246fdf35d537a2abf\", element=\"f.61335BC334089FFDCEA69597859FA8DD.d.704552B28F5BCF7ADC1B205D741C19FD.e.710\")>, \"furnitureliving_room_furnitureaccent_furniturehome_office_furniturekitchen_furnituregame_&_recreation_room_furniturebedroom_furnitureentryway_furnituredining_room_furniturekids'_furniture\": <selenium.webdriver.remote.webelement.WebElement (session=\"fb40a98df1e22d9246fdf35d537a2abf\", element=\"f.61335BC334089FFDCEA69597859FA8DD.d.704552B28F5BCF7ADC1B205D741C19FD.e.712\")>, \"beddingkids'_beddingblankets_&_throwsdecorative_pillows,_inserts_&_covers\": <selenium.webdriver.remote.webelement.WebElement (session=\"fb40a98df1e22d9246fdf35d537a2abf\", element=\"f.61335BC334089FFDCEA69597859FA8DD.d.704552B28F5BCF7ADC1B205D741C19FD.e.722\")>, 'storage_&_organizationbaskets,_bins_&_containershome_storage_hooksracks,_shelves_&_drawersclothing_&_closet_storage': <selenium.webdriver.remote.webelement.WebElement (session=\"fb40a98df1e22d9246fdf35d537a2abf\", element=\"f.61335BC334089FFDCEA69597859FA8DD.d.704552B28F5BCF7ADC1B205D741C19FD.e.726\")>, 'home_décor_productshome_décor_accentswindow_treatmentsartificial_plants_&_flowerscandles_&_holdersmirrorsrugs,_pads_&_protectorsslipcovers': <selenium.webdriver.remote.webelement.WebElement (session=\"fb40a98df1e22d9246fdf35d537a2abf\", element=\"f.61335BC334089FFDCEA69597859FA8DD.d.704552B28F5BCF7ADC1B205D741C19FD.e.731\")>, 'kitchen_&_diningdining_&_entertainingstorage_&_organizationkitchen_&_table_linens': <selenium.webdriver.remote.webelement.WebElement (session=\"fb40a98df1e22d9246fdf35d537a2abf\", element=\"f.61335BC334089FFDCEA69597859FA8DD.d.704552B28F5BCF7ADC1B205D741C19FD.e.739\")>, 'heating,_cooling_&_air_quality': <selenium.webdriver.remote.webelement.WebElement (session=\"fb40a98df1e22d9246fdf35d537a2abf\", element=\"f.61335BC334089FFDCEA69597859FA8DD.d.704552B28F5BCF7ADC1B205D741C19FD.e.743\")>, 'wall_artposters_&_prints': <selenium.webdriver.remote.webelement.WebElement (session=\"fb40a98df1e22d9246fdf35d537a2abf\", element=\"f.61335BC334089FFDCEA69597859FA8DD.d.704552B28F5BCF7ADC1B205D741C19FD.e.744\")>, 'bathbathroom_accessories': <selenium.webdriver.remote.webelement.WebElement (session=\"fb40a98df1e22d9246fdf35d537a2abf\", element=\"f.61335BC334089FFDCEA69597859FA8DD.d.704552B28F5BCF7ADC1B205D741C19FD.e.746\")>, 'living_room_furniture': <selenium.webdriver.remote.webelement.WebElement (session=\"fb40a98df1e22d9246fdf35d537a2abf\", element=\"f.61335BC334089FFDCEA69597859FA8DD.d.704552B28F5BCF7ADC1B205D741C19FD.e.713\")>, 'accent_furniture': <selenium.webdriver.remote.webelement.WebElement (session=\"fb40a98df1e22d9246fdf35d537a2abf\", element=\"f.61335BC334089FFDCEA69597859FA8DD.d.704552B28F5BCF7ADC1B205D741C19FD.e.714\")>, 'home_office_furniture': <selenium.webdriver.remote.webelement.WebElement (session=\"fb40a98df1e22d9246fdf35d537a2abf\", element=\"f.61335BC334089FFDCEA69597859FA8DD.d.704552B28F5BCF7ADC1B205D741C19FD.e.715\")>, 'kitchen_furniture': <selenium.webdriver.remote.webelement.WebElement (session=\"fb40a98df1e22d9246fdf35d537a2abf\", element=\"f.61335BC334089FFDCEA69597859FA8DD.d.704552B28F5BCF7ADC1B205D741C19FD.e.716\")>, 'game_&_recreation_room_furniture': <selenium.webdriver.remote.webelement.WebElement (session=\"fb40a98df1e22d9246fdf35d537a2abf\", element=\"f.61335BC334089FFDCEA69597859FA8DD.d.704552B28F5BCF7ADC1B205D741C19FD.e.717\")>, 'bedroom_furniture': <selenium.webdriver.remote.webelement.WebElement (session=\"fb40a98df1e22d9246fdf35d537a2abf\", element=\"f.61335BC334089FFDCEA69597859FA8DD.d.704552B28F5BCF7ADC1B205D741C19FD.e.718\")>, 'entryway_furniture': <selenium.webdriver.remote.webelement.WebElement (session=\"fb40a98df1e22d9246fdf35d537a2abf\", element=\"f.61335BC334089FFDCEA69597859FA8DD.d.704552B28F5BCF7ADC1B205D741C19FD.e.719\")>, 'dining_room_furniture': <selenium.webdriver.remote.webelement.WebElement (session=\"fb40a98df1e22d9246fdf35d537a2abf\", element=\"f.61335BC334089FFDCEA69597859FA8DD.d.704552B28F5BCF7ADC1B205D741C19FD.e.720\")>, \"kids'_furniture\": <selenium.webdriver.remote.webelement.WebElement (session=\"fb40a98df1e22d9246fdf35d537a2abf\", element=\"f.61335BC334089FFDCEA69597859FA8DD.d.704552B28F5BCF7ADC1B205D741C19FD.e.721\")>, \"kids'_bedding\": <selenium.webdriver.remote.webelement.WebElement (session=\"fb40a98df1e22d9246fdf35d537a2abf\", element=\"f.61335BC334089FFDCEA69597859FA8DD.d.704552B28F5BCF7ADC1B205D741C19FD.e.723\")>, 'blankets_&_throws': <selenium.webdriver.remote.webelement.WebElement (session=\"fb40a98df1e22d9246fdf35d537a2abf\", element=\"f.61335BC334089FFDCEA69597859FA8DD.d.704552B28F5BCF7ADC1B205D741C19FD.e.724\")>, 'decorative_pillows,_inserts_&_covers': <selenium.webdriver.remote.webelement.WebElement (session=\"fb40a98df1e22d9246fdf35d537a2abf\", element=\"f.61335BC334089FFDCEA69597859FA8DD.d.704552B28F5BCF7ADC1B205D741C19FD.e.725\")>, 'baskets,_bins_&_containers': <selenium.webdriver.remote.webelement.WebElement (session=\"fb40a98df1e22d9246fdf35d537a2abf\", element=\"f.61335BC334089FFDCEA69597859FA8DD.d.704552B28F5BCF7ADC1B205D741C19FD.e.727\")>, 'home_storage_hooks': <selenium.webdriver.remote.webelement.WebElement (session=\"fb40a98df1e22d9246fdf35d537a2abf\", element=\"f.61335BC334089FFDCEA69597859FA8DD.d.704552B28F5BCF7ADC1B205D741C19FD.e.728\")>, 'racks,_shelves_&_drawers': <selenium.webdriver.remote.webelement.WebElement (session=\"fb40a98df1e22d9246fdf35d537a2abf\", element=\"f.61335BC334089FFDCEA69597859FA8DD.d.704552B28F5BCF7ADC1B205D741C19FD.e.729\")>, 'clothing_&_closet_storage': <selenium.webdriver.remote.webelement.WebElement (session=\"fb40a98df1e22d9246fdf35d537a2abf\", element=\"f.61335BC334089FFDCEA69597859FA8DD.d.704552B28F5BCF7ADC1B205D741C19FD.e.730\")>, 'home_décor_accents': <selenium.webdriver.remote.webelement.WebElement (session=\"fb40a98df1e22d9246fdf35d537a2abf\", element=\"f.61335BC334089FFDCEA69597859FA8DD.d.704552B28F5BCF7ADC1B205D741C19FD.e.732\")>, 'window_treatments': <selenium.webdriver.remote.webelement.WebElement (session=\"fb40a98df1e22d9246fdf35d537a2abf\", element=\"f.61335BC334089FFDCEA69597859FA8DD.d.704552B28F5BCF7ADC1B205D741C19FD.e.733\")>, 'artificial_plants_&_flowers': <selenium.webdriver.remote.webelement.WebElement (session=\"fb40a98df1e22d9246fdf35d537a2abf\", element=\"f.61335BC334089FFDCEA69597859FA8DD.d.704552B28F5BCF7ADC1B205D741C19FD.e.734\")>, 'candles_&_holders': <selenium.webdriver.remote.webelement.WebElement (session=\"fb40a98df1e22d9246fdf35d537a2abf\", element=\"f.61335BC334089FFDCEA69597859FA8DD.d.704552B28F5BCF7ADC1B205D741C19FD.e.735\")>, 'rugs,_pads_&_protectors': <selenium.webdriver.remote.webelement.WebElement (session=\"fb40a98df1e22d9246fdf35d537a2abf\", element=\"f.61335BC334089FFDCEA69597859FA8DD.d.704552B28F5BCF7ADC1B205D741C19FD.e.737\")>, 'slipcovers': <selenium.webdriver.remote.webelement.WebElement (session=\"fb40a98df1e22d9246fdf35d537a2abf\", element=\"f.61335BC334089FFDCEA69597859FA8DD.d.704552B28F5BCF7ADC1B205D741C19FD.e.738\")>, 'dining_&_entertaining': <selenium.webdriver.remote.webelement.WebElement (session=\"fb40a98df1e22d9246fdf35d537a2abf\", element=\"f.61335BC334089FFDCEA69597859FA8DD.d.704552B28F5BCF7ADC1B205D741C19FD.e.740\")>, 'storage_&_organization': <selenium.webdriver.remote.webelement.WebElement (session=\"fb40a98df1e22d9246fdf35d537a2abf\", element=\"f.61335BC334089FFDCEA69597859FA8DD.d.704552B28F5BCF7ADC1B205D741C19FD.e.741\")>, 'kitchen_&_table_linens': <selenium.webdriver.remote.webelement.WebElement (session=\"fb40a98df1e22d9246fdf35d537a2abf\", element=\"f.61335BC334089FFDCEA69597859FA8DD.d.704552B28F5BCF7ADC1B205D741C19FD.e.742\")>, 'posters_&_prints': <selenium.webdriver.remote.webelement.WebElement (session=\"fb40a98df1e22d9246fdf35d537a2abf\", element=\"f.61335BC334089FFDCEA69597859FA8DD.d.704552B28F5BCF7ADC1B205D741C19FD.e.745\")>, 'bathroom_accessories': <selenium.webdriver.remote.webelement.WebElement (session=\"fb40a98df1e22d9246fdf35d537a2abf\", element=\"f.61335BC334089FFDCEA69597859FA8DD.d.704552B28F5BCF7ADC1B205D741C19FD.e.747\")>, 'office_electronicsprinters_&_accessories': <selenium.webdriver.remote.webelement.WebElement (session=\"fb40a98df1e22d9246fdf35d537a2abf\", element=\"f.61335BC334089FFDCEA69597859FA8DD.d.704552B28F5BCF7ADC1B205D741C19FD.e.749\")>, 'office_&_school_suppliesdesk_accessories_&_workspace_organizers': <selenium.webdriver.remote.webelement.WebElement (session=\"fb40a98df1e22d9246fdf35d537a2abf\", element=\"f.61335BC334089FFDCEA69597859FA8DD.d.704552B28F5BCF7ADC1B205D741C19FD.e.751\")>, 'office_furniture_&_lightingchairs_&_sofascabinets,_racks_&_shelves': <selenium.webdriver.remote.webelement.WebElement (session=\"fb40a98df1e22d9246fdf35d537a2abf\", element=\"f.61335BC334089FFDCEA69597859FA8DD.d.704552B28F5BCF7ADC1B205D741C19FD.e.753\")>, 'printers_&_accessories': <selenium.webdriver.remote.webelement.WebElement (session=\"fb40a98df1e22d9246fdf35d537a2abf\", element=\"f.61335BC334089FFDCEA69597859FA8DD.d.704552B28F5BCF7ADC1B205D741C19FD.e.750\")>, 'desk_accessories_&_workspace_organizers': <selenium.webdriver.remote.webelement.WebElement (session=\"fb40a98df1e22d9246fdf35d537a2abf\", element=\"f.61335BC334089FFDCEA69597859FA8DD.d.704552B28F5BCF7ADC1B205D741C19FD.e.752\")>, 'chairs_&_sofas': <selenium.webdriver.remote.webelement.WebElement (session=\"fb40a98df1e22d9246fdf35d537a2abf\", element=\"f.61335BC334089FFDCEA69597859FA8DD.d.704552B28F5BCF7ADC1B205D741C19FD.e.754\")>, 'cabinets,_racks_&_shelves': <selenium.webdriver.remote.webelement.WebElement (session=\"fb40a98df1e22d9246fdf35d537a2abf\", element=\"f.61335BC334089FFDCEA69597859FA8DD.d.704552B28F5BCF7ADC1B205D741C19FD.e.755\")>, 'lighting_&_ceiling_fanslamps_&_shadeswall_lightsceiling_lights': <selenium.webdriver.remote.webelement.WebElement (session=\"fb40a98df1e22d9246fdf35d537a2abf\", element=\"f.61335BC334089FFDCEA69597859FA8DD.d.704552B28F5BCF7ADC1B205D741C19FD.e.757\")>, 'lamps_&_shades': <selenium.webdriver.remote.webelement.WebElement (session=\"fb40a98df1e22d9246fdf35d537a2abf\", element=\"f.61335BC334089FFDCEA69597859FA8DD.d.704552B28F5BCF7ADC1B205D741C19FD.e.758\")>, 'wall_lights': <selenium.webdriver.remote.webelement.WebElement (session=\"fb40a98df1e22d9246fdf35d537a2abf\", element=\"f.61335BC334089FFDCEA69597859FA8DD.d.704552B28F5BCF7ADC1B205D741C19FD.e.759\")>, 'ceiling_lights': <selenium.webdriver.remote.webelement.WebElement (session=\"fb40a98df1e22d9246fdf35d537a2abf\", element=\"f.61335BC334089FFDCEA69597859FA8DD.d.704552B28F5BCF7ADC1B205D741C19FD.e.760\")>, 'household_supplieshousehold_batteries': <selenium.webdriver.remote.webelement.WebElement (session=\"fb40a98df1e22d9246fdf35d537a2abf\", element=\"f.61335BC334089FFDCEA69597859FA8DD.d.704552B28F5BCF7ADC1B205D741C19FD.e.762\")>, 'health_care': <selenium.webdriver.remote.webelement.WebElement (session=\"fb40a98df1e22d9246fdf35d537a2abf\", element=\"f.61335BC334089FFDCEA69597859FA8DD.d.704552B28F5BCF7ADC1B205D741C19FD.e.764\")>, 'diet_&_sports_nutritionnutrition_bars_&_drinks': <selenium.webdriver.remote.webelement.WebElement (session=\"fb40a98df1e22d9246fdf35d537a2abf\", element=\"f.61335BC334089FFDCEA69597859FA8DD.d.704552B28F5BCF7ADC1B205D741C19FD.e.765\")>, 'household_batteries': <selenium.webdriver.remote.webelement.WebElement (session=\"fb40a98df1e22d9246fdf35d537a2abf\", element=\"f.61335BC334089FFDCEA69597859FA8DD.d.704552B28F5BCF7ADC1B205D741C19FD.e.763\")>, 'nutrition_bars_&_drinks': <selenium.webdriver.remote.webelement.WebElement (session=\"fb40a98df1e22d9246fdf35d537a2abf\", element=\"f.61335BC334089FFDCEA69597859FA8DD.d.704552B28F5BCF7ADC1B205D741C19FD.e.766\")>, 'gardening_&_lawn_careplants,_seeds_&_bulbspots,_planters_&_container_accessories': <selenium.webdriver.remote.webelement.WebElement (session=\"fb40a98df1e22d9246fdf35d537a2abf\", element=\"f.61335BC334089FFDCEA69597859FA8DD.d.704552B28F5BCF7ADC1B205D741C19FD.e.768\")>, 'patio_furniture_&_accessories': <selenium.webdriver.remote.webelement.WebElement (session=\"fb40a98df1e22d9246fdf35d537a2abf\", element=\"f.61335BC334089FFDCEA69597859FA8DD.d.704552B28F5BCF7ADC1B205D741C19FD.e.771\")>, 'plants,_seeds_&_bulbs': <selenium.webdriver.remote.webelement.WebElement (session=\"fb40a98df1e22d9246fdf35d537a2abf\", element=\"f.61335BC334089FFDCEA69597859FA8DD.d.704552B28F5BCF7ADC1B205D741C19FD.e.769\")>, 'pots,_planters_&_container_accessories': <selenium.webdriver.remote.webelement.WebElement (session=\"fb40a98df1e22d9246fdf35d537a2abf\", element=\"f.61335BC334089FFDCEA69597859FA8DD.d.704552B28F5BCF7ADC1B205D741C19FD.e.770\")>, 'home_audiohome_audio_accessoriesspeakerscompact_radios_&_stereoshome_theaterturntables_&_accessories': <selenium.webdriver.remote.webelement.WebElement (session=\"fb40a98df1e22d9246fdf35d537a2abf\", element=\"f.61335BC334089FFDCEA69597859FA8DD.d.704552B28F5BCF7ADC1B205D741C19FD.e.773\")>, 'video_projectors': <selenium.webdriver.remote.webelement.WebElement (session=\"fb40a98df1e22d9246fdf35d537a2abf\", element=\"f.61335BC334089FFDCEA69597859FA8DD.d.704552B28F5BCF7ADC1B205D741C19FD.e.779\")>, 'accessories_&_suppliesaudio_&_video_accessoriespower_strips_&_surge_protectorstelephone_accessories': <selenium.webdriver.remote.webelement.WebElement (session=\"fb40a98df1e22d9246fdf35d537a2abf\", element=\"f.61335BC334089FFDCEA69597859FA8DD.d.704552B28F5BCF7ADC1B205D741C19FD.e.780\")>, 'television_&_videoprojection_screenstelevisionsdvd_players_&_recordersstreaming_media_playershome_theater_systemstelevision_accessories': <selenium.webdriver.remote.webelement.WebElement (session=\"fb40a98df1e22d9246fdf35d537a2abf\", element=\"f.61335BC334089FFDCEA69597859FA8DD.d.704552B28F5BCF7ADC1B205D741C19FD.e.784\")>, 'camera_&_phototripods_&_monopodslighting_&_studiobags_&_casesbinoculars_&_scopesvideo_surveillanceaccessoriesdigital_camerasunderwater_photographyfilm_photographyflasheslensesvideo': <selenium.webdriver.remote.webelement.WebElement (session=\"fb40a98df1e22d9246fdf35d537a2abf\", element=\"f.61335BC334089FFDCEA69597859FA8DD.d.704552B28F5BCF7ADC1B205D741C19FD.e.791\")>, 'computers_&_accessoriescomputer_accessories_&_peripheralsnetworking_productstablet_accessoriescomputers_&_tabletsdata_storagelaptop_accessoriescomputer_components': <selenium.webdriver.remote.webelement.WebElement (session=\"fb40a98df1e22d9246fdf35d537a2abf\", element=\"f.61335BC334089FFDCEA69597859FA8DD.d.704552B28F5BCF7ADC1B205D741C19FD.e.804\")>, 'headphonesover-ear_headphonesearbud_headphoneson-ear_headphones': <selenium.webdriver.remote.webelement.WebElement (session=\"fb40a98df1e22d9246fdf35d537a2abf\", element=\"f.61335BC334089FFDCEA69597859FA8DD.d.704552B28F5BCF7ADC1B205D741C19FD.e.812\")>, 'portable_audio_&_videoboomboxesportable_speakers_&_docksradiosmp3_&_mp4_player_accessories': <selenium.webdriver.remote.webelement.WebElement (session=\"fb40a98df1e22d9246fdf35d537a2abf\", element=\"f.61335BC334089FFDCEA69597859FA8DD.d.704552B28F5BCF7ADC1B205D741C19FD.e.816\")>, 'security_&_surveillanceaccessoriessurveillance_video_equipment': <selenium.webdriver.remote.webelement.WebElement (session=\"fb40a98df1e22d9246fdf35d537a2abf\", element=\"f.61335BC334089FFDCEA69597859FA8DD.d.704552B28F5BCF7ADC1B205D741C19FD.e.821\")>, 'power_accessoriesac_adapters': <selenium.webdriver.remote.webelement.WebElement (session=\"fb40a98df1e22d9246fdf35d537a2abf\", element=\"f.61335BC334089FFDCEA69597859FA8DD.d.704552B28F5BCF7ADC1B205D741C19FD.e.824\")>, 'car_&_vehicle_electronicscar_electronicsvehicle_electronics_accessories': <selenium.webdriver.remote.webelement.WebElement (session=\"fb40a98df1e22d9246fdf35d537a2abf\", element=\"f.61335BC334089FFDCEA69597859FA8DD.d.704552B28F5BCF7ADC1B205D741C19FD.e.826\")>, 'wearable_technologysmartwatches': <selenium.webdriver.remote.webelement.WebElement (session=\"fb40a98df1e22d9246fdf35d537a2abf\", element=\"f.61335BC334089FFDCEA69597859FA8DD.d.704552B28F5BCF7ADC1B205D741C19FD.e.829\")>, 'gps,_finders_&_accessoriesgps_system_accessories': <selenium.webdriver.remote.webelement.WebElement (session=\"fb40a98df1e22d9246fdf35d537a2abf\", element=\"f.61335BC334089FFDCEA69597859FA8DD.d.704552B28F5BCF7ADC1B205D741C19FD.e.831\")>, 'home_audio_accessories': <selenium.webdriver.remote.webelement.WebElement (session=\"fb40a98df1e22d9246fdf35d537a2abf\", element=\"f.61335BC334089FFDCEA69597859FA8DD.d.704552B28F5BCF7ADC1B205D741C19FD.e.774\")>, 'speakers': <selenium.webdriver.remote.webelement.WebElement (session=\"fb40a98df1e22d9246fdf35d537a2abf\", element=\"f.61335BC334089FFDCEA69597859FA8DD.d.704552B28F5BCF7ADC1B205D741C19FD.e.775\")>, 'compact_radios_&_stereos': <selenium.webdriver.remote.webelement.WebElement (session=\"fb40a98df1e22d9246fdf35d537a2abf\", element=\"f.61335BC334089FFDCEA69597859FA8DD.d.704552B28F5BCF7ADC1B205D741C19FD.e.776\")>, 'home_theater': <selenium.webdriver.remote.webelement.WebElement (session=\"fb40a98df1e22d9246fdf35d537a2abf\", element=\"f.61335BC334089FFDCEA69597859FA8DD.d.704552B28F5BCF7ADC1B205D741C19FD.e.777\")>, 'turntables_&_accessories': <selenium.webdriver.remote.webelement.WebElement (session=\"fb40a98df1e22d9246fdf35d537a2abf\", element=\"f.61335BC334089FFDCEA69597859FA8DD.d.704552B28F5BCF7ADC1B205D741C19FD.e.778\")>, 'audio_&_video_accessories': <selenium.webdriver.remote.webelement.WebElement (session=\"fb40a98df1e22d9246fdf35d537a2abf\", element=\"f.61335BC334089FFDCEA69597859FA8DD.d.704552B28F5BCF7ADC1B205D741C19FD.e.781\")>, 'power_strips_&_surge_protectors': <selenium.webdriver.remote.webelement.WebElement (session=\"fb40a98df1e22d9246fdf35d537a2abf\", element=\"f.61335BC334089FFDCEA69597859FA8DD.d.704552B28F5BCF7ADC1B205D741C19FD.e.782\")>, 'telephone_accessories': <selenium.webdriver.remote.webelement.WebElement (session=\"fb40a98df1e22d9246fdf35d537a2abf\", element=\"f.61335BC334089FFDCEA69597859FA8DD.d.704552B28F5BCF7ADC1B205D741C19FD.e.783\")>, 'projection_screens': <selenium.webdriver.remote.webelement.WebElement (session=\"fb40a98df1e22d9246fdf35d537a2abf\", element=\"f.61335BC334089FFDCEA69597859FA8DD.d.704552B28F5BCF7ADC1B205D741C19FD.e.785\")>, 'televisions': <selenium.webdriver.remote.webelement.WebElement (session=\"fb40a98df1e22d9246fdf35d537a2abf\", element=\"f.61335BC334089FFDCEA69597859FA8DD.d.704552B28F5BCF7ADC1B205D741C19FD.e.786\")>, 'dvd_players_&_recorders': <selenium.webdriver.remote.webelement.WebElement (session=\"fb40a98df1e22d9246fdf35d537a2abf\", element=\"f.61335BC334089FFDCEA69597859FA8DD.d.704552B28F5BCF7ADC1B205D741C19FD.e.787\")>, 'streaming_media_players': <selenium.webdriver.remote.webelement.WebElement (session=\"fb40a98df1e22d9246fdf35d537a2abf\", element=\"f.61335BC334089FFDCEA69597859FA8DD.d.704552B28F5BCF7ADC1B205D741C19FD.e.788\")>, 'home_theater_systems': <selenium.webdriver.remote.webelement.WebElement (session=\"fb40a98df1e22d9246fdf35d537a2abf\", element=\"f.61335BC334089FFDCEA69597859FA8DD.d.704552B28F5BCF7ADC1B205D741C19FD.e.789\")>, 'television_accessories': <selenium.webdriver.remote.webelement.WebElement (session=\"fb40a98df1e22d9246fdf35d537a2abf\", element=\"f.61335BC334089FFDCEA69597859FA8DD.d.704552B28F5BCF7ADC1B205D741C19FD.e.790\")>, 'tripods_&_monopods': <selenium.webdriver.remote.webelement.WebElement (session=\"fb40a98df1e22d9246fdf35d537a2abf\", element=\"f.61335BC334089FFDCEA69597859FA8DD.d.704552B28F5BCF7ADC1B205D741C19FD.e.792\")>, 'lighting_&_studio': <selenium.webdriver.remote.webelement.WebElement (session=\"fb40a98df1e22d9246fdf35d537a2abf\", element=\"f.61335BC334089FFDCEA69597859FA8DD.d.704552B28F5BCF7ADC1B205D741C19FD.e.793\")>, 'binoculars_&_scopes': <selenium.webdriver.remote.webelement.WebElement (session=\"fb40a98df1e22d9246fdf35d537a2abf\", element=\"f.61335BC334089FFDCEA69597859FA8DD.d.704552B28F5BCF7ADC1B205D741C19FD.e.795\")>, 'video_surveillance': <selenium.webdriver.remote.webelement.WebElement (session=\"fb40a98df1e22d9246fdf35d537a2abf\", element=\"f.61335BC334089FFDCEA69597859FA8DD.d.704552B28F5BCF7ADC1B205D741C19FD.e.796\")>, 'digital_cameras': <selenium.webdriver.remote.webelement.WebElement (session=\"fb40a98df1e22d9246fdf35d537a2abf\", element=\"f.61335BC334089FFDCEA69597859FA8DD.d.704552B28F5BCF7ADC1B205D741C19FD.e.798\")>, 'underwater_photography': <selenium.webdriver.remote.webelement.WebElement (session=\"fb40a98df1e22d9246fdf35d537a2abf\", element=\"f.61335BC334089FFDCEA69597859FA8DD.d.704552B28F5BCF7ADC1B205D741C19FD.e.799\")>, 'film_photography': <selenium.webdriver.remote.webelement.WebElement (session=\"fb40a98df1e22d9246fdf35d537a2abf\", element=\"f.61335BC334089FFDCEA69597859FA8DD.d.704552B28F5BCF7ADC1B205D741C19FD.e.800\")>, 'flashes': <selenium.webdriver.remote.webelement.WebElement (session=\"fb40a98df1e22d9246fdf35d537a2abf\", element=\"f.61335BC334089FFDCEA69597859FA8DD.d.704552B28F5BCF7ADC1B205D741C19FD.e.801\")>, 'lenses': <selenium.webdriver.remote.webelement.WebElement (session=\"fb40a98df1e22d9246fdf35d537a2abf\", element=\"f.61335BC334089FFDCEA69597859FA8DD.d.704552B28F5BCF7ADC1B205D741C19FD.e.802\")>}\n"
     ]
    }
   ],
   "source": [
    "print(clickables)"
   ]
  },
  {
   "cell_type": "code",
   "execution_count": 136,
   "metadata": {},
   "outputs": [],
   "source": [
    "title = driver.find_element(By.CSS_SELECTOR, 'html').find_element(By.CSS_SELECTOR, 'head').find_element(By.CSS_SELECTOR, 'title')"
   ]
  },
  {
   "cell_type": "code",
   "execution_count": 63,
   "metadata": {},
   "outputs": [
    {
     "data": {
      "text/plain": [
       "'One Stop Market'"
      ]
     },
     "execution_count": 63,
     "metadata": {},
     "output_type": "execute_result"
    }
   ],
   "source": [
    "title.get_attribute('innerHTML')"
   ]
  },
  {
   "cell_type": "code",
   "execution_count": 64,
   "metadata": {},
   "outputs": [
    {
     "data": {
      "text/plain": [
       "selenium.webdriver.remote.webelement.WebElement"
      ]
     },
     "execution_count": 64,
     "metadata": {},
     "output_type": "execute_result"
    }
   ],
   "source": [
    "type(title)"
   ]
  },
  {
   "cell_type": "code",
   "execution_count": 65,
   "metadata": {},
   "outputs": [
    {
     "data": {
      "text/plain": [
       "'head > title'"
      ]
     },
     "execution_count": 65,
     "metadata": {},
     "output_type": "execute_result"
    }
   ],
   "source": [
    "driver.execute_script(JS_BUILD_CSS_SELECTOR, title)"
   ]
  },
  {
   "cell_type": "code",
   "execution_count": 77,
   "metadata": {},
   "outputs": [],
   "source": [
    "btn = driver.find_element(By.CSS_SELECTOR, '#maincontent > div.columns > div > div:nth-child(3) > div > div.block-content > div.products-grid.grid > ol > li:nth-child(3) > div > div > div.product-item-inner > div > div.actions-primary > form > button')\n"
   ]
  },
  {
   "cell_type": "code",
   "execution_count": 79,
   "metadata": {},
   "outputs": [
    {
     "ename": "AttributeError",
     "evalue": "'WebElement' object has no attribute 'setProperty'",
     "output_type": "error",
     "traceback": [
      "\u001b[0;31m---------------------------------------------------------------------------\u001b[0m",
      "\u001b[0;31mAttributeError\u001b[0m                            Traceback (most recent call last)",
      "Cell \u001b[0;32mIn[79], line 1\u001b[0m\n\u001b[0;32m----> 1\u001b[0m \u001b[43mbtn\u001b[49m\u001b[38;5;241;43m.\u001b[39;49m\u001b[43msetProperty\u001b[49m(\u001b[38;5;124m'\u001b[39m\u001b[38;5;124mdata-clickable-id\u001b[39m\u001b[38;5;124m'\u001b[39m, \u001b[38;5;124m'\u001b[39m\u001b[38;5;124m123\u001b[39m\u001b[38;5;124m'\u001b[39m)\n",
      "\u001b[0;31mAttributeError\u001b[0m: 'WebElement' object has no attribute 'setProperty'"
     ]
    }
   ],
   "source": [
    "btn.setProperty('data-clickable-id', '123')"
   ]
  },
  {
   "cell_type": "code",
   "execution_count": 80,
   "metadata": {},
   "outputs": [],
   "source": []
  },
  {
   "cell_type": "code",
   "execution_count": 83,
   "metadata": {},
   "outputs": [
    {
     "data": {
      "text/plain": [
       "'123'"
      ]
     },
     "execution_count": 83,
     "metadata": {},
     "output_type": "execute_result"
    }
   ],
   "source": [
    "btn.get_attribute('data-clickable-id')"
   ]
  },
  {
   "cell_type": "code",
   "execution_count": 92,
   "metadata": {},
   "outputs": [],
   "source": [
    "btn.get_attribute('src')"
   ]
  },
  {
   "cell_type": "code",
   "execution_count": 98,
   "metadata": {},
   "outputs": [],
   "source": [
    "title = dominate.tags.title('title')"
   ]
  },
  {
   "cell_type": "code",
   "execution_count": 114,
   "metadata": {},
   "outputs": [
    {
     "name": "stdout",
     "output_type": "stream",
     "text": [
      "<title checked=\"True\">title (selected)\n",
      "  <div>test</div>\n",
      "</title>\n"
     ]
    }
   ],
   "source": [
    "print(title)"
   ]
  },
  {
   "cell_type": "code",
   "execution_count": 111,
   "metadata": {},
   "outputs": [],
   "source": [
    "title.text += ' (selected)'"
   ]
  },
  {
   "cell_type": "code",
   "execution_count": 113,
   "metadata": {},
   "outputs": [],
   "source": [
    "with title:\n",
    "    dominate.tags.div('test')"
   ]
  },
  {
   "cell_type": "code",
   "execution_count": null,
   "metadata": {},
   "outputs": [],
   "source": []
  }
 ],
 "metadata": {
  "kernelspec": {
   "display_name": "simulated_web_agent",
   "language": "python",
   "name": "python3"
  },
  "language_info": {
   "codemirror_mode": {
    "name": "ipython",
    "version": 3
   },
   "file_extension": ".py",
   "mimetype": "text/x-python",
   "name": "python",
   "nbconvert_exporter": "python",
   "pygments_lexer": "ipython3",
   "version": "3.9.19"
  }
 },
 "nbformat": 4,
 "nbformat_minor": 2
}
