{
 "cells": [
  {
   "cell_type": "code",
   "execution_count": 1,
   "metadata": {},
   "outputs": [
    {
     "name": "stderr",
     "output_type": "stream",
     "text": [
      "/Users/leo/micromamba/envs/simulated_web_agent/lib/python3.9/site-packages/tqdm/auto.py:21: TqdmWarning: IProgress not found. Please update jupyter and ipywidgets. See https://ipywidgets.readthedocs.io/en/stable/user_install.html\n",
      "  from .autonotebook import tqdm as notebook_tqdm\n"
     ]
    }
   ],
   "source": [
    "\n",
    "from dotenv import load_dotenv\n",
    "\n",
    "load_dotenv()  # take environment variables\n",
    "\n",
    "import os\n",
    "from bs4 import BeautifulSoup\n",
    "from selenium.webdriver.common.by import By\n",
    "import dominate\n",
    "from selenium.webdriver.remote.webelement import WebElement as Element\n",
    "import json\n",
    "import logging\n",
    "import time\n",
    "\n",
    "import gymnasium as gym\n",
    "from simulated_web_agent.executor.env import SeleniumEnv\n",
    "import simulated_web_agent\n",
    "if 'DISPLAY' in os.environ:\n",
    "    del os.environ['DISPLAY']\n"
   ]
  },
  {
   "cell_type": "code",
   "execution_count": 1,
   "metadata": {},
   "outputs": [],
   "source": [
    "from pathlib import Path"
   ]
  },
  {
   "cell_type": "code",
   "execution_count": 2,
   "metadata": {},
   "outputs": [],
   "source": [
    "from selenium import webdriver\n",
    "from selenium.webdriver.chrome.options import Options\n",
    "options = Options()\n",
    "options.add_argument(\"start-maximized\")\n",
    "options.add_argument(\"--remote-debugging-port=9222\")\n",
    "driver = webdriver.Chrome(options=options)"
   ]
  },
  {
   "cell_type": "code",
   "execution_count": 3,
   "metadata": {},
   "outputs": [],
   "source": [
    "driver.get(\"http://ec2-3-131-244-37.us-east-2.compute.amazonaws.com:7770/\")\n",
    "driver.implicitly_wait(0) # seconds"
   ]
  },
  {
   "cell_type": "code",
   "execution_count": null,
   "metadata": {},
   "outputs": [],
   "source": []
  },
  {
   "cell_type": "code",
   "execution_count": 24,
   "metadata": {},
   "outputs": [],
   "source": [
    "import dominate.tags\n",
    "\n",
    "\n",
    "clickables = {}\n",
    "inputs = {}\n",
    "\n",
    "def set_attribute(element: Element, attribute, value):\n",
    "    driver.execute_script(\"arguments[0].setAttribute(arguments[1], arguments[2]);\", element, attribute, value)\n",
    "\n",
    "def register_clickable(element: Element, name: str):\n",
    "    clickables[name] = element\n",
    "    set_attribute(element, 'data-clickable-id', name)\n",
    "    \n",
    "def register_input(element: Element, name: str):\n",
    "    inputs[name] = element\n",
    "    set_attribute(element, 'data-input-id', name)\n",
    "\n",
    "def get_text(element):\n",
    "    elementText = element.text # sometime NOT work\n",
    "    if not elementText:\n",
    "        elementText = element.get_attribute(\"innerText\")\n",
    "    if not elementText:\n",
    "        elementText = element.get_attribute(\"textContent\")\n",
    "    return element.get_attribute(\"innerText\")\n",
    "\n",
    "\n",
    "actions = {}\n",
    "\n",
    "def process(element: Element, recipe, parent_name = ''):\n",
    "    elementText = ''\n",
    "    if 'text_selector' in recipe:\n",
    "        text_element = element.find_element(By.CSS_SELECTOR, recipe['text_selector'])\n",
    "        elementText = get_text(text_element)\n",
    "    else:\n",
    "        elementText = get_text(element)\n",
    "    if 'add_text' in recipe and recipe['add_text']:\n",
    "        if not elementText:\n",
    "            elementText = get_text(element)\n",
    "    if 'text_format' in recipe and recipe['text_format']:\n",
    "        elementText = recipe['text_format'].format(elementText)\n",
    "    \n",
    "    tag_name = element.tag_name\n",
    "    if 'tag_name' in recipe:\n",
    "        tag_name = recipe['tag_name']\n",
    "    if tag_name in dominate.tags.underscored_classes:\n",
    "        node = getattr(dominate.tags, tag_name + '_')(elementText if 'add_text' in recipe and recipe['add_text'] else '')\n",
    "    else:\n",
    "        node = getattr(dominate.tags, tag_name)(elementText if 'add_text' in recipe and recipe['add_text'] else '')\n",
    "    \n",
    "    if 'name' in recipe and recipe['name']:\n",
    "        if recipe['name'] == 'from_text':\n",
    "            if elementText:\n",
    "                element_name = elementText.lower().replace(' ', '_')\n",
    "                for special_char in \"[]{}()<>.:;|!@#$%^&*+-=,?/\\\\\\\"'\":\n",
    "                    element_name = element_name.replace(special_char, '')\n",
    "                node['name'] = (parent_name + \".\" if parent_name else '') + element_name\n",
    "                parent_name = node['name']\n",
    "            else:\n",
    "                raise Exception('name from_text must have add_text')\n",
    "        else:\n",
    "            node['name'] = (parent_name + \".\" if parent_name else '') + recipe['name']\n",
    "        parent_name = node['name']\n",
    "    if 'clickable' in recipe and recipe['clickable']:\n",
    "        if 'name' not in recipe:\n",
    "            raise Exception('clickable element must have a name')\n",
    "        register_clickable(element, node['name'])\n",
    "    for key in ['alt', 'src', 'href', 'title', 'type', 'value']:\n",
    "        value = element.get_dom_attribute(key)\n",
    "        if value:\n",
    "            node[key] = value\n",
    "    for key in ['class', 'id']:\n",
    "        if key in recipe and recipe[key]:\n",
    "            node[key] = recipe[key]\n",
    "    # if 'radio' in recipe and recipe['radio']:\n",
    "    #     if element.get_attribute('checked'):\n",
    "    #         node.text += ' (selected)'\n",
    "    if tag_name == 'input':\n",
    "        input_type = element.get_attribute('type')\n",
    "        if input_type == 'radio':\n",
    "            if element.get_attribute('checked'):\n",
    "                node.text += ' (selected)'\n",
    "            assert 'clickable' in recipe and recipe['clickable']\n",
    "        elif input_type == 'text':\n",
    "            node['value'] = element.get_attribute('value')\n",
    "            register_input(element, node['name'])\n",
    "    if 'children' in recipe and recipe['children']:\n",
    "        with node:\n",
    "            for child in recipe['children']:\n",
    "                if 'direct_child' in child and child['direct_child']:\n",
    "                    selector = ':scope > ' + child['selector']\n",
    "                else:\n",
    "                    selector = child['selector']\n",
    "                elements = element.find_elements(By.CSS_SELECTOR, selector)\n",
    "                for child_element in elements:\n",
    "                    process(child_element, child, parent_name)\n",
    "    return node\n"
   ]
  },
  {
   "cell_type": "code",
   "execution_count": null,
   "metadata": {},
   "outputs": [],
   "source": []
  },
  {
   "cell_type": "code",
   "execution_count": 32,
   "metadata": {},
   "outputs": [],
   "source": [
    "recipe = {\n",
    "    'selector': 'html',\n",
    "    'clickable': False,\n",
    "    'children': [\n",
    "        {\n",
    "            'selector': 'head',\n",
    "            'name': '',\n",
    "            'children': [\n",
    "                {\n",
    "                    'selector': 'title',\n",
    "                    'add_text': True,\n",
    "                }\n",
    "            ]\n",
    "        },\n",
    "        {\n",
    "            'selector': 'body',\n",
    "            'children': [\n",
    "                # {\n",
    "                #     'selector': 'nav',\n",
    "                #     'name': 'nav',\n",
    "                #     'children': [\n",
    "                #         {\n",
    "                #             'selector': 'ul',\n",
    "                #             'action': 'strip_add_children',\n",
    "                #             'direct_child': True,\n",
    "                #             'children': [\n",
    "                #                 {\n",
    "                #                     'selector': 'li',\n",
    "                #                     'direct_child': True,\n",
    "                #                     'add_text': True,\n",
    "                #                     'text_selector': 'a',\n",
    "                #                     'clickable': True,\n",
    "                #                     'children': [\n",
    "                #                         {\n",
    "                #                             'selector': 'ul',\n",
    "                #                             'direct_child': True,\n",
    "                #                             'children': [\n",
    "                #                                 {\n",
    "                #                                     'selector': 'li',\n",
    "                #                                     'add_text': True,\n",
    "                #                                     'direct_child': True,\n",
    "                #                                     'text_selector': 'a',\n",
    "                #                                     'clickable': True,\n",
    "                #                                     'children': [\n",
    "                #                                         {\n",
    "                #                                             'selector': 'ul',\n",
    "                #                                             'direct_child': True,\n",
    "                #                                             'children': [\n",
    "                #                                                 {\n",
    "                #                                                     'selector': 'li',\n",
    "                #                                                     'add_text': True,\n",
    "                #                                                     'direct_child': True,\n",
    "                #                                                     'text_selector': 'a',\n",
    "                #                                                     'clickable': True,\n",
    "                #                                                 }\n",
    "                #                                             ]\n",
    "                #                                         }\n",
    "                #                                     ]\n",
    "                #                                 }\n",
    "                #                             ]\n",
    "                #                         }\n",
    "                #                     ]\n",
    "                #                 }\n",
    "                #             ]\n",
    "                #         }\n",
    "                #     ]\n",
    "                # },\n",
    "                {\n",
    "                    'selector': '.header.content',\n",
    "                    'name': 'header',\n",
    "                    'children': [\n",
    "                        {\n",
    "                            'selector': '#search_mini_form',\n",
    "                            'name': 'search_box',\n",
    "                            'children': [\n",
    "                                {\n",
    "                                    'selector': 'input#search',\n",
    "                                    'name': 'search_input',\n",
    "                                },\n",
    "                                {\n",
    "                                    'selector': 'button.action.search',\n",
    "                                    'name': 'search_button',\n",
    "                                    'add_text': True,\n",
    "                                    'clickable': True,\n",
    "                                }\n",
    "                            ]\n",
    "                        }\n",
    "                    ]\n",
    "                },\n",
    "                {\n",
    "                    'selector': '#maincontent > div.columns > div > div:nth-child(3)',\n",
    "                    'add_text': True,\n",
    "                    'text_selector': 'div > div.block-title > strong',\n",
    "                    'children': [\n",
    "                        {\n",
    "                            'selector': 'div.product-item-info',\n",
    "                            'class': 'product-item-info',\n",
    "                            'name': 'from_text',\n",
    "                            'text_selector': 'div.product-item-details strong.product-item-name',\n",
    "                            'children': [\n",
    "                                {\n",
    "                                    'selector': 'img',\n",
    "                                },\n",
    "                                {\n",
    "                                    'selector': 'div.product-item-details',\n",
    "                                    'children': [\n",
    "                                        {\n",
    "                                            'selector': 'div.rating-summary > div > span > span',\n",
    "                                            'add_text': True,\n",
    "                                            'name': 'rating',\n",
    "                                            'clickable': True,\n",
    "                                            'text_format': 'Rating: {}',\n",
    "                                            'name': 'view_reviews'\n",
    "                                        },\n",
    "                                        {\n",
    "                                            'selector': '.product-item-name',\n",
    "                                            'add_text': True,\n",
    "                                            'clickable': True,\n",
    "                                            'name': 'view_product'\n",
    "                                        },\n",
    "                                        {\n",
    "                                            'selector': '.price-box',\n",
    "                                            'add_text': True,\n",
    "                                        },\n",
    "                                        {\n",
    "                                            'selector': '.actions-primary',\n",
    "                                            'add_text': True,\n",
    "                                            'clickable': True,\n",
    "                                            'name':  'add_to_card',\n",
    "                                            'tag_name': 'button'\n",
    "                                        }\n",
    "                                    ]\n",
    "                                }\n",
    "                            ]\n",
    "                        }\n",
    "                    ]\n",
    "                }\n",
    "            ]\n",
    "        }\n",
    "    ]\n",
    "}"
   ]
  },
  {
   "cell_type": "code",
   "execution_count": 36,
   "metadata": {},
   "outputs": [
    {
     "ename": "NoSuchElementException",
     "evalue": "Message: no such element: Unable to locate element: {\"method\":\"css selector\",\"selector\":\"div > div.block-title > strong\"}\n  (Session info: chrome-headless-shell=127.0.6533.88); For documentation on this error, please visit: https://www.selenium.dev/documentation/webdriver/troubleshooting/errors#no-such-element-exception\nStacktrace:\n#0 0x55d5f928c6ba <unknown>\n#1 0x55d5f8f5c730 <unknown>\n#2 0x55d5f8fabd9b <unknown>\n#3 0x55d5f8fac081 <unknown>\n#4 0x55d5f8fa0826 <unknown>\n#5 0x55d5f8fcea7d <unknown>\n#6 0x55d5f8fa0719 <unknown>\n#7 0x55d5f8fcec1e <unknown>\n#8 0x55d5f8fed1ca <unknown>\n#9 0x55d5f8fce7f3 <unknown>\n#10 0x55d5f8f9eec9 <unknown>\n#11 0x55d5f8f9f91e <unknown>\n#12 0x55d5f92529eb <unknown>\n#13 0x55d5f9256972 <unknown>\n#14 0x55d5f923fe15 <unknown>\n#15 0x55d5f9257502 <unknown>\n#16 0x55d5f9224d2f <unknown>\n#17 0x55d5f927b578 <unknown>\n#18 0x55d5f927b750 <unknown>\n#19 0x55d5f928b48c <unknown>\n#20 0x7f4193c78ded <unknown>\n#21 0x7f4193cfc0dc <unknown>\n",
     "output_type": "error",
     "traceback": [
      "\u001b[0;31m---------------------------------------------------------------------------\u001b[0m",
      "\u001b[0;31mNoSuchElementException\u001b[0m                    Traceback (most recent call last)",
      "Cell \u001b[0;32mIn[36], line 1\u001b[0m\n\u001b[0;32m----> 1\u001b[0m \u001b[38;5;28mprint\u001b[39m(\u001b[43mprocess\u001b[49m\u001b[43m(\u001b[49m\u001b[43mdriver\u001b[49m\u001b[38;5;241;43m.\u001b[39;49m\u001b[43mfind_element\u001b[49m\u001b[43m(\u001b[49m\u001b[43mBy\u001b[49m\u001b[38;5;241;43m.\u001b[39;49m\u001b[43mCSS_SELECTOR\u001b[49m\u001b[43m,\u001b[49m\u001b[43m \u001b[49m\u001b[43mrecipe\u001b[49m\u001b[43m[\u001b[49m\u001b[38;5;124;43m'\u001b[39;49m\u001b[38;5;124;43mselector\u001b[39;49m\u001b[38;5;124;43m'\u001b[39;49m\u001b[43m]\u001b[49m\u001b[43m)\u001b[49m\u001b[43m,\u001b[49m\u001b[43m \u001b[49m\u001b[43mrecipe\u001b[49m\u001b[43m)\u001b[49m)\n",
      "Cell \u001b[0;32mIn[24], line 95\u001b[0m, in \u001b[0;36mprocess\u001b[0;34m(element, recipe, parent_name)\u001b[0m\n\u001b[1;32m     93\u001b[0m             elements \u001b[38;5;241m=\u001b[39m element\u001b[38;5;241m.\u001b[39mfind_elements(By\u001b[38;5;241m.\u001b[39mCSS_SELECTOR, selector)\n\u001b[1;32m     94\u001b[0m             \u001b[38;5;28;01mfor\u001b[39;00m child_element \u001b[38;5;129;01min\u001b[39;00m elements:\n\u001b[0;32m---> 95\u001b[0m                 \u001b[43mprocess\u001b[49m\u001b[43m(\u001b[49m\u001b[43mchild_element\u001b[49m\u001b[43m,\u001b[49m\u001b[43m \u001b[49m\u001b[43mchild\u001b[49m\u001b[43m,\u001b[49m\u001b[43m \u001b[49m\u001b[43mparent_name\u001b[49m\u001b[43m)\u001b[49m\n\u001b[1;32m     96\u001b[0m \u001b[38;5;28;01mreturn\u001b[39;00m node\n",
      "Cell \u001b[0;32mIn[24], line 95\u001b[0m, in \u001b[0;36mprocess\u001b[0;34m(element, recipe, parent_name)\u001b[0m\n\u001b[1;32m     93\u001b[0m             elements \u001b[38;5;241m=\u001b[39m element\u001b[38;5;241m.\u001b[39mfind_elements(By\u001b[38;5;241m.\u001b[39mCSS_SELECTOR, selector)\n\u001b[1;32m     94\u001b[0m             \u001b[38;5;28;01mfor\u001b[39;00m child_element \u001b[38;5;129;01min\u001b[39;00m elements:\n\u001b[0;32m---> 95\u001b[0m                 \u001b[43mprocess\u001b[49m\u001b[43m(\u001b[49m\u001b[43mchild_element\u001b[49m\u001b[43m,\u001b[49m\u001b[43m \u001b[49m\u001b[43mchild\u001b[49m\u001b[43m,\u001b[49m\u001b[43m \u001b[49m\u001b[43mparent_name\u001b[49m\u001b[43m)\u001b[49m\n\u001b[1;32m     96\u001b[0m \u001b[38;5;28;01mreturn\u001b[39;00m node\n",
      "Cell \u001b[0;32mIn[24], line 32\u001b[0m, in \u001b[0;36mprocess\u001b[0;34m(element, recipe, parent_name)\u001b[0m\n\u001b[1;32m     30\u001b[0m elementText \u001b[38;5;241m=\u001b[39m \u001b[38;5;124m'\u001b[39m\u001b[38;5;124m'\u001b[39m\n\u001b[1;32m     31\u001b[0m \u001b[38;5;28;01mif\u001b[39;00m \u001b[38;5;124m'\u001b[39m\u001b[38;5;124mtext_selector\u001b[39m\u001b[38;5;124m'\u001b[39m \u001b[38;5;129;01min\u001b[39;00m recipe:\n\u001b[0;32m---> 32\u001b[0m     text_element \u001b[38;5;241m=\u001b[39m \u001b[43melement\u001b[49m\u001b[38;5;241;43m.\u001b[39;49m\u001b[43mfind_element\u001b[49m\u001b[43m(\u001b[49m\u001b[43mBy\u001b[49m\u001b[38;5;241;43m.\u001b[39;49m\u001b[43mCSS_SELECTOR\u001b[49m\u001b[43m,\u001b[49m\u001b[43m \u001b[49m\u001b[43mrecipe\u001b[49m\u001b[43m[\u001b[49m\u001b[38;5;124;43m'\u001b[39;49m\u001b[38;5;124;43mtext_selector\u001b[39;49m\u001b[38;5;124;43m'\u001b[39;49m\u001b[43m]\u001b[49m\u001b[43m)\u001b[49m\n\u001b[1;32m     33\u001b[0m     elementText \u001b[38;5;241m=\u001b[39m get_text(text_element)\n\u001b[1;32m     34\u001b[0m \u001b[38;5;28;01melse\u001b[39;00m:\n",
      "File \u001b[0;32m~/anaconda3/envs/simulated_web_agent/lib/python3.9/site-packages/selenium/webdriver/remote/webelement.py:417\u001b[0m, in \u001b[0;36mWebElement.find_element\u001b[0;34m(self, by, value)\u001b[0m\n\u001b[1;32m    414\u001b[0m     by \u001b[38;5;241m=\u001b[39m By\u001b[38;5;241m.\u001b[39mCSS_SELECTOR\n\u001b[1;32m    415\u001b[0m     value \u001b[38;5;241m=\u001b[39m \u001b[38;5;124mf\u001b[39m\u001b[38;5;124m'\u001b[39m\u001b[38;5;124m[name=\u001b[39m\u001b[38;5;124m\"\u001b[39m\u001b[38;5;132;01m{\u001b[39;00mvalue\u001b[38;5;132;01m}\u001b[39;00m\u001b[38;5;124m\"\u001b[39m\u001b[38;5;124m]\u001b[39m\u001b[38;5;124m'\u001b[39m\n\u001b[0;32m--> 417\u001b[0m \u001b[38;5;28;01mreturn\u001b[39;00m \u001b[38;5;28;43mself\u001b[39;49m\u001b[38;5;241;43m.\u001b[39;49m\u001b[43m_execute\u001b[49m\u001b[43m(\u001b[49m\u001b[43mCommand\u001b[49m\u001b[38;5;241;43m.\u001b[39;49m\u001b[43mFIND_CHILD_ELEMENT\u001b[49m\u001b[43m,\u001b[49m\u001b[43m \u001b[49m\u001b[43m{\u001b[49m\u001b[38;5;124;43m\"\u001b[39;49m\u001b[38;5;124;43musing\u001b[39;49m\u001b[38;5;124;43m\"\u001b[39;49m\u001b[43m:\u001b[49m\u001b[43m \u001b[49m\u001b[43mby\u001b[49m\u001b[43m,\u001b[49m\u001b[43m \u001b[49m\u001b[38;5;124;43m\"\u001b[39;49m\u001b[38;5;124;43mvalue\u001b[39;49m\u001b[38;5;124;43m\"\u001b[39;49m\u001b[43m:\u001b[49m\u001b[43m \u001b[49m\u001b[43mvalue\u001b[49m\u001b[43m}\u001b[49m\u001b[43m)\u001b[49m[\u001b[38;5;124m\"\u001b[39m\u001b[38;5;124mvalue\u001b[39m\u001b[38;5;124m\"\u001b[39m]\n",
      "File \u001b[0;32m~/anaconda3/envs/simulated_web_agent/lib/python3.9/site-packages/selenium/webdriver/remote/webelement.py:395\u001b[0m, in \u001b[0;36mWebElement._execute\u001b[0;34m(self, command, params)\u001b[0m\n\u001b[1;32m    393\u001b[0m     params \u001b[38;5;241m=\u001b[39m {}\n\u001b[1;32m    394\u001b[0m params[\u001b[38;5;124m\"\u001b[39m\u001b[38;5;124mid\u001b[39m\u001b[38;5;124m\"\u001b[39m] \u001b[38;5;241m=\u001b[39m \u001b[38;5;28mself\u001b[39m\u001b[38;5;241m.\u001b[39m_id\n\u001b[0;32m--> 395\u001b[0m \u001b[38;5;28;01mreturn\u001b[39;00m \u001b[38;5;28;43mself\u001b[39;49m\u001b[38;5;241;43m.\u001b[39;49m\u001b[43m_parent\u001b[49m\u001b[38;5;241;43m.\u001b[39;49m\u001b[43mexecute\u001b[49m\u001b[43m(\u001b[49m\u001b[43mcommand\u001b[49m\u001b[43m,\u001b[49m\u001b[43m \u001b[49m\u001b[43mparams\u001b[49m\u001b[43m)\u001b[49m\n",
      "File \u001b[0;32m~/anaconda3/envs/simulated_web_agent/lib/python3.9/site-packages/selenium/webdriver/remote/webdriver.py:354\u001b[0m, in \u001b[0;36mWebDriver.execute\u001b[0;34m(self, driver_command, params)\u001b[0m\n\u001b[1;32m    352\u001b[0m response \u001b[38;5;241m=\u001b[39m \u001b[38;5;28mself\u001b[39m\u001b[38;5;241m.\u001b[39mcommand_executor\u001b[38;5;241m.\u001b[39mexecute(driver_command, params)\n\u001b[1;32m    353\u001b[0m \u001b[38;5;28;01mif\u001b[39;00m response:\n\u001b[0;32m--> 354\u001b[0m     \u001b[38;5;28;43mself\u001b[39;49m\u001b[38;5;241;43m.\u001b[39;49m\u001b[43merror_handler\u001b[49m\u001b[38;5;241;43m.\u001b[39;49m\u001b[43mcheck_response\u001b[49m\u001b[43m(\u001b[49m\u001b[43mresponse\u001b[49m\u001b[43m)\u001b[49m\n\u001b[1;32m    355\u001b[0m     response[\u001b[38;5;124m\"\u001b[39m\u001b[38;5;124mvalue\u001b[39m\u001b[38;5;124m\"\u001b[39m] \u001b[38;5;241m=\u001b[39m \u001b[38;5;28mself\u001b[39m\u001b[38;5;241m.\u001b[39m_unwrap_value(response\u001b[38;5;241m.\u001b[39mget(\u001b[38;5;124m\"\u001b[39m\u001b[38;5;124mvalue\u001b[39m\u001b[38;5;124m\"\u001b[39m, \u001b[38;5;28;01mNone\u001b[39;00m))\n\u001b[1;32m    356\u001b[0m     \u001b[38;5;28;01mreturn\u001b[39;00m response\n",
      "File \u001b[0;32m~/anaconda3/envs/simulated_web_agent/lib/python3.9/site-packages/selenium/webdriver/remote/errorhandler.py:229\u001b[0m, in \u001b[0;36mErrorHandler.check_response\u001b[0;34m(self, response)\u001b[0m\n\u001b[1;32m    227\u001b[0m         alert_text \u001b[38;5;241m=\u001b[39m value[\u001b[38;5;124m\"\u001b[39m\u001b[38;5;124malert\u001b[39m\u001b[38;5;124m\"\u001b[39m]\u001b[38;5;241m.\u001b[39mget(\u001b[38;5;124m\"\u001b[39m\u001b[38;5;124mtext\u001b[39m\u001b[38;5;124m\"\u001b[39m)\n\u001b[1;32m    228\u001b[0m     \u001b[38;5;28;01mraise\u001b[39;00m exception_class(message, screen, stacktrace, alert_text)  \u001b[38;5;66;03m# type: ignore[call-arg]  # mypy is not smart enough here\u001b[39;00m\n\u001b[0;32m--> 229\u001b[0m \u001b[38;5;28;01mraise\u001b[39;00m exception_class(message, screen, stacktrace)\n",
      "\u001b[0;31mNoSuchElementException\u001b[0m: Message: no such element: Unable to locate element: {\"method\":\"css selector\",\"selector\":\"div > div.block-title > strong\"}\n  (Session info: chrome-headless-shell=127.0.6533.88); For documentation on this error, please visit: https://www.selenium.dev/documentation/webdriver/troubleshooting/errors#no-such-element-exception\nStacktrace:\n#0 0x55d5f928c6ba <unknown>\n#1 0x55d5f8f5c730 <unknown>\n#2 0x55d5f8fabd9b <unknown>\n#3 0x55d5f8fac081 <unknown>\n#4 0x55d5f8fa0826 <unknown>\n#5 0x55d5f8fcea7d <unknown>\n#6 0x55d5f8fa0719 <unknown>\n#7 0x55d5f8fcec1e <unknown>\n#8 0x55d5f8fed1ca <unknown>\n#9 0x55d5f8fce7f3 <unknown>\n#10 0x55d5f8f9eec9 <unknown>\n#11 0x55d5f8f9f91e <unknown>\n#12 0x55d5f92529eb <unknown>\n#13 0x55d5f9256972 <unknown>\n#14 0x55d5f923fe15 <unknown>\n#15 0x55d5f9257502 <unknown>\n#16 0x55d5f9224d2f <unknown>\n#17 0x55d5f927b578 <unknown>\n#18 0x55d5f927b750 <unknown>\n#19 0x55d5f928b48c <unknown>\n#20 0x7f4193c78ded <unknown>\n#21 0x7f4193cfc0dc <unknown>\n"
     ]
    }
   ],
   "source": [
    "print(process(driver.find_element(By.CSS_SELECTOR, recipe['selector']), recipe))"
   ]
  },
  {
   "cell_type": "code",
   "execution_count": 34,
   "metadata": {},
   "outputs": [],
   "source": [
    "clickables[\"header.search_box.search_button\"].click()"
   ]
  },
  {
   "cell_type": "code",
   "execution_count": 19,
   "metadata": {},
   "outputs": [
    {
     "name": "stdout",
     "output_type": "stream",
     "text": [
      "Search\n"
     ]
    }
   ],
   "source": [
    "print(get_text(driver.find_element(By.CSS_SELECTOR, '.header.content').find_element(By.CSS_SELECTOR, 'button.action.search')))"
   ]
  },
  {
   "cell_type": "code",
   "execution_count": 35,
   "metadata": {},
   "outputs": [
    {
     "data": {
      "text/plain": [
       "'http://ec2-3-131-244-37.us-east-2.compute.amazonaws.com:7770/catalogsearch/result/?q=shirt'"
      ]
     },
     "execution_count": 35,
     "metadata": {},
     "output_type": "execute_result"
    }
   ],
   "source": [
    "driver.current_url"
   ]
  },
  {
   "cell_type": "code",
   "execution_count": 136,
   "metadata": {},
   "outputs": [],
   "source": [
    "title = driver.find_element(By.CSS_SELECTOR, 'html').find_element(By.CSS_SELECTOR, 'head').find_element(By.CSS_SELECTOR, 'title')"
   ]
  },
  {
   "cell_type": "code",
   "execution_count": 63,
   "metadata": {},
   "outputs": [
    {
     "data": {
      "text/plain": [
       "'One Stop Market'"
      ]
     },
     "execution_count": 63,
     "metadata": {},
     "output_type": "execute_result"
    }
   ],
   "source": [
    "title.get_attribute('innerHTML')"
   ]
  },
  {
   "cell_type": "code",
   "execution_count": 64,
   "metadata": {},
   "outputs": [
    {
     "data": {
      "text/plain": [
       "selenium.webdriver.remote.webelement.WebElement"
      ]
     },
     "execution_count": 64,
     "metadata": {},
     "output_type": "execute_result"
    }
   ],
   "source": [
    "type(title)"
   ]
  },
  {
   "cell_type": "code",
   "execution_count": 65,
   "metadata": {},
   "outputs": [
    {
     "data": {
      "text/plain": [
       "'head > title'"
      ]
     },
     "execution_count": 65,
     "metadata": {},
     "output_type": "execute_result"
    }
   ],
   "source": [
    "driver.execute_script(JS_BUILD_CSS_SELECTOR, title)"
   ]
  },
  {
   "cell_type": "code",
   "execution_count": 77,
   "metadata": {},
   "outputs": [],
   "source": [
    "btn = driver.find_element(By.CSS_SELECTOR, '#maincontent > div.columns > div > div:nth-child(3) > div > div.block-content > div.products-grid.grid > ol > li:nth-child(3) > div > div > div.product-item-inner > div > div.actions-primary > form > button')\n"
   ]
  },
  {
   "cell_type": "code",
   "execution_count": 79,
   "metadata": {},
   "outputs": [
    {
     "ename": "AttributeError",
     "evalue": "'WebElement' object has no attribute 'setProperty'",
     "output_type": "error",
     "traceback": [
      "\u001b[0;31m---------------------------------------------------------------------------\u001b[0m",
      "\u001b[0;31mAttributeError\u001b[0m                            Traceback (most recent call last)",
      "Cell \u001b[0;32mIn[79], line 1\u001b[0m\n\u001b[0;32m----> 1\u001b[0m \u001b[43mbtn\u001b[49m\u001b[38;5;241;43m.\u001b[39;49m\u001b[43msetProperty\u001b[49m(\u001b[38;5;124m'\u001b[39m\u001b[38;5;124mdata-clickable-id\u001b[39m\u001b[38;5;124m'\u001b[39m, \u001b[38;5;124m'\u001b[39m\u001b[38;5;124m123\u001b[39m\u001b[38;5;124m'\u001b[39m)\n",
      "\u001b[0;31mAttributeError\u001b[0m: 'WebElement' object has no attribute 'setProperty'"
     ]
    }
   ],
   "source": [
    "btn.setProperty('data-clickable-id', '123')"
   ]
  },
  {
   "cell_type": "code",
   "execution_count": 80,
   "metadata": {},
   "outputs": [],
   "source": []
  },
  {
   "cell_type": "code",
   "execution_count": 83,
   "metadata": {},
   "outputs": [
    {
     "data": {
      "text/plain": [
       "'123'"
      ]
     },
     "execution_count": 83,
     "metadata": {},
     "output_type": "execute_result"
    }
   ],
   "source": [
    "btn.get_attribute('data-clickable-id')"
   ]
  },
  {
   "cell_type": "code",
   "execution_count": 92,
   "metadata": {},
   "outputs": [],
   "source": [
    "btn.get_attribute('src')"
   ]
  },
  {
   "cell_type": "code",
   "execution_count": 37,
   "metadata": {},
   "outputs": [],
   "source": [
    "title = dominate.tags.title('title')"
   ]
  },
  {
   "cell_type": "code",
   "execution_count": 41,
   "metadata": {},
   "outputs": [
    {
     "data": {
      "text/plain": [
       "'<title>title<div>test</div></title>'"
      ]
     },
     "execution_count": 41,
     "metadata": {},
     "output_type": "execute_result"
    }
   ],
   "source": [
    "title.render(pretty=False)"
   ]
  },
  {
   "cell_type": "code",
   "execution_count": 111,
   "metadata": {},
   "outputs": [],
   "source": [
    "title.text += ' (selected)'"
   ]
  },
  {
   "cell_type": "code",
   "execution_count": 39,
   "metadata": {},
   "outputs": [],
   "source": [
    "with title:\n",
    "    dominate.tags.div('test')"
   ]
  },
  {
   "cell_type": "code",
   "execution_count": 2,
   "metadata": {},
   "outputs": [
    {
     "name": "stderr",
     "output_type": "stream",
     "text": [
      "/Users/leo/micromamba/envs/simulated_web_agent/lib/python3.9/site-packages/gymnasium/utils/passive_env_checker.py:181: DeprecationWarning: \u001b[33mWARN: Current gymnasium version requires that `Env.reset` can be passed `options` to allow the environment initialisation to be passed additional information.\u001b[0m\n",
      "  logger.deprecation(\n"
     ]
    },
    {
     "name": "stdout",
     "output_type": "stream",
     "text": [
      "/\n"
     ]
    },
    {
     "name": "stderr",
     "output_type": "stream",
     "text": [
      "/Users/leo/micromamba/envs/simulated_web_agent/lib/python3.9/site-packages/gymnasium/utils/passive_env_checker.py:159: UserWarning: \u001b[33mWARN: The obs returned by the `reset()` method is not within the observation space.\u001b[0m\n",
      "  logger.warn(f\"{pre} is not within the observation space.\")\n"
     ]
    }
   ],
   "source": [
    "logging.basicConfig()\n",
    "env: SeleniumEnv = gym.make(\n",
    "    \"SeleniumEnv-v0\",\n",
    "    start_url=\"http://ec2-3-131-244-37.us-east-2.compute.amazonaws.com:7770/\",\n",
    "    pretty=True,\n",
    "    headless=False,\n",
    ")\n",
    "observation, info = env.reset()"
   ]
  },
  {
   "cell_type": "code",
   "execution_count": 3,
   "metadata": {},
   "outputs": [
    {
     "name": "stderr",
     "output_type": "stream",
     "text": [
      "/Users/leo/micromamba/envs/simulated_web_agent/lib/python3.9/site-packages/gymnasium/core.py:311: UserWarning: \u001b[33mWARN: env.browser to get variables from other wrappers is deprecated and will be removed in v1.0, to get this variable you can do `env.unwrapped.browser` for environment variables or `env.get_wrapper_attr('browser')` that will search the reminding wrappers.\u001b[0m\n",
      "  logger.warn(\n"
     ]
    }
   ],
   "source": [
    "env.browser.type_and_submit('header.search_box.search_input', 'test')"
   ]
  },
  {
   "cell_type": "code",
   "execution_count": 6,
   "metadata": {},
   "outputs": [],
   "source": [
    "env.browser.type_and_submit('header.search_box.search_input', 'rain coat')"
   ]
  },
  {
   "cell_type": "code",
   "execution_count": 3,
   "metadata": {},
   "outputs": [
    {
     "name": "stdout",
     "output_type": "stream",
     "text": [
      "/\n"
     ]
    },
    {
     "name": "stderr",
     "output_type": "stream",
     "text": [
      "/Users/leo/micromamba/envs/simulated_web_agent/lib/python3.9/site-packages/gymnasium/utils/passive_env_checker.py:159: UserWarning: \u001b[33mWARN: The obs returned by the `step()` method is not within the observation space.\u001b[0m\n",
      "  logger.warn(f\"{pre} is not within the observation space.\")\n"
     ]
    },
    {
     "data": {
      "text/plain": [
       "({'url': 'http://ec2-3-131-244-37.us-east-2.compute.amazonaws.com:7770/',\n",
       "  'page': '<html>\\n  <head>\\n    <title>One Stop Market</title>\\n  </head>\\n  <body>\\n    <div name=\"header\">\\n      <form name=\"header.search_box\">\\n        <input name=\"header.search_box.search_input\" type=\"text\" value=\"waterproof coat\">\\n        <button name=\"header.search_box.search_button\" title=\"Search\" type=\"submit\">Search</button>\\n      </form>\\n      <div name=\"header.minicart\">\\n        <a href=\"http://ec2-3-131-244-37.us-east-2.compute.amazonaws.com:7770/checkout/cart/\" name=\"header.minicart.view_cart\">Go to cart\\n          <span>\\n            \\n            </span>\\n        </a>\\n      </div>\\n    </div>\\n    <div name=\"product_showcases\">Product Showcases\\n      <div class=\"product-item-info\" name=\"product_showcases.prebaked_gingerbread_house_kit_value_pack_17_oz_pack_of_2_total_34_oz\">\\n        <img alt=\"Image\" src=\"http://ec2-3-131-244-37.us-east-2.compute.amazonaws.com:7770/media/catalog/product/cache/89ff578b9cd87e0600daac45c9e1ea98/B/0/B08PCSHBXY.0.jpg\">\\n        <div>\\n          <span>Rating: 20%</span>\\n          <a href=\"http://ec2-3-131-244-37.us-east-2.compute.amazonaws.com:7770/pre-baked-gingerbread-house-kit-value-pack-17-oz-pack-of-2-total-34-oz.html#reviews\" name=\"product_showcases.prebaked_gingerbread_house_kit_value_pack_17_oz_pack_of_2_total_34_oz.rating\">1 \\xa0Review</a>\\n          <a href=\"http://ec2-3-131-244-37.us-east-2.compute.amazonaws.com:7770/pre-baked-gingerbread-house-kit-value-pack-17-oz-pack-of-2-total-34-oz.html\" name=\"product_showcases.prebaked_gingerbread_house_kit_value_pack_17_oz_pack_of_2_total_34_oz.view_product\" title=\"Pre-baked Gingerbread House Kit Value Pack, 17 oz., Pack of 2, Total 34 oz.\">Pre-baked Gingerbread House Kit Value Pack, 17 oz., Pack of 2, Total 34 oz.</a>\\n          <div>$19.99</div>\\n          <button name=\"product_showcases.prebaked_gingerbread_house_kit_value_pack_17_oz_pack_of_2_total_34_oz.add_to_cart\">Add to Cart</button>\\n        </div>\\n      </div>\\n      <div class=\"product-item-info\" name=\"product_showcases.v8_energy_healthy_energy_drink_steady_energy_from_black_and_green_tea_pomegranate_blueberry_8_ounce_can_pack_of_24\">\\n        <img alt=\"Image\" src=\"http://ec2-3-131-244-37.us-east-2.compute.amazonaws.com:7770/media/catalog/product/cache/89ff578b9cd87e0600daac45c9e1ea98/B/0/B00CPTR7WS.0.jpg\">\\n        <div>\\n          <span>Rating: 57%</span>\\n          <a href=\"http://ec2-3-131-244-37.us-east-2.compute.amazonaws.com:7770/v8-energy-healthy-energy-drink-steady-energy-from-black-and-green-tea-pomegranate-blueberry-8-ounce-can-pack-of-24.html#reviews\" name=\"product_showcases.v8_energy_healthy_energy_drink_steady_energy_from_black_and_green_tea_pomegranate_blueberry_8_ounce_can_pack_of_24.rating\">12 \\xa0Reviews</a>\\n          <a href=\"http://ec2-3-131-244-37.us-east-2.compute.amazonaws.com:7770/v8-energy-healthy-energy-drink-steady-energy-from-black-and-green-tea-pomegranate-blueberry-8-ounce-can-pack-of-24.html\" name=\"product_showcases.v8_energy_healthy_energy_drink_steady_energy_from_black_and_green_tea_pomegranate_blueberry_8_ounce_can_pack_of_24.view_product\" title=\"V8 +Energy, Healthy Energy Drink, Steady Energy from Black and Green Tea, Pomegranate Blueberry, 8 Ounce Can ,Pack of 24\">V8 +Energy, Healthy Energy Drink, Steady Energy from Black and Green Tea, Pomegranate Blueberry, 8 Ounce Can ,Pack of 24</a>\\n          <div>$14.47</div>\\n          <button name=\"product_showcases.v8_energy_healthy_energy_drink_steady_energy_from_black_and_green_tea_pomegranate_blueberry_8_ounce_can_pack_of_24.add_to_cart\">Add to Cart</button>\\n        </div>\\n      </div>\\n      <div class=\"product-item-info\" name=\"product_showcases.belle_of_the_ball_princess_sprinkle_mix_wedding_colorful_sprinkles_cake_cupcake_cookie_sprinkles_ice_cream_candy_sprinkles_yellow_gold_red_royal_red_rose_icing_flowers_decorating_sprinkles_8oz\">\\n        <img alt=\"Image\" src=\"http://ec2-3-131-244-37.us-east-2.compute.amazonaws.com:7770/media/catalog/product/cache/89ff578b9cd87e0600daac45c9e1ea98/B/0/B08743KW8M.0.jpg\">\\n        <div>\\n          <span>Rating: 63%</span>\\n          <a href=\"http://ec2-3-131-244-37.us-east-2.compute.amazonaws.com:7770/belle-of-the-ball-princess-sprinkle-mix-wedding-colorful-sprinkles-cake-cupcake-cookie-sprinkles-ice-cream-candy-sprinkles-yellow-gold-red-royal-red-rose-icing-flowers-decorating-sprinkles-8oz.html#reviews\" name=\"product_showcases.belle_of_the_ball_princess_sprinkle_mix_wedding_colorful_sprinkles_cake_cupcake_cookie_sprinkles_ice_cream_candy_sprinkles_yellow_gold_red_royal_red_rose_icing_flowers_decorating_sprinkles_8oz.rating\">12 \\xa0Reviews</a>\\n          <a href=\"http://ec2-3-131-244-37.us-east-2.compute.amazonaws.com:7770/belle-of-the-ball-princess-sprinkle-mix-wedding-colorful-sprinkles-cake-cupcake-cookie-sprinkles-ice-cream-candy-sprinkles-yellow-gold-red-royal-red-rose-icing-flowers-decorating-sprinkles-8oz.html\" name=\"product_showcases.belle_of_the_ball_princess_sprinkle_mix_wedding_colorful_sprinkles_cake_cupcake_cookie_sprinkles_ice_cream_candy_sprinkles_yellow_gold_red_royal_red_rose_icing_flowers_decorating_sprinkles_8oz.view_product\" title=\"Belle Of The Ball Princess Sprinkle Mix| Wedding Colorful Sprinkles| Cake Cupcake Cookie Sprinkles| Ice cream Candy Sprinkles| Yellow Gold Red Royal Red Rose Icing Flowers Decorating Sprinkles, 8OZ\">Belle Of The Ball Princess Sprinkle Mix| Wedding Colorful Sprinkles| Cake Cupcake Cookie Sprinkles| Ice cream Candy Sprinkles| Yellow Gold Red Royal Red Rose Icing Flowers Decorating Sprinkles, 8OZ</a>\\n          <div>$23.50</div>\\n          <button name=\"product_showcases.belle_of_the_ball_princess_sprinkle_mix_wedding_colorful_sprinkles_cake_cupcake_cookie_sprinkles_ice_cream_candy_sprinkles_yellow_gold_red_royal_red_rose_icing_flowers_decorating_sprinkles_8oz.add_to_cart\">Add to Cart</button>\\n        </div>\\n      </div>\\n      <div class=\"product-item-info\" name=\"product_showcases.so_delicious_dairy_free_cocowhip_light_vegan_nongmo_project_verified_9_oz_tub\">\\n        <img alt=\"Image\" src=\"http://ec2-3-131-244-37.us-east-2.compute.amazonaws.com:7770/media/catalog/product/cache/89ff578b9cd87e0600daac45c9e1ea98/B/0/B01N1QRJNG.0.jpg\">\\n        <div>\\n          <span>Rating: 78%</span>\\n          <a href=\"http://ec2-3-131-244-37.us-east-2.compute.amazonaws.com:7770/so-delicious-dairy-free-cocowhip-light-vegan-non-gmo-project-verified-9-oz-tub.html#reviews\" name=\"product_showcases.so_delicious_dairy_free_cocowhip_light_vegan_nongmo_project_verified_9_oz_tub.rating\">12 \\xa0Reviews</a>\\n          <a href=\"http://ec2-3-131-244-37.us-east-2.compute.amazonaws.com:7770/so-delicious-dairy-free-cocowhip-light-vegan-non-gmo-project-verified-9-oz-tub.html\" name=\"product_showcases.so_delicious_dairy_free_cocowhip_light_vegan_nongmo_project_verified_9_oz_tub.view_product\" title=\"So Delicious Dairy Free CocoWhip Light, Vegan, Non-GMO Project Verified, 9 oz. Tub\">So Delicious Dairy Free CocoWhip Light, Vegan, Non-GMO Project Verified, 9 oz. Tub</a>\\n          <div>$15.62</div>\\n          <button name=\"product_showcases.so_delicious_dairy_free_cocowhip_light_vegan_nongmo_project_verified_9_oz_tub.add_to_cart\">Add to Cart</button>\\n        </div>\\n      </div>\\n      <div class=\"product-item-info\" name=\"product_showcases.cheongeun_sweet_potato_starch_powder_500g_2easweet_potato_55_corn_45\">\\n        <img alt=\"Image\" src=\"http://ec2-3-131-244-37.us-east-2.compute.amazonaws.com:7770/media/catalog/product/cache/89ff578b9cd87e0600daac45c9e1ea98/B/0/B07Y4MC6M5.0.jpg\">\\n        <div>\\n          <a href=\"http://ec2-3-131-244-37.us-east-2.compute.amazonaws.com:7770/cheongeun-sweet-potato-starch-powder-500g-2ea-sweet-potato-55-corn-45.html\" name=\"product_showcases.cheongeun_sweet_potato_starch_powder_500g_2easweet_potato_55_corn_45.view_product\" title=\"Cheongeun Sweet Potato Starch Powder 500g, 2ea(Sweet Potato 55%, Corn 45%)\">Cheongeun Sweet Potato Starch Powder 500g, 2ea(Sweet Potato 55%, Corn 45%)</a>\\n          <div>$34.00</div>\\n          <button name=\"product_showcases.cheongeun_sweet_potato_starch_powder_500g_2easweet_potato_55_corn_45.add_to_cart\">Add to Cart</button>\\n        </div>\\n      </div>\\n      <div class=\"product-item-info\" name=\"product_showcases.q_mixers_premium_ginger_ale_real_ingredients__less_sweet_67_fl_oz_24_bottles\">\\n        <img alt=\"Image\" src=\"http://ec2-3-131-244-37.us-east-2.compute.amazonaws.com:7770/media/catalog/product/cache/89ff578b9cd87e0600daac45c9e1ea98/B/0/B071KC37VD.0.jpg\">\\n        <div>\\n          <span>Rating: 88%</span>\\n          <a href=\"http://ec2-3-131-244-37.us-east-2.compute.amazonaws.com:7770/q-mixers-premium-ginger-ale-real-ingredients-less-sweet-6-7-fl-oz-24-bottles.html#reviews\" name=\"product_showcases.q_mixers_premium_ginger_ale_real_ingredients__less_sweet_67_fl_oz_24_bottles.rating\">12 \\xa0Reviews</a>\\n          <a href=\"http://ec2-3-131-244-37.us-east-2.compute.amazonaws.com:7770/q-mixers-premium-ginger-ale-real-ingredients-less-sweet-6-7-fl-oz-24-bottles.html\" name=\"product_showcases.q_mixers_premium_ginger_ale_real_ingredients__less_sweet_67_fl_oz_24_bottles.view_product\" title=\"Q Mixers Premium Ginger Ale: Real Ingredients &amp; Less Sweet, 6.7 Fl Oz (24 Bottles)\">Q Mixers Premium Ginger Ale: Real Ingredients &amp; Less Sweet, 6.7 Fl Oz (24 Bottles)</a>\\n          <div>$68.50</div>\\n          <button name=\"product_showcases.q_mixers_premium_ginger_ale_real_ingredients__less_sweet_67_fl_oz_24_bottles.add_to_cart\">Add to Cart</button>\\n        </div>\\n      </div>\\n      <div class=\"product-item-info\" name=\"product_showcases.stove_top_turkey_stuffing_mix_12_oz_boxes_pack_of_2\">\\n        <img alt=\"Image\" src=\"http://ec2-3-131-244-37.us-east-2.compute.amazonaws.com:7770/media/catalog/product/cache/89ff578b9cd87e0600daac45c9e1ea98/B/0/B004U5F23G.0.jpg\">\\n        <div>\\n          <span>Rating: 85%</span>\\n          <a href=\"http://ec2-3-131-244-37.us-east-2.compute.amazonaws.com:7770/stove-top-turkey-stuffing-mix-12-oz-boxes-pack-of-2.html#reviews\" name=\"product_showcases.stove_top_turkey_stuffing_mix_12_oz_boxes_pack_of_2.rating\">12 \\xa0Reviews</a>\\n          <a href=\"http://ec2-3-131-244-37.us-east-2.compute.amazonaws.com:7770/stove-top-turkey-stuffing-mix-12-oz-boxes-pack-of-2.html\" name=\"product_showcases.stove_top_turkey_stuffing_mix_12_oz_boxes_pack_of_2.view_product\" title=\"Stove Top Turkey Stuffing Mix (12 oz Boxes, Pack of 2)\">Stove Top Turkey Stuffing Mix (12 oz Boxes, Pack of 2)</a>\\n          <div>$8.49</div>\\n          <button name=\"product_showcases.stove_top_turkey_stuffing_mix_12_oz_boxes_pack_of_2.add_to_cart\">Add to Cart</button>\\n        </div>\\n      </div>\\n      <div class=\"product-item-info\" name=\"product_showcases.briess_dme__pilsen_light__1_lb_bag\">\\n        <img alt=\"Image\" src=\"http://ec2-3-131-244-37.us-east-2.compute.amazonaws.com:7770/media/catalog/product/cache/89ff578b9cd87e0600daac45c9e1ea98/B/0/B074DBMG66.0.jpg\">\\n        <div>\\n          <a href=\"http://ec2-3-131-244-37.us-east-2.compute.amazonaws.com:7770/briess-dme-pilsen-light-1-lb-bag.html\" name=\"product_showcases.briess_dme__pilsen_light__1_lb_bag.view_product\" title=\"Briess DME - Pilsen Light - 1 lb Bag\">Briess DME - Pilsen Light - 1 lb Bag</a>\\n          <div>$12.99</div>\\n          <button name=\"product_showcases.briess_dme__pilsen_light__1_lb_bag.add_to_cart\">Add to Cart</button>\\n        </div>\\n      </div>\\n      <div class=\"product-item-info\" name=\"product_showcases.tony_chacheres_more_spice_creole_seasoning__14_oz\">\\n        <img alt=\"Image\" src=\"http://ec2-3-131-244-37.us-east-2.compute.amazonaws.com:7770/media/catalog/product/cache/89ff578b9cd87e0600daac45c9e1ea98/B/0/B001Q1J3QY.0.jpg\">\\n        <div>\\n          <span>Rating: 75%</span>\\n          <a href=\"http://ec2-3-131-244-37.us-east-2.compute.amazonaws.com:7770/tony-chachere-s-more-spice-creole-seasoning-14-oz.html#reviews\" name=\"product_showcases.tony_chacheres_more_spice_creole_seasoning__14_oz.rating\">12 \\xa0Reviews</a>\\n          <a href=\"http://ec2-3-131-244-37.us-east-2.compute.amazonaws.com:7770/tony-chachere-s-more-spice-creole-seasoning-14-oz.html\" name=\"product_showcases.tony_chacheres_more_spice_creole_seasoning__14_oz.view_product\" title=\"Tony Chachere\\'s More Spice Creole Seasoning - 14 oz\">Tony Chachere\\'s More Spice Creole Seasoning - 14 oz</a>\\n          <div>$7.92</div>\\n          <button name=\"product_showcases.tony_chacheres_more_spice_creole_seasoning__14_oz.add_to_cart\">Add to Cart</button>\\n        </div>\\n      </div>\\n      <div class=\"product-item-info\" name=\"product_showcases.lobster_cobbler_pot_pie__gourmet_frozen_seafood_appetizers_set_of_8_trays\">\\n        <img alt=\"Image\" src=\"http://ec2-3-131-244-37.us-east-2.compute.amazonaws.com:7770/media/catalog/product/cache/89ff578b9cd87e0600daac45c9e1ea98/B/0/B0793RMRGT.0.jpg\">\\n        <div>\\n          <a href=\"http://ec2-3-131-244-37.us-east-2.compute.amazonaws.com:7770/lobster-cobbler-pot-pie-gourmet-frozen-seafood-appetizers-set-of-8-trays.html\" name=\"product_showcases.lobster_cobbler_pot_pie__gourmet_frozen_seafood_appetizers_set_of_8_trays.view_product\" title=\"Lobster Cobbler Pot Pie - Gourmet Frozen Seafood Appetizers (Set of 8 Trays)\">Lobster Cobbler Pot Pie - Gourmet Frozen Seafood Appetizers (Set of 8 Trays)</a>\\n          <div>$411.76</div>\\n          <button name=\"product_showcases.lobster_cobbler_pot_pie__gourmet_frozen_seafood_appetizers_set_of_8_trays.add_to_cart\">Add to Cart</button>\\n        </div>\\n      </div>\\n      <div class=\"product-item-info\" name=\"product_showcases.crunchy_rice_rollers__gluten_free__vegan__35_oz_individual_packs_4_packs_of_8_rollers\">\\n        <img alt=\"Image\" src=\"http://ec2-3-131-244-37.us-east-2.compute.amazonaws.com:7770/media/catalog/product/cache/89ff578b9cd87e0600daac45c9e1ea98/B/0/B00J7HXXGA.0.jpg\">\\n        <div>\\n          <span>Rating: 83%</span>\\n          <a href=\"http://ec2-3-131-244-37.us-east-2.compute.amazonaws.com:7770/crunchy-rice-rollers-gluten-free-vegan-3-5-oz-individual-packs-4-packs-of-8-rollers.html#reviews\" name=\"product_showcases.crunchy_rice_rollers__gluten_free__vegan__35_oz_individual_packs_4_packs_of_8_rollers.rating\">12 \\xa0Reviews</a>\\n          <a href=\"http://ec2-3-131-244-37.us-east-2.compute.amazonaws.com:7770/crunchy-rice-rollers-gluten-free-vegan-3-5-oz-individual-packs-4-packs-of-8-rollers.html\" name=\"product_showcases.crunchy_rice_rollers__gluten_free__vegan__35_oz_individual_packs_4_packs_of_8_rollers.view_product\" title=\"Crunchy Rice Rollers - Gluten Free - Vegan - 3.5 oz Individual Packs (4 Packs of 8 Rollers)\">Crunchy Rice Rollers - Gluten Free - Vegan - 3.5 oz Individual Packs (4 Packs of 8 Rollers)</a>\\n          <div>$11.50</div>\\n          <button name=\"product_showcases.crunchy_rice_rollers__gluten_free__vegan__35_oz_individual_packs_4_packs_of_8_rollers.add_to_cart\">Add to Cart</button>\\n        </div>\\n      </div>\\n      <div class=\"product-item-info\" name=\"product_showcases.20_pcs_balls_cake_topper_mini_balloons_cake_topper_pearl_balls_cake_pick_foam_ball_cupcake_topper_baking_decoration_supplies_toothpick_party_wedding_anniversary_birthday_baby_shower_cake_decoration\">\\n        <img alt=\"Image\" src=\"http://ec2-3-131-244-37.us-east-2.compute.amazonaws.com:7770/media/catalog/product/cache/89ff578b9cd87e0600daac45c9e1ea98/B/0/B09GFC1D5R.0.jpg\">\\n        <div>\\n          <span>Rating: 62%</span>\\n          <a href=\"http://ec2-3-131-244-37.us-east-2.compute.amazonaws.com:7770/20-pcs-balls-cake-topper-mini-balloons-cake-topper-pearl-balls-cake-pick-foam-ball-cupcake-topper-baking-decoration-supplies-toothpick-party-wedding-anniversary-birthday-baby-shower-cake-decoration.html#reviews\" name=\"product_showcases.20_pcs_balls_cake_topper_mini_balloons_cake_topper_pearl_balls_cake_pick_foam_ball_cupcake_topper_baking_decoration_supplies_toothpick_party_wedding_anniversary_birthday_baby_shower_cake_decoration.rating\">11 \\xa0Reviews</a>\\n          <a href=\"http://ec2-3-131-244-37.us-east-2.compute.amazonaws.com:7770/20-pcs-balls-cake-topper-mini-balloons-cake-topper-pearl-balls-cake-pick-foam-ball-cupcake-topper-baking-decoration-supplies-toothpick-party-wedding-anniversary-birthday-baby-shower-cake-decoration.html\" name=\"product_showcases.20_pcs_balls_cake_topper_mini_balloons_cake_topper_pearl_balls_cake_pick_foam_ball_cupcake_topper_baking_decoration_supplies_toothpick_party_wedding_anniversary_birthday_baby_shower_cake_decoration.view_product\" title=\"20 PCS Balls Cake Topper Mini Balloons Cake Topper Pearl Balls Cake Pick Foam Ball Cupcake Topper Baking Decoration Supplies Toothpick Party Wedding Anniversary Birthday Baby Shower Cake Decoration\">20 PCS Balls Cake Topper Mini Balloons Cake Topper Pearl Balls Cake Pick Foam Ball Cupcake Topper Baking Decoration Supplies Toothpick Party Wedding Anniversary Birthday Baby Shower Cake Decoration</a>\\n          <div>$9.49</div>\\n          <button name=\"product_showcases.20_pcs_balls_cake_topper_mini_balloons_cake_topper_pearl_balls_cake_pick_foam_ball_cupcake_topper_baking_decoration_supplies_toothpick_party_wedding_anniversary_birthday_baby_shower_cake_decoration.add_to_cart\">Add to Cart</button>\\n        </div>\\n      </div>\\n    </div>\\n  </body>\\n</html>',\n",
       "  'clickables': ['header.search_box.search_button',\n",
       "   'header.minicart.view_cart',\n",
       "   'product_showcases.prebaked_gingerbread_house_kit_value_pack_17_oz_pack_of_2_total_34_oz.view_product',\n",
       "   'product_showcases.prebaked_gingerbread_house_kit_value_pack_17_oz_pack_of_2_total_34_oz.add_to_cart',\n",
       "   'product_showcases.v8_energy_healthy_energy_drink_steady_energy_from_black_and_green_tea_pomegranate_blueberry_8_ounce_can_pack_of_24.view_product',\n",
       "   'product_showcases.v8_energy_healthy_energy_drink_steady_energy_from_black_and_green_tea_pomegranate_blueberry_8_ounce_can_pack_of_24.add_to_cart',\n",
       "   'product_showcases.belle_of_the_ball_princess_sprinkle_mix_wedding_colorful_sprinkles_cake_cupcake_cookie_sprinkles_ice_cream_candy_sprinkles_yellow_gold_red_royal_red_rose_icing_flowers_decorating_sprinkles_8oz.view_product',\n",
       "   'product_showcases.belle_of_the_ball_princess_sprinkle_mix_wedding_colorful_sprinkles_cake_cupcake_cookie_sprinkles_ice_cream_candy_sprinkles_yellow_gold_red_royal_red_rose_icing_flowers_decorating_sprinkles_8oz.add_to_cart',\n",
       "   'product_showcases.so_delicious_dairy_free_cocowhip_light_vegan_nongmo_project_verified_9_oz_tub.view_product',\n",
       "   'product_showcases.so_delicious_dairy_free_cocowhip_light_vegan_nongmo_project_verified_9_oz_tub.add_to_cart',\n",
       "   'product_showcases.cheongeun_sweet_potato_starch_powder_500g_2easweet_potato_55_corn_45.view_product',\n",
       "   'product_showcases.cheongeun_sweet_potato_starch_powder_500g_2easweet_potato_55_corn_45.add_to_cart',\n",
       "   'product_showcases.q_mixers_premium_ginger_ale_real_ingredients__less_sweet_67_fl_oz_24_bottles.view_product',\n",
       "   'product_showcases.q_mixers_premium_ginger_ale_real_ingredients__less_sweet_67_fl_oz_24_bottles.add_to_cart',\n",
       "   'product_showcases.stove_top_turkey_stuffing_mix_12_oz_boxes_pack_of_2.view_product',\n",
       "   'product_showcases.stove_top_turkey_stuffing_mix_12_oz_boxes_pack_of_2.add_to_cart',\n",
       "   'product_showcases.briess_dme__pilsen_light__1_lb_bag.view_product',\n",
       "   'product_showcases.briess_dme__pilsen_light__1_lb_bag.add_to_cart',\n",
       "   'product_showcases.tony_chacheres_more_spice_creole_seasoning__14_oz.view_product',\n",
       "   'product_showcases.tony_chacheres_more_spice_creole_seasoning__14_oz.add_to_cart',\n",
       "   'product_showcases.lobster_cobbler_pot_pie__gourmet_frozen_seafood_appetizers_set_of_8_trays.view_product',\n",
       "   'product_showcases.lobster_cobbler_pot_pie__gourmet_frozen_seafood_appetizers_set_of_8_trays.add_to_cart',\n",
       "   'product_showcases.crunchy_rice_rollers__gluten_free__vegan__35_oz_individual_packs_4_packs_of_8_rollers.view_product',\n",
       "   'product_showcases.crunchy_rice_rollers__gluten_free__vegan__35_oz_individual_packs_4_packs_of_8_rollers.add_to_cart',\n",
       "   'product_showcases.20_pcs_balls_cake_topper_mini_balloons_cake_topper_pearl_balls_cake_pick_foam_ball_cupcake_topper_baking_decoration_supplies_toothpick_party_wedding_anniversary_birthday_baby_shower_cake_decoration.view_product',\n",
       "   'product_showcases.20_pcs_balls_cake_topper_mini_balloons_cake_topper_pearl_balls_cake_pick_foam_ball_cupcake_topper_baking_decoration_supplies_toothpick_party_wedding_anniversary_birthday_baby_shower_cake_decoration.add_to_cart'],\n",
       "  'inputs': ['header.search_box.search_input'],\n",
       "  'error_message': ''},\n",
       " 0,\n",
       " False,\n",
       " False,\n",
       " {})"
      ]
     },
     "execution_count": 3,
     "metadata": {},
     "output_type": "execute_result"
    }
   ],
   "source": [
    "env.step('{\"type\": \"type_and_submit\", \"name\": \"header.search_box.search_input\", \"text\": \"waterproof coat\"}')"
   ]
  },
  {
   "cell_type": "code",
   "execution_count": null,
   "metadata": {},
   "outputs": [],
   "source": []
  }
 ],
 "metadata": {
  "kernelspec": {
   "display_name": "simulated_web_agent",
   "language": "python",
   "name": "python3"
  },
  "language_info": {
   "codemirror_mode": {
    "name": "ipython",
    "version": 3
   },
   "file_extension": ".py",
   "mimetype": "text/x-python",
   "name": "python",
   "nbconvert_exporter": "python",
   "pygments_lexer": "ipython3",
   "version": "3.9.19"
  }
 },
 "nbformat": 4,
 "nbformat_minor": 2
}
